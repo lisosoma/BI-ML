{
  "metadata": {
    "kernelspec": {
      "language": "python",
      "display_name": "Python 3",
      "name": "python3"
    },
    "language_info": {
      "name": "python",
      "version": "3.7.12",
      "mimetype": "text/x-python",
      "codemirror_mode": {
        "name": "ipython",
        "version": 3
      },
      "pygments_lexer": "ipython3",
      "nbconvert_exporter": "python",
      "file_extension": ".py"
    },
    "colab": {
      "name": "HW3_decision_tree.ipynb",
      "provenance": [],
      "collapsed_sections": [],
      "include_colab_link": true
    }
  },
  "nbformat_minor": 0,
  "nbformat": 4,
  "cells": [
    {
      "cell_type": "markdown",
      "metadata": {
        "id": "view-in-github",
        "colab_type": "text"
      },
      "source": [
        "<a href=\"https://colab.research.google.com/github/lisosoma/BI_ML/blob/main/HW3_decision_tree.ipynb\" target=\"_parent\"><img src=\"https://colab.research.google.com/assets/colab-badge.svg\" alt=\"Open In Colab\"/></a>"
      ]
    },
    {
      "cell_type": "markdown",
      "source": [
        "# Деревья решений решают проблемы\n",
        "__Суммарное количество баллов: 10__\n",
        "\n",
        "Вы уже знакомы с классификацией методом KNN. В этом задании предстоит реализовать другой метод классификации - дерево решений. \n",
        "\n",
        "Одной из его особенностей является возможность объяснить в человекочитаемой форме, почему мы отнесли объект к определенному классу. Эта особенность позволяет использовать деревья решений для создания систем, которые могут подсказывать специалистам, на что именно стоит обратить внимание при принятии решений."
      ],
      "metadata": {
        "id": "VFMlndpeD9g9"
      }
    },
    {
      "cell_type": "code",
      "source": [
        "from sklearn.datasets import make_blobs, make_moons\n",
        "import numpy as np\n",
        "import pandas as pd\n",
        "import random\n",
        "import matplotlib.pyplot as plt\n",
        "import matplotlib\n",
        "from sklearn.model_selection import train_test_split\n",
        "from collections import Counter\n",
        "from tqdm import tqdm"
      ],
      "metadata": {
        "execution": {
          "iopub.status.busy": "2022-03-02T19:11:48.878408Z",
          "iopub.execute_input": "2022-03-02T19:11:48.878707Z",
          "iopub.status.idle": "2022-03-02T19:11:48.885563Z",
          "shell.execute_reply.started": "2022-03-02T19:11:48.878674Z",
          "shell.execute_reply": "2022-03-02T19:11:48.884526Z"
        },
        "trusted": true,
        "id": "WTaoRewmD9g_"
      },
      "execution_count": null,
      "outputs": []
    },
    {
      "cell_type": "markdown",
      "source": [
        "## Задание 1 (1 балл)"
      ],
      "metadata": {
        "id": "xB0PQk8SD9hA"
      }
    },
    {
      "cell_type": "markdown",
      "source": [
        "Во время построения дерева решений нам потребуется определить, какой из предикатов лучше всего разбивает обучающую выборку. Есть два критерия, которые позволяют это сделать: критерий Джини и энтропийный критерий. Первый для подсчета информативности разбиения использует коэффициент Джини, второй - энтропию. Реализуйте подсчет этих коэффициентов, а так же подсчет информативности разбиения. \n",
        "\n",
        "#### Описание функций\n",
        "`gini(x)` считает коэффициент Джини для массива меток\n",
        "\n",
        "`entropy(x)` считает энтропию для массива меток\n",
        "\n",
        "`gain(left_y, right_y, criterion)` считает информативность разбиения массива меток на левую `left_y` и правую `right_y` части при помощи `criterion`, который задается функцией (не строкой)."
      ],
      "metadata": {
        "id": "6NMGeTw3D9hB"
      }
    },
    {
      "cell_type": "code",
      "source": [
        "def gini(x):\n",
        "    classes = x.values()\n",
        "    return 1 - sum([(n / sum(classes)) ** 2 for n in classes])\n",
        "\n",
        "def entropy(x):\n",
        "    classes = x.values()\n",
        "    return -sum([n / sum(classes) * np.log2(n / sum(classes)) for n in classes])\n",
        "\n",
        "def gain(lefty, righty, criterion):\n",
        "    left, right = Counter(lefty), Counter(righty)\n",
        "    n = left + right\n",
        "    \n",
        "    return (criterion(n) - sum(left) * criterion(left) / \n",
        "            (sum(left) + sum(right) + 1) - sum(right)\n",
        "            * criterion(right) / (sum(left) + sum(right) + 1))"
      ],
      "metadata": {
        "execution": {
          "iopub.status.busy": "2022-03-02T19:12:24.464540Z",
          "iopub.execute_input": "2022-03-02T19:12:24.464864Z",
          "iopub.status.idle": "2022-03-02T19:12:24.475439Z",
          "shell.execute_reply.started": "2022-03-02T19:12:24.464823Z",
          "shell.execute_reply": "2022-03-02T19:12:24.474330Z"
        },
        "trusted": true,
        "id": "r7yQRj30D9hB"
      },
      "execution_count": null,
      "outputs": []
    },
    {
      "cell_type": "markdown",
      "source": [
        "## Задание 2 (1 балл)"
      ],
      "metadata": {
        "id": "1oqlztyBD9hC"
      }
    },
    {
      "cell_type": "markdown",
      "source": [
        "Деревья решений имеют хорошую интерпретируемость, т.к. позволяют не только предсказать класс, но и объяснить, почему мы предсказали именно его. Например, мы можем его нарисовать. Чтобы сделать это, нам необходимо знать, как оно устроено внутри. Реализуйте классы, которые будут задавать структуру дерева. \n",
        "\n",
        "#### DecisionTreeLeaf\n",
        "Поля:\n",
        "1. `y` должно содержать класс, который встречается чаще всего среди элементов листа дерева\n",
        "\n",
        "#### DecisionTreeNode\n",
        "В данной домашней работе мы ограничемся порядковыми и количественными признаками, поэтому достаточно хранить измерение и значение признака, по которому разбиваем обучающую выборку.\n",
        "\n",
        "Поля:\n",
        "1. `split_dim` измерение, по которому разбиваем выборку\n",
        "2. `split_value` значение, по которому разбираем выборку\n",
        "3. `left` поддерево, отвечающее за случай `x[split_dim] < split_value`. Может быть `DecisionTreeNode` или `DecisionTreeLeaf`\n",
        "4. `right` поддерево, отвечающее за случай `x[split_dim] >= split_value`. Может быть `DecisionTreeNode` или `DecisionTreeLeaf`\n",
        "\n",
        "__Интерфейс классов можно и нужно менять при необходимости__ (например, для вычисления вероятности в следующем задании)"
      ],
      "metadata": {
        "id": "gvS-HWcqD9hC"
      }
    },
    {
      "cell_type": "code",
      "source": [
        "class DecisionTreeLeaf:\n",
        "    def __init__(self, y):\n",
        "        self.y = Counter(y).most_common(1)[0][0]\n",
        "        self.data = y\n",
        "\n",
        "class DecisionTreeNode:\n",
        "    def __init__(self, left, right, split_dim, split_value, idx):\n",
        "        self.split_dim = split_dim\n",
        "        self.split_value = split_value\n",
        "        self.left = left\n",
        "        self.right = right\n",
        "        self.idx = idx"
      ],
      "metadata": {
        "execution": {
          "iopub.status.busy": "2022-03-02T19:12:25.163553Z",
          "iopub.execute_input": "2022-03-02T19:12:25.163993Z",
          "iopub.status.idle": "2022-03-02T19:12:25.171317Z",
          "shell.execute_reply.started": "2022-03-02T19:12:25.163962Z",
          "shell.execute_reply": "2022-03-02T19:12:25.170226Z"
        },
        "trusted": true,
        "id": "f3BgnOtCD9hC"
      },
      "execution_count": null,
      "outputs": []
    },
    {
      "cell_type": "markdown",
      "source": [
        "## Задание 3 (6 баллов)"
      ],
      "metadata": {
        "id": "ob8pXjojD9hD"
      }
    },
    {
      "cell_type": "markdown",
      "source": [
        "Теперь перейдем к самому дереву решений. Реализуйте класс `DecisionTreeClassifier`.\n",
        "\n",
        "#### Описание методов\n",
        "`fit(X, y)` строит дерево решений по обучающей выборке.\n",
        "\n",
        "`predict_proba(X)` для каждого элемента из `X` возвращает словарь `dict`, состоящий из пар `(класс, вероятность)`. Вероятности классов в листе можно определить через количество объектов соответствующего класса в листе. \n",
        "\n",
        "#### Описание параметров конструктора\n",
        "`criterion=\"gini\"` - задает критерий, который будет использоваться при построении дерева. Возможные значения: `\"gini\"`, `\"entropy\"`.\n",
        "\n",
        "`max_depth=None` - ограничение глубины дерева. Если `None` - глубина не ограничена\n",
        "\n",
        "`min_samples_leaf=1` - минимальное количество элементов в каждом листе дерева.\n",
        "\n",
        "#### Описание полей\n",
        "`root` - корень дерева. Может быть `DecisionTreeNode` или `DecisionTreeLeaf`"
      ],
      "metadata": {
        "id": "09GGiio3D9hD"
      }
    },
    {
      "cell_type": "code",
      "source": [
        "class DecisionTreeClassifier:\n",
        "    def __init__(self, criterion=None, max_depth=None, min_samples_leaf=30):\n",
        "        self.root = None\n",
        "        self.criterion = criterion\n",
        "        self.max_depth = max_depth\n",
        "        self.min_samples_leaf = min_samples_leaf\n",
        "    \n",
        "    # функция для нахождения наилучших параметров\n",
        "    def best(self, X):\n",
        "        scores = []\n",
        "        \n",
        "        for col in tqdm(X.columns):\n",
        "            impur, spvalue = 0, 0\n",
        "            \n",
        "            if col != 'Expected':\n",
        "                \n",
        "                # будем перебирать только уникальные значения из столбца\n",
        "                for elem in set(X[col]):\n",
        "                    leftX = X[X[col] <= elem]\n",
        "                    rightX = X[X[col] > elem]\n",
        "                    current = gain(leftX['Expected'], rightX['Expected'], \n",
        "                                            self.criterion)\n",
        "                    if current > impur:\n",
        "                        impur, spvalue = current, elem\n",
        "                        \n",
        "                scores.append([impur, spvalue, col])\n",
        "                \n",
        "        impur, spvalue, spdim = max(scores, key=lambda x: x[0])\n",
        "        \n",
        "        return impur, spvalue, spdim\n",
        "    \n",
        "    # функция для создания дерева\n",
        "    # так как глубина дерева может быть любой\n",
        "    # данную функцию нужно будет рекурсивно вызывать\n",
        "    # рекурсия завершается лишь в том случае\n",
        "    # когда глубина дерева достигает максимальной\n",
        "    \n",
        "    def tree(self, X, y, depth_tree):\n",
        "        X['Expected'] = y\n",
        "        \n",
        "        # если достигли максимальной глубины, то прерываем рекурсию\n",
        "        if depth_tree == self.max_depth:\n",
        "            return DecisionTreeLeaf(y)\n",
        "        \n",
        "        impur, spvalue, spdim = self.best(X)\n",
        "        \n",
        "        xleft = X[X[spdim] <= spvalue].drop('Expected', axis=1)\n",
        "        xright = X[X[spdim] > spvalue].drop('Expected', axis = 1)\n",
        "        yleft = X[X[spdim] <= spvalue]['Expected']\n",
        "        yright = X[X[spdim] > spvalue]['Expected']\n",
        "        \n",
        "        if len(yleft) < self.min_samples_leaf or len(yright) < self.min_samples_leaf:\n",
        "            return DecisionTreeLeaf(y)\n",
        "        \n",
        "        left = self.tree(xleft, yleft, depth_tree + 1)\n",
        "        right = self.tree(xright, yright, depth_tree + 1)\n",
        "        \n",
        "        return DecisionTreeNode(left, right, spdim, spvalue, impur)\n",
        "    \n",
        "    def fit(self, X, y):\n",
        "        self.root = self.tree(X, y, 0)\n",
        "    \n",
        "    def predict_proba(self, X):\n",
        "        ans = []\n",
        "        \n",
        "        for idx, x in X.iterrows():\n",
        "            root = self.root\n",
        "            \n",
        "            while isinstance(root, DecisionTreeNode):\n",
        "                if x[root.split_dim] <= root.split_value:\n",
        "                    root = root.left\n",
        "                else:\n",
        "                    root = root.right\n",
        "                    \n",
        "            buf = Counter(root.data)\n",
        "            \n",
        "            ans.append({0 : buf[0] / (buf[0] + buf[1]), 1 : buf[1] / (buf[0] + buf[1])})\n",
        "        return ans\n",
        "    \n",
        "    def predict(self, X):\n",
        "        prob = self.predict_proba(X)\n",
        "        \n",
        "        return [max(p.keys(), key=lambda k: p[k]) for p in prob]"
      ],
      "metadata": {
        "execution": {
          "iopub.status.busy": "2022-03-02T19:12:25.815534Z",
          "iopub.execute_input": "2022-03-02T19:12:25.815950Z",
          "iopub.status.idle": "2022-03-02T19:12:25.837305Z",
          "shell.execute_reply.started": "2022-03-02T19:12:25.815907Z",
          "shell.execute_reply": "2022-03-02T19:12:25.836003Z"
        },
        "trusted": true,
        "id": "BY1_hjE6D9hE"
      },
      "execution_count": null,
      "outputs": []
    },
    {
      "cell_type": "markdown",
      "source": [
        "Построенное дерево можно нарисовать. Метод `draw_tree` рисует дерево и сохраняет его в указанный файл."
      ],
      "metadata": {
        "id": "x3oE0LMcD9hF"
      }
    },
    {
      "cell_type": "code",
      "source": [
        "def tree_depth(tree_root):\n",
        "    if isinstance(tree_root, DecisionTreeNode):\n",
        "        return max(tree_depth(tree_root.left), tree_depth(tree_root.right)) + 1\n",
        "    else:\n",
        "        return 1\n",
        "\n",
        "def draw_tree_rec(tree_root, x_left, x_right, y):\n",
        "    x_center = (x_right - x_left) / 2 + x_left\n",
        "    if isinstance(tree_root, DecisionTreeNode):\n",
        "        x_center = (x_right - x_left) / 2 + x_left\n",
        "        x = draw_tree_rec(tree_root.left, x_left, x_center, y - 1)\n",
        "        plt.plot((x_center, x), (y - 0.1, y - 0.9), c=(0, 0, 0))\n",
        "        x = draw_tree_rec(tree_root.right, x_center, x_right, y - 1)\n",
        "        plt.plot((x_center, x), (y - 0.1, y - 0.9), c=(0, 0, 0))\n",
        "        plt.text(x_center, y, \"x[{}] < {}\".format(tree_root.split_dim, tree_root.split_value),\n",
        "                horizontalalignment='center')\n",
        "    else:\n",
        "        plt.text(x_center, y, str(tree_root.y),\n",
        "                horizontalalignment='center')\n",
        "    return x_center\n",
        "\n",
        "def draw_tree(tree, save_path=None):\n",
        "    td = tree_depth(tree.root)\n",
        "    plt.figure(figsize=(0.33 * 2 ** td, 2 * td))\n",
        "    plt.xlim(-1, 1)\n",
        "    plt.ylim(0.95, td + 0.05)\n",
        "    plt.axis('off')\n",
        "    draw_tree_rec(tree.root, -1, 1, td)\n",
        "    plt.tight_layout()\n",
        "    if save_path is not None:\n",
        "        plt.savefig(save_path)\n",
        "    plt.show()"
      ],
      "metadata": {
        "execution": {
          "iopub.status.busy": "2022-03-02T19:12:26.399884Z",
          "iopub.execute_input": "2022-03-02T19:12:26.400921Z",
          "iopub.status.idle": "2022-03-02T19:12:26.414015Z",
          "shell.execute_reply.started": "2022-03-02T19:12:26.400856Z",
          "shell.execute_reply": "2022-03-02T19:12:26.412845Z"
        },
        "trusted": true,
        "id": "Op_YpN59D9hF"
      },
      "execution_count": null,
      "outputs": []
    },
    {
      "cell_type": "markdown",
      "source": [
        "Для двумерного набора данных дерево можно отобразить на плоскости с данными. Кроме того, как и для любого классификатора, для него можно построить roc-кривую"
      ],
      "metadata": {
        "id": "NPO6XR-xD9hG"
      }
    },
    {
      "cell_type": "code",
      "source": [
        "\n",
        "def plot_roc_curve(y_test, p_pred):\n",
        "    positive_samples = sum(1 for y in y_test if y == 0)\n",
        "    tpr = []\n",
        "    fpr = []\n",
        "    for w in np.arange(-0.01, 1.02, 0.01):\n",
        "        y_pred = [(0 if p.get(0, 0) > w else 1) for p in p_pred]\n",
        "        tpr.append(sum(1 for yp, yt in zip(y_pred, y_test) if yp == 0 and yt == 0) / positive_samples)\n",
        "        fpr.append(sum(1 for yp, yt in zip(y_pred, y_test) if yp == 0 and yt != 0) / (len(y_test) - positive_samples))\n",
        "    plt.figure(figsize = (7, 7))\n",
        "    plt.plot(fpr, tpr)\n",
        "    plt.plot([0, 1], [0, 1], linestyle=\"--\")\n",
        "    plt.xlabel(\"False positive rate\")\n",
        "    plt.ylabel(\"True positive rate\")\n",
        "    plt.xlim(-0.01, 1.01)\n",
        "    plt.ylim(-0.01, 1.01)\n",
        "    plt.tight_layout()\n",
        "    plt.show()\n",
        "\n",
        "def rectangle_bounds(bounds):\n",
        "    return ((bounds[0][0], bounds[0][0], bounds[0][1], bounds[0][1]), \n",
        "            (bounds[1][0], bounds[1][1], bounds[1][1], bounds[1][0]))\n",
        "\n",
        "def plot_2d_tree(tree_root, bounds, colors):\n",
        "    if isinstance(tree_root, DecisionTreeNode):\n",
        "        if tree_root.split_dim:\n",
        "            plot_2d_tree(tree_root.left, [bounds[0], [bounds[1][0], tree_root.split_value]], colors)\n",
        "            plot_2d_tree(tree_root.right, [bounds[0], [tree_root.split_value, bounds[1][1]]], colors)\n",
        "            plt.plot(bounds[0], (tree_root.split_value, tree_root.split_value), c=(0, 0, 0))\n",
        "        else:\n",
        "            plot_2d_tree(tree_root.left, [[bounds[0][0], tree_root.split_value], bounds[1]], colors)\n",
        "            plot_2d_tree(tree_root.right, [[tree_root.split_value, bounds[0][1]], bounds[1]], colors)\n",
        "            plt.plot((tree_root.split_value, tree_root.split_value), bounds[1], c=(0, 0, 0))\n",
        "    else:\n",
        "        x, y = rectangle_bounds(bounds)\n",
        "        plt.fill(x, y, c=colors[tree_root.y] + [0.2])\n",
        "\n",
        "def plot_2d(tree, X, y):\n",
        "    plt.figure(figsize=(9, 9))\n",
        "    colors = dict((c, list(np.random.random(3))) for c in np.unique(y))\n",
        "    bounds = list(zip(np.min(X, axis=0), np.max(X, axis=0)))\n",
        "    plt.xlim(*bounds[0])\n",
        "    plt.ylim(*bounds[1])\n",
        "    plot_2d_tree(tree.root, list(zip(np.min(X, axis=0), np.max(X, axis=0))), colors)\n",
        "    for c in np.unique(y):\n",
        "        plt.scatter(X[y==c, 0], X[y==c, 1], c=[colors[c]], label=c)\n",
        "    plt.legend()\n",
        "    plt.tight_layout()\n",
        "    plt.show()"
      ],
      "metadata": {
        "execution": {
          "iopub.status.busy": "2022-03-02T19:12:26.945074Z",
          "iopub.execute_input": "2022-03-02T19:12:26.945440Z",
          "iopub.status.idle": "2022-03-02T19:12:26.969898Z",
          "shell.execute_reply.started": "2022-03-02T19:12:26.945400Z",
          "shell.execute_reply": "2022-03-02T19:12:26.968959Z"
        },
        "trusted": true,
        "id": "lWOeBnxYD9hG"
      },
      "execution_count": null,
      "outputs": []
    },
    {
      "cell_type": "markdown",
      "source": [
        "## Задание 4 (2 балла)"
      ],
      "metadata": {
        "id": "j_hFnW11D9hG"
      }
    },
    {
      "cell_type": "markdown",
      "source": [
        "Протестируйте решение на датасете spam.\n",
        "Для этой задачи используйте данные x_spam_train и y_spam_train:\n",
        "1. Выполните загрузку и предобработку файлов x_spam_train и y_spam_train.\n",
        "2. Разбейте x_spam_train и y_spam_train на x_train, y_train, x_test и y_test для оценки точности работы алгоритма.\n",
        "3. Посчитайте метрики `precision`, `recall`, `accuracy` для модели Decision Tree. Если необходимо, попробуйте разные наборы параметров для получения лучшего результата.\n",
        "4. Сравните значения метрик с результатами модели kNN из предыдущего задания (можно использовать реализацию из библиотеки `sklearn`).\n",
        "5. Ответьте на следующие вопросы:\n",
        "    - Какой нужен препроцессинг данных для моделей?\n",
        "    - Какая модель делает предсказания лучше?  Предположите, почему."
      ],
      "metadata": {
        "id": "dGKcfB8OD9hH"
      }
    },
    {
      "cell_type": "code",
      "source": [
        "from sklearn.metrics import accuracy_score, recall_score, precision_score\n",
        "from sklearn.neighbors import KNeighborsClassifier"
      ],
      "metadata": {
        "execution": {
          "iopub.status.busy": "2022-03-02T19:12:27.839662Z",
          "iopub.execute_input": "2022-03-02T19:12:27.840184Z",
          "iopub.status.idle": "2022-03-02T19:12:27.845464Z",
          "shell.execute_reply.started": "2022-03-02T19:12:27.840137Z",
          "shell.execute_reply": "2022-03-02T19:12:27.844170Z"
        },
        "trusted": true,
        "id": "VRdvTTOyD9hH"
      },
      "execution_count": null,
      "outputs": []
    },
    {
      "cell_type": "code",
      "source": [
        "import os\n",
        "for dirname, _, filenames in os.walk('/kaggle/input'):\n",
        "    for filename in filenames:\n",
        "        print(os.path.join(dirname, filename))"
      ],
      "metadata": {
        "execution": {
          "iopub.status.busy": "2022-03-02T19:12:28.113618Z",
          "iopub.execute_input": "2022-03-02T19:12:28.114148Z",
          "iopub.status.idle": "2022-03-02T19:12:28.123580Z",
          "shell.execute_reply.started": "2022-03-02T19:12:28.114109Z",
          "shell.execute_reply": "2022-03-02T19:12:28.122582Z"
        },
        "trusted": true,
        "id": "6KSpsBmQD9hH"
      },
      "execution_count": null,
      "outputs": []
    },
    {
      "cell_type": "code",
      "source": [
        "df = pd.read_csv('/kaggle/input/homework-decision-tree-ib-22/x_spam_train.csv')\n",
        "X = df.drop(columns='Id')\n",
        "y = pd.read_csv('/kaggle/input/homework-decision-tree-ib-22/y_spam_train.csv')\n",
        "y = y['Expected']"
      ],
      "metadata": {
        "execution": {
          "iopub.status.busy": "2022-03-02T19:12:28.479325Z",
          "iopub.execute_input": "2022-03-02T19:12:28.479644Z",
          "iopub.status.idle": "2022-03-02T19:12:28.525994Z",
          "shell.execute_reply.started": "2022-03-02T19:12:28.479600Z",
          "shell.execute_reply": "2022-03-02T19:12:28.525396Z"
        },
        "trusted": true,
        "id": "JrLgdRzbD9hH"
      },
      "execution_count": null,
      "outputs": []
    },
    {
      "cell_type": "code",
      "source": [
        "X_train, X_test, y_train, y_test = train_test_split(X, y, test_size=0.95)\n",
        "tree = DecisionTreeClassifier(max_depth=3, min_samples_leaf=5, criterion=gini)\n",
        "tree.fit(X_train, y_train)\n",
        "plot_roc_curve(y_test, tree.predict_proba(X_test))\n",
        "draw_tree(tree)"
      ],
      "metadata": {
        "execution": {
          "iopub.status.busy": "2022-03-02T19:12:29.293292Z",
          "iopub.execute_input": "2022-03-02T19:12:29.294464Z",
          "iopub.status.idle": "2022-03-02T19:12:36.090820Z",
          "shell.execute_reply.started": "2022-03-02T19:12:29.294412Z",
          "shell.execute_reply": "2022-03-02T19:12:36.089876Z"
        },
        "trusted": true,
        "id": "LDjRuTntD9hI"
      },
      "execution_count": null,
      "outputs": []
    },
    {
      "cell_type": "markdown",
      "source": [
        "1. Обучите модель на всех данных из x_spam_train и y_spam_train.\n",
        "2. Сделайте submit своего решения и получите значение f1_score не менее 0.6"
      ],
      "metadata": {
        "id": "6yDqCzD3D9hI"
      }
    },
    {
      "cell_type": "code",
      "source": [
        "from sklearn.metrics import f1_score\n",
        "y_pred = tree.predict(X_test)\n",
        "f1_score(y_test, y_pred)"
      ],
      "metadata": {
        "execution": {
          "iopub.status.busy": "2022-03-02T19:13:09.333909Z",
          "iopub.execute_input": "2022-03-02T19:13:09.334240Z",
          "iopub.status.idle": "2022-03-02T19:13:09.668082Z",
          "shell.execute_reply.started": "2022-03-02T19:13:09.334207Z",
          "shell.execute_reply": "2022-03-02T19:13:09.667277Z"
        },
        "trusted": true,
        "id": "3AFL5Vt-D9hI"
      },
      "execution_count": null,
      "outputs": []
    },
    {
      "cell_type": "code",
      "source": [
        "X_spam_test = pd.read_csv('/kaggle/input/homework-decision-tree-ib-22/x_spam_test.csv')"
      ],
      "metadata": {
        "execution": {
          "iopub.status.busy": "2022-03-02T19:13:11.163816Z",
          "iopub.execute_input": "2022-03-02T19:13:11.164389Z",
          "iopub.status.idle": "2022-03-02T19:13:11.190158Z",
          "shell.execute_reply.started": "2022-03-02T19:13:11.164344Z",
          "shell.execute_reply": "2022-03-02T19:13:11.189093Z"
        },
        "trusted": true,
        "id": "6-2HaoB2D9hI"
      },
      "execution_count": null,
      "outputs": []
    },
    {
      "cell_type": "code",
      "source": [
        "test = tree.predict(X_spam_test)"
      ],
      "metadata": {
        "execution": {
          "iopub.status.busy": "2022-03-02T19:13:20.648543Z",
          "iopub.execute_input": "2022-03-02T19:13:20.649363Z",
          "iopub.status.idle": "2022-03-02T19:13:20.740286Z",
          "shell.execute_reply.started": "2022-03-02T19:13:20.649304Z",
          "shell.execute_reply": "2022-03-02T19:13:20.739417Z"
        },
        "trusted": true,
        "id": "4-e3g-9zD9hJ"
      },
      "execution_count": null,
      "outputs": []
    },
    {
      "cell_type": "code",
      "source": [
        "submission = pd.DataFrame(columns = [\"Id\", \"Expected\"])\n",
        "submission[\"Id\"] = X_spam_test['Id']\n",
        "submission[\"Expected\"] = test\n",
        "submission.to_csv('submission.csv', index=False)"
      ],
      "metadata": {
        "execution": {
          "iopub.status.busy": "2022-03-02T19:13:21.394011Z",
          "iopub.execute_input": "2022-03-02T19:13:21.394960Z",
          "iopub.status.idle": "2022-03-02T19:13:21.409803Z",
          "shell.execute_reply.started": "2022-03-02T19:13:21.394913Z",
          "shell.execute_reply": "2022-03-02T19:13:21.408601Z"
        },
        "trusted": true,
        "id": "YUMVsCFOD9hJ"
      },
      "execution_count": null,
      "outputs": []
    },
    {
      "cell_type": "markdown",
      "source": [
        "Метрики"
      ],
      "metadata": {
        "id": "xSFKA48OD9hJ"
      }
    },
    {
      "cell_type": "code",
      "source": [
        "accuracy_score(y_test, y_pred) "
      ],
      "metadata": {
        "execution": {
          "iopub.status.busy": "2022-03-02T19:13:25.759106Z",
          "iopub.execute_input": "2022-03-02T19:13:25.759569Z",
          "iopub.status.idle": "2022-03-02T19:13:25.769343Z",
          "shell.execute_reply.started": "2022-03-02T19:13:25.759533Z",
          "shell.execute_reply": "2022-03-02T19:13:25.768224Z"
        },
        "trusted": true,
        "id": "2z-6jONWD9hJ"
      },
      "execution_count": null,
      "outputs": []
    },
    {
      "cell_type": "code",
      "source": [
        "recall_score(y_test, y_pred)"
      ],
      "metadata": {
        "execution": {
          "iopub.status.busy": "2022-03-02T19:13:26.023949Z",
          "iopub.execute_input": "2022-03-02T19:13:26.026420Z",
          "iopub.status.idle": "2022-03-02T19:13:26.039686Z",
          "shell.execute_reply.started": "2022-03-02T19:13:26.026343Z",
          "shell.execute_reply": "2022-03-02T19:13:26.038598Z"
        },
        "trusted": true,
        "id": "L-Kv_ccFD9hJ"
      },
      "execution_count": null,
      "outputs": []
    },
    {
      "cell_type": "code",
      "source": [
        " precision_score(y_test, y_pred)"
      ],
      "metadata": {
        "execution": {
          "iopub.status.busy": "2022-03-02T19:13:26.264121Z",
          "iopub.execute_input": "2022-03-02T19:13:26.264808Z",
          "iopub.status.idle": "2022-03-02T19:13:26.277622Z",
          "shell.execute_reply.started": "2022-03-02T19:13:26.264753Z",
          "shell.execute_reply": "2022-03-02T19:13:26.276412Z"
        },
        "trusted": true,
        "id": "D4-H-gSiD9hK"
      },
      "execution_count": null,
      "outputs": []
    },
    {
      "cell_type": "markdown",
      "source": [
        "Сравнение метрик"
      ],
      "metadata": {
        "id": "v09iF0xSD9hK"
      }
    },
    {
      "cell_type": "code",
      "source": [
        "X_train, X_test, y_train, y_test = train_test_split(X, y, test_size=0.95)"
      ],
      "metadata": {
        "execution": {
          "iopub.status.busy": "2022-03-02T19:13:26.958416Z",
          "iopub.execute_input": "2022-03-02T19:13:26.959135Z",
          "iopub.status.idle": "2022-03-02T19:13:26.968914Z",
          "shell.execute_reply.started": "2022-03-02T19:13:26.959093Z",
          "shell.execute_reply": "2022-03-02T19:13:26.968219Z"
        },
        "trusted": true,
        "id": "A7U3pmJuD9hK"
      },
      "execution_count": null,
      "outputs": []
    },
    {
      "cell_type": "code",
      "source": [
        "clf = KNeighborsClassifier(n_neighbors=5)"
      ],
      "metadata": {
        "execution": {
          "iopub.status.busy": "2022-03-02T19:13:27.873950Z",
          "iopub.execute_input": "2022-03-02T19:13:27.874630Z",
          "iopub.status.idle": "2022-03-02T19:13:27.880154Z",
          "shell.execute_reply.started": "2022-03-02T19:13:27.874575Z",
          "shell.execute_reply": "2022-03-02T19:13:27.879219Z"
        },
        "trusted": true,
        "id": "8KrKz0YHD9hK"
      },
      "execution_count": null,
      "outputs": []
    },
    {
      "cell_type": "code",
      "source": [
        "clf.fit(X_train, y_train)"
      ],
      "metadata": {
        "execution": {
          "iopub.status.busy": "2022-03-02T19:13:28.494641Z",
          "iopub.execute_input": "2022-03-02T19:13:28.495114Z",
          "iopub.status.idle": "2022-03-02T19:13:28.507256Z",
          "shell.execute_reply.started": "2022-03-02T19:13:28.495078Z",
          "shell.execute_reply": "2022-03-02T19:13:28.506020Z"
        },
        "trusted": true,
        "id": "ByOzlJltD9hK"
      },
      "execution_count": null,
      "outputs": []
    },
    {
      "cell_type": "code",
      "source": [
        "y_pred = clf.predict(X_test)"
      ],
      "metadata": {
        "execution": {
          "iopub.status.busy": "2022-03-02T19:13:28.894210Z",
          "iopub.execute_input": "2022-03-02T19:13:28.894616Z",
          "iopub.status.idle": "2022-03-02T19:13:29.048175Z",
          "shell.execute_reply.started": "2022-03-02T19:13:28.894584Z",
          "shell.execute_reply": "2022-03-02T19:13:29.047299Z"
        },
        "trusted": true,
        "id": "tNh6riDJD9hK"
      },
      "execution_count": null,
      "outputs": []
    },
    {
      "cell_type": "code",
      "source": [
        "accuracy_score(y_test, y_pred) "
      ],
      "metadata": {
        "execution": {
          "iopub.status.busy": "2022-03-02T19:13:29.583114Z",
          "iopub.execute_input": "2022-03-02T19:13:29.583388Z",
          "iopub.status.idle": "2022-03-02T19:13:29.590407Z",
          "shell.execute_reply.started": "2022-03-02T19:13:29.583357Z",
          "shell.execute_reply": "2022-03-02T19:13:29.589546Z"
        },
        "trusted": true,
        "id": "M7jxJbKoD9hL"
      },
      "execution_count": null,
      "outputs": []
    },
    {
      "cell_type": "code",
      "source": [
        "recall_score(y_test, y_pred)"
      ],
      "metadata": {
        "execution": {
          "iopub.status.busy": "2022-03-02T19:13:30.273227Z",
          "iopub.execute_input": "2022-03-02T19:13:30.274132Z",
          "iopub.status.idle": "2022-03-02T19:13:30.284673Z",
          "shell.execute_reply.started": "2022-03-02T19:13:30.274025Z",
          "shell.execute_reply": "2022-03-02T19:13:30.283491Z"
        },
        "trusted": true,
        "id": "C92ineuaD9hL"
      },
      "execution_count": null,
      "outputs": []
    },
    {
      "cell_type": "code",
      "source": [
        "precision_score(y_test, y_pred)"
      ],
      "metadata": {
        "execution": {
          "iopub.status.busy": "2022-03-02T19:13:30.703340Z",
          "iopub.execute_input": "2022-03-02T19:13:30.703609Z",
          "iopub.status.idle": "2022-03-02T19:13:30.712602Z",
          "shell.execute_reply.started": "2022-03-02T19:13:30.703581Z",
          "shell.execute_reply": "2022-03-02T19:13:30.711779Z"
        },
        "trusted": true,
        "id": "JPJlSgrhD9hL"
      },
      "execution_count": null,
      "outputs": []
    },
    {
      "cell_type": "markdown",
      "source": [
        "Как видно, у решающего дерева метрики лучше."
      ],
      "metadata": {
        "id": "K7vi3WbxD9hL"
      }
    },
    {
      "cell_type": "markdown",
      "source": [
        "Лучше предсказания делает решающее дерево."
      ],
      "metadata": {
        "id": "pVjgHvzOD9hL"
      }
    },
    {
      "cell_type": "markdown",
      "source": [
        "Для решающего дерева скорее всего нужна нормировка данных или избавление от столбцов, содержащих слишком много уникальных значений.\n",
        "\n",
        "Для К-ближайших соседей тоже нужна нормировка."
      ],
      "metadata": {
        "id": "WoE8rwrAD9hL"
      }
    }
  ]
}