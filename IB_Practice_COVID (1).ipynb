{
  "cells": [
    {
      "cell_type": "markdown",
      "metadata": {
        "id": "BfLjxv-h7nVh"
      },
      "source": [
        "# Предсказание активности молекул по отношению к таргету\n",
        "\n",
        "*При подготовке ноутбука использовались данные из соревнования [Global AI Challenge](https://codenrock.com/contests/global-ai#/)* "
      ]
    },
    {
      "cell_type": "markdown",
      "metadata": {
        "id": "4Mesk6L-WEOS"
      },
      "source": [
        "Целью данной задачи является предсказание активности молекулы лиганда по отношению к таргету - Covid 19"
      ]
    },
    {
      "cell_type": "markdown",
      "metadata": {
        "id": "VGti6b5XvgZP"
      },
      "source": [
        "![](https://cloudfront.jove.com/files/media/science-education/science-education-thumbs/11513.jpg)"
      ]
    },
    {
      "cell_type": "markdown",
      "metadata": {
        "id": "hjme9vCGPeoR"
      },
      "source": [
        "## План анализа данных:\n",
        "\n",
        "  1. Загрузить данные для обучения\n",
        "  2. Обработать данные перед обучением модели\n",
        "  3. Обучить модель на обучающей выборке\n",
        "  4. Загрузить и предобработать данные для тестирования\n",
        "  5. Провалидировать модель на тестовой выборке\n"
      ]
    },
    {
      "cell_type": "markdown",
      "metadata": {
        "id": "yLs9g1vq7nVl"
      },
      "source": [
        "# 0. Установка и импорт библиотек"
      ]
    },
    {
      "cell_type": "code",
      "execution_count": null,
      "metadata": {
        "id": "4yv5A2IvYvgW"
      },
      "outputs": [],
      "source": [
        "# Grab Jaime's excellent condacolab package: https://github.com/jaimergp/condacolab\n",
        "# Note: you should probably read the README file at that repo.\n",
        "!pip install -q condacolab\n",
        "import condacolab\n",
        "condacolab.install()"
      ]
    },
    {
      "cell_type": "code",
      "execution_count": null,
      "metadata": {
        "id": "vgb8zsYnYwQ2"
      },
      "outputs": [],
      "source": [
        "!conda install -c conda-forge chembl_structure_pipeline"
      ]
    },
    {
      "cell_type": "code",
      "execution_count": null,
      "metadata": {
        "id": "aGLsE-6Di2CT"
      },
      "outputs": [],
      "source": [
        "!pip install  dgl\n",
        "!pip install dgllife"
      ]
    },
    {
      "cell_type": "code",
      "execution_count": null,
      "metadata": {
        "id": "qR-1lYPb7nVm"
      },
      "outputs": [],
      "source": [
        "# Python ≥3.5 is required\n",
        "import sys\n",
        "assert sys.version_info >= (3, 5)\n",
        "\n",
        "# Scikit-Learn ≥0.20 is required\n",
        "import sklearn\n",
        "assert sklearn.__version__ >= \"0.20\"\n",
        "\n",
        "# Common imports\n",
        "import numpy as np\n",
        "import os\n",
        "\n",
        "# To plot pretty figures\n",
        "%matplotlib inline\n",
        "import matplotlib as mpl\n",
        "import matplotlib.pyplot as plt\n",
        "mpl.rc('axes', labelsize=14)\n",
        "mpl.rc('xtick', labelsize=12)\n",
        "mpl.rc('ytick', labelsize=12)\n",
        "\n",
        "# Where to save the figures\n",
        "PROJECT_ROOT_DIR = \".\"\n",
        "CHAPTER_ID = \"end_to_end_project\"\n",
        "IMAGES_PATH = os.path.join(PROJECT_ROOT_DIR, \"images\", CHAPTER_ID)\n",
        "os.makedirs(IMAGES_PATH, exist_ok=True)\n",
        "\n",
        "def save_fig(fig_id, tight_layout=True, fig_extension=\"png\", resolution=300):\n",
        "    path = os.path.join(IMAGES_PATH, fig_id + \".\" + fig_extension)\n",
        "    print(\"Saving figure\", fig_id)\n",
        "    if tight_layout:\n",
        "        plt.tight_layout()\n",
        "    plt.savefig(path, format=fig_extension, dpi=resolution)"
      ]
    },
    {
      "cell_type": "markdown",
      "metadata": {
        "id": "mkKx4rBe7nVn"
      },
      "source": [
        "# 1. Загрузка данных"
      ]
    },
    {
      "cell_type": "code",
      "execution_count": null,
      "metadata": {
        "id": "iu4_4vH5U-b_"
      },
      "outputs": [],
      "source": [
        "!wget https://www.dropbox.com/s/48c34raijlxc0nw/train.csv\n",
        "!wget https://www.dropbox.com/s/297trreazro8ivr/test_labels.csv"
      ]
    },
    {
      "cell_type": "code",
      "execution_count": null,
      "metadata": {
        "id": "2Vb2iXqFVlIv"
      },
      "outputs": [],
      "source": [
        "DATA_PATH = \"./\"\n",
        "TRAIN_FILE = \"train.csv\"\n",
        "TEST_FILE = \"test_labels.csv\"\n",
        "\n",
        "SMILES_COLUMN = \"smiles\"\n",
        "TARGET_COLUMN = \"Active\""
      ]
    },
    {
      "cell_type": "code",
      "execution_count": null,
      "metadata": {
        "id": "Wo7p7rlh7nVp"
      },
      "outputs": [],
      "source": [
        "import pandas as pd\n",
        "\n",
        "def load_train_test_data():\n",
        "    train_csv_path = os.path.join(DATA_PATH, TRAIN_FILE)\n",
        "    test_csv_path = os.path.join(DATA_PATH, TEST_FILE)\n",
        "    train_data = pd.read_csv(train_csv_path, index_col = 0)\n",
        "    test_data = pd.read_csv(test_csv_path,index_col = 0)\n",
        "    return train_data.rename(columns = {\"Smiles\":SMILES_COLUMN}), test_data.rename(columns = {\"Smiles\":SMILES_COLUMN})"
      ]
    },
    {
      "cell_type": "markdown",
      "metadata": {
        "id": "d5FULuFD7nVq"
      },
      "source": [
        "## 1.1 Анализ данных, формулировка задачи машинного обучения"
      ]
    },
    {
      "cell_type": "markdown",
      "metadata": {
        "id": "rR7a3bjKYXMg"
      },
      "source": [
        "Молекулы представлены в виде [SMILES нотации](https://en.wikipedia.org/wiki/Simplified_molecular-input_line-entry_system).\n",
        "\n",
        "![](https://upload.wikimedia.org/wikipedia/commons/thumb/0/00/SMILES.png/450px-SMILES.png)"
      ]
    },
    {
      "cell_type": "code",
      "execution_count": null,
      "metadata": {
        "colab": {
          "base_uri": "https://localhost:8080/",
          "height": 206
        },
        "id": "SFPTy2uU7nVq",
        "outputId": "2c9eed79-70d9-41c6-eb12-121abca8f7a4"
      },
      "outputs": [
        {
          "data": {
            "text/html": [
              "<div>\n",
              "<style scoped>\n",
              "    .dataframe tbody tr th:only-of-type {\n",
              "        vertical-align: middle;\n",
              "    }\n",
              "\n",
              "    .dataframe tbody tr th {\n",
              "        vertical-align: top;\n",
              "    }\n",
              "\n",
              "    .dataframe thead th {\n",
              "        text-align: right;\n",
              "    }\n",
              "</style>\n",
              "<table border=\"1\" class=\"dataframe\">\n",
              "  <thead>\n",
              "    <tr style=\"text-align: right;\">\n",
              "      <th></th>\n",
              "      <th>smiles</th>\n",
              "      <th>Active</th>\n",
              "    </tr>\n",
              "  </thead>\n",
              "  <tbody>\n",
              "    <tr>\n",
              "      <th>0</th>\n",
              "      <td>COc1ccc2[nH]cc(CCN)c2c1</td>\n",
              "      <td>False</td>\n",
              "    </tr>\n",
              "    <tr>\n",
              "      <th>1</th>\n",
              "      <td>CCCN1CCC[C@H](c2cccc(O)c2)C1.Cl</td>\n",
              "      <td>False</td>\n",
              "    </tr>\n",
              "    <tr>\n",
              "      <th>2</th>\n",
              "      <td>O=C(NO)c1cnc(N2CCN(S(=O)(=O)c3ccc4ccccc4c3)CC2...</td>\n",
              "      <td>False</td>\n",
              "    </tr>\n",
              "    <tr>\n",
              "      <th>3</th>\n",
              "      <td>Nc1cccc(CNC(=O)c2ccc(Oc3ccc(OCc4cccc(F)c4)cc3)...</td>\n",
              "      <td>False</td>\n",
              "    </tr>\n",
              "    <tr>\n",
              "      <th>4</th>\n",
              "      <td>Fc1ccccc1CNCc1ccc(-c2ccnc3[nH]ccc23)cc1</td>\n",
              "      <td>False</td>\n",
              "    </tr>\n",
              "  </tbody>\n",
              "</table>\n",
              "</div>"
            ],
            "text/plain": [
              "                                              smiles  Active\n",
              "0                            COc1ccc2[nH]cc(CCN)c2c1   False\n",
              "1                    CCCN1CCC[C@H](c2cccc(O)c2)C1.Cl   False\n",
              "2  O=C(NO)c1cnc(N2CCN(S(=O)(=O)c3ccc4ccccc4c3)CC2...   False\n",
              "3  Nc1cccc(CNC(=O)c2ccc(Oc3ccc(OCc4cccc(F)c4)cc3)...   False\n",
              "4            Fc1ccccc1CNCc1ccc(-c2ccnc3[nH]ccc23)cc1   False"
            ]
          },
          "execution_count": 4,
          "metadata": {},
          "output_type": "execute_result"
        }
      ],
      "source": [
        "train_data, test_data = load_train_test_data()\n",
        "train_data.head()"
      ]
    },
    {
      "cell_type": "code",
      "execution_count": null,
      "metadata": {
        "colab": {
          "base_uri": "https://localhost:8080/"
        },
        "id": "0LgIX7sO7nVr",
        "outputId": "0d3b27f7-c603-4517-cc3e-231d2e6bd4fa"
      },
      "outputs": [
        {
          "name": "stdout",
          "output_type": "stream",
          "text": [
            "<class 'pandas.core.frame.DataFrame'>\n",
            "Int64Index: 5557 entries, 0 to 5556\n",
            "Data columns (total 2 columns):\n",
            " #   Column  Non-Null Count  Dtype \n",
            "---  ------  --------------  ----- \n",
            " 0   smiles  5557 non-null   object\n",
            " 1   Active  5557 non-null   bool  \n",
            "dtypes: bool(1), object(1)\n",
            "memory usage: 92.3+ KB\n"
          ]
        }
      ],
      "source": [
        "train_data.info()"
      ]
    },
    {
      "cell_type": "code",
      "execution_count": null,
      "metadata": {
        "colab": {
          "base_uri": "https://localhost:8080/"
        },
        "id": "E4y37kGY7nVr",
        "outputId": "37ef9f12-b2ae-4a18-f2bd-acb49e033caa"
      },
      "outputs": [
        {
          "data": {
            "text/plain": [
              "False    5351\n",
              "True      206\n",
              "Name: Active, dtype: int64"
            ]
          },
          "execution_count": 6,
          "metadata": {},
          "output_type": "execute_result"
        }
      ],
      "source": [
        "train_data[TARGET_COLUMN].value_counts()"
      ]
    },
    {
      "cell_type": "markdown",
      "metadata": {
        "id": "dGqDoviDYJT7"
      },
      "source": [
        "## 1.2 Предобработка данных"
      ]
    },
    {
      "cell_type": "code",
      "execution_count": null,
      "metadata": {
        "id": "f92T0U7FY2RJ"
      },
      "outputs": [],
      "source": [
        "from rdkit import Chem\n",
        "from rdkit.Chem.SaltRemover import SaltRemover"
      ]
    },
    {
      "cell_type": "code",
      "execution_count": null,
      "metadata": {
        "id": "fftxIeZvYN9D"
      },
      "outputs": [],
      "source": [
        "def remove_salts_and_canonicalized(smiles: str):\n",
        "    remover = SaltRemover(defnData=\"[Cl,Br]\")\n",
        "    mol = Chem.MolFromSmiles(smiles)\n",
        "    res = remover.StripMol(mol)\n",
        "    processed_smiles = Chem.MolToSmiles(res)\n",
        "    return processed_smiles"
      ]
    },
    {
      "cell_type": "code",
      "execution_count": null,
      "metadata": {
        "id": "JPxDUTZ3bX50"
      },
      "outputs": [],
      "source": [
        "train_data[SMILES_COLUMN] = list(map(remove_salts_and_canonicalized, train_data[SMILES_COLUMN]))\n",
        "test_data[SMILES_COLUMN] = list(map(remove_salts_and_canonicalized, test_data[SMILES_COLUMN]))"
      ]
    },
    {
      "cell_type": "code",
      "execution_count": null,
      "metadata": {
        "id": "OalSNSQJbnRy"
      },
      "outputs": [],
      "source": [
        "def change_str_target_to_int(targets: pd.Series):\n",
        "    target_map = {True: 1, False: 0}\n",
        "    processed_targets = targets.map(target_map)\n",
        "    return processed_targets.values"
      ]
    },
    {
      "cell_type": "code",
      "execution_count": null,
      "metadata": {
        "id": "TV2SVaBvbyCJ"
      },
      "outputs": [],
      "source": [
        "train_data[TARGET_COLUMN] = change_str_target_to_int(train_data[TARGET_COLUMN])\n",
        "test_data[TARGET_COLUMN] = change_str_target_to_int(test_data[TARGET_COLUMN])"
      ]
    },
    {
      "cell_type": "code",
      "execution_count": null,
      "metadata": {
        "colab": {
          "base_uri": "https://localhost:8080/",
          "height": 206
        },
        "id": "qYUE5SVJb74V",
        "outputId": "d18a3c37-683c-44e7-c447-db7a0002b8de"
      },
      "outputs": [
        {
          "data": {
            "text/html": [
              "<div>\n",
              "<style scoped>\n",
              "    .dataframe tbody tr th:only-of-type {\n",
              "        vertical-align: middle;\n",
              "    }\n",
              "\n",
              "    .dataframe tbody tr th {\n",
              "        vertical-align: top;\n",
              "    }\n",
              "\n",
              "    .dataframe thead th {\n",
              "        text-align: right;\n",
              "    }\n",
              "</style>\n",
              "<table border=\"1\" class=\"dataframe\">\n",
              "  <thead>\n",
              "    <tr style=\"text-align: right;\">\n",
              "      <th></th>\n",
              "      <th>smiles</th>\n",
              "      <th>Active</th>\n",
              "    </tr>\n",
              "  </thead>\n",
              "  <tbody>\n",
              "    <tr>\n",
              "      <th>0</th>\n",
              "      <td>COc1ccc2[nH]cc(CCN)c2c1</td>\n",
              "      <td>0</td>\n",
              "    </tr>\n",
              "    <tr>\n",
              "      <th>1</th>\n",
              "      <td>CCCN1CCC[C@H](c2cccc(O)c2)C1</td>\n",
              "      <td>0</td>\n",
              "    </tr>\n",
              "    <tr>\n",
              "      <th>2</th>\n",
              "      <td>O=C(NO)c1cnc(N2CCN(S(=O)(=O)c3ccc4ccccc4c3)CC2...</td>\n",
              "      <td>0</td>\n",
              "    </tr>\n",
              "    <tr>\n",
              "      <th>3</th>\n",
              "      <td>Nc1cccc(CNC(=O)c2ccc(Oc3ccc(OCc4cccc(F)c4)cc3)...</td>\n",
              "      <td>0</td>\n",
              "    </tr>\n",
              "    <tr>\n",
              "      <th>4</th>\n",
              "      <td>Fc1ccccc1CNCc1ccc(-c2ccnc3[nH]ccc23)cc1</td>\n",
              "      <td>0</td>\n",
              "    </tr>\n",
              "  </tbody>\n",
              "</table>\n",
              "</div>"
            ],
            "text/plain": [
              "                                              smiles  Active\n",
              "0                            COc1ccc2[nH]cc(CCN)c2c1       0\n",
              "1                       CCCN1CCC[C@H](c2cccc(O)c2)C1       0\n",
              "2  O=C(NO)c1cnc(N2CCN(S(=O)(=O)c3ccc4ccccc4c3)CC2...       0\n",
              "3  Nc1cccc(CNC(=O)c2ccc(Oc3ccc(OCc4cccc(F)c4)cc3)...       0\n",
              "4            Fc1ccccc1CNCc1ccc(-c2ccnc3[nH]ccc23)cc1       0"
            ]
          },
          "execution_count": 12,
          "metadata": {},
          "output_type": "execute_result"
        }
      ],
      "source": [
        "train_data.head()"
      ]
    },
    {
      "cell_type": "markdown",
      "metadata": {
        "id": "VA5cvAMB7nV0"
      },
      "source": [
        "## 1.3 Feature engineering"
      ]
    },
    {
      "cell_type": "markdown",
      "metadata": {
        "id": "eapoisincy5y"
      },
      "source": [
        "Молекулу можно представить в виде фингерпринта - вектора свойств, полученного по определенному алгоритму.\n",
        "\n",
        "Мы будем считать фингерпринты при помощи библиотеки RDKit. Про различные фингерпринты и их описание можно почитать тут - https://www.rdkit.org/docs/GettingStartedInPython.html#fingerprinting-and-molecular-similarity\n",
        "\n",
        "![](https://sun9-64.userapi.com/impf/_8Zy5WO6Mt0SIPx1YS02DeErAoZ0RHcwgc-kZg/Md98bNVzBg0.jpg?size=831x415&quality=96&sign=cb20481128a04ff523fd662dd0e604ab&type=album)\n"
      ]
    },
    {
      "cell_type": "markdown",
      "metadata": {
        "id": "JGRmKT4GfZhO"
      },
      "source": [
        "### Моргановские фингерпринты (ECFP)\n",
        "\n",
        "![](https://d3i71xaburhd42.cloudfront.net/52adf3589e8b7b9855353e5815669258ef6e3405/6-Figure2-1.png)"
      ]
    },
    {
      "cell_type": "code",
      "execution_count": null,
      "metadata": {
        "id": "s_dhJG0hcjar"
      },
      "outputs": [],
      "source": [
        "from enum import Enum\n",
        "from functools import partial\n",
        "from rdkit import Chem, DataStructs\n",
        "from rdkit.DataStructs import ExplicitBitVect\n",
        "from rdkit.Chem import AllChem, MACCSkeys\n",
        "from typing import List\n"
      ]
    },
    {
      "cell_type": "code",
      "execution_count": null,
      "metadata": {
        "id": "fDAw132ncV1z"
      },
      "outputs": [],
      "source": [
        "class FingerprintsNames(Enum):\n",
        "    ECFP4 = \"morgan_2_2048\"\n",
        "    RDKitFP = \"RDKFingerprint\"\n",
        "    TOPOTORSION = \"topological_torsion\"\n",
        "    MACCS = \"MACCSkeys\"\n",
        "    PATTERN = \"PatternFingerprint\"\n",
        "    ATOMPAIR = \"AtomPairFingerprint\"\n",
        "\n",
        "\n",
        "\n",
        "FINGERPRINTS_METHODS = {\n",
        "    FingerprintsNames.ECFP4: partial(AllChem.GetMorganFingerprintAsBitVect, radius=2, nBits=2048),\n",
        "    FingerprintsNames.RDKitFP: partial(Chem.RDKFingerprint, maxPath=5),\n",
        "    FingerprintsNames.TOPOTORSION: AllChem.GetHashedTopologicalTorsionFingerprintAsBitVect,\n",
        "    FingerprintsNames.MACCS: MACCSkeys.GenMACCSKeys,#TODO\n",
        "    FingerprintsNames.PATTERN: Chem.PatternFingerprint,#TODO\n",
        "    FingerprintsNames.ATOMPAIR: AllChem.GetHashedAtomPairFingerprintAsBitVect}#TODO\n"
      ]
    },
    {
      "cell_type": "code",
      "execution_count": null,
      "metadata": {
        "id": "JenRUlnqftff"
      },
      "outputs": [],
      "source": [
        "fingerprint_type_name = FingerprintsNames.ECFP4\n",
        "fingerprint_type_method = FINGERPRINTS_METHODS[fingerprint_type_name]"
      ]
    },
    {
      "cell_type": "code",
      "execution_count": null,
      "metadata": {
        "id": "gq0LMqS_f3IS"
      },
      "outputs": [],
      "source": [
        "def bit_vectors_to_numpy_arrays(fps: List[ExplicitBitVect]) -> np.array:\n",
        "    output_arrays = [np.zeros((1,)) for i in range(len(fps))]\n",
        "    _ = list(\n",
        "        map(lambda fp_output_array: DataStructs.ConvertToNumpyArray(fp_output_array[0], fp_output_array[1]),\n",
        "            zip(fps, output_arrays)))\n",
        "    return np.asarray(output_arrays)\n",
        "\n",
        "def get_np_array_of_fps(fp_type, smiles: List[str]):\n",
        "    # Calculate the morgan fingerprint\n",
        "    mols = [Chem.MolFromSmiles(m) for m in smiles]\n",
        "    fp = list(map(fp_type, mols))\n",
        "    return bit_vectors_to_numpy_arrays(fp)"
      ]
    },
    {
      "cell_type": "code",
      "execution_count": null,
      "metadata": {
        "id": "51QDqlK9gIPL"
      },
      "outputs": [],
      "source": [
        "train_fp = get_np_array_of_fps(fp_type=fingerprint_type_method, smiles=train_data[SMILES_COLUMN])\n",
        "test_fp = get_np_array_of_fps(fp_type=fingerprint_type_method, smiles=test_data[SMILES_COLUMN])"
      ]
    },
    {
      "cell_type": "code",
      "execution_count": null,
      "metadata": {
        "id": "UazJXd7ihDaN"
      },
      "outputs": [],
      "source": [
        "y_train = train_data[TARGET_COLUMN]\n",
        "y_test = test_data[TARGET_COLUMN]"
      ]
    },
    {
      "cell_type": "markdown",
      "metadata": {
        "id": "sxGZENW4iK12"
      },
      "source": [
        "# 2. Подготовка к обучению модели"
      ]
    },
    {
      "cell_type": "markdown",
      "metadata": {
        "id": "6Bb6GxjliWoo"
      },
      "source": [
        "## 2.1 Кросс-валидация"
      ]
    },
    {
      "cell_type": "markdown",
      "metadata": {
        "id": "ETyud6zkiWuL"
      },
      "source": [
        "![](https://pubs.rsc.org/image/article/2018/SC/c7sc02664a/c7sc02664a-f3_hi-res.gif)"
      ]
    },
    {
      "cell_type": "code",
      "execution_count": null,
      "metadata": {
        "id": "eYJ3A1FKgDlv"
      },
      "outputs": [],
      "source": [
        "#!conda create -n env_pytorch python\n",
        "!conda activate env_pytorch"
      ]
    },
    {
      "cell_type": "code",
      "execution_count": null,
      "metadata": {
        "id": "6ODko-1xjg-h",
        "outputId": "b8b9741e-9220-4a1f-b29a-5f4b49e0ad67"
      },
      "outputs": [
        {
          "name": "stderr",
          "output_type": "stream",
          "text": [
            "Using backend: pytorch\n"
          ]
        }
      ],
      "source": [
        "from dgllife.utils import ScaffoldSplitter"
      ]
    },
    {
      "cell_type": "code",
      "execution_count": null,
      "metadata": {
        "id": "HKRNnI7Gjaom"
      },
      "outputs": [],
      "source": [
        "class ScaffoldCVSklearn:\n",
        "    def __init__(self, data, k_folds):\n",
        "        self.scaffold_splits = ScaffoldSplitter.k_fold_split(data, k=k_folds)\n",
        "\n",
        "    def split(self):\n",
        "        indices_splits = []\n",
        "        for train_data, val_data in self.scaffold_splits:\n",
        "            train_indices = train_data.indices\n",
        "            val_indices = val_data.indices\n",
        "            indices_splits.append((train_indices, val_indices))\n",
        "        return indices_splits\n",
        "\n",
        "    def convert_data_to_indices(self, dataset):\n",
        "        indices = [index for index, row in dataset.iterrows()]\n",
        "        return indices\n"
      ]
    },
    {
      "cell_type": "code",
      "execution_count": null,
      "metadata": {
        "colab": {
          "base_uri": "https://localhost:8080/"
        },
        "id": "ZgtmVfTIjkYt",
        "outputId": "44b1767f-e0a7-41c4-f900-eeaaadb00e32"
      },
      "outputs": [
        {
          "name": "stdout",
          "output_type": "stream",
          "text": [
            "Start initializing RDKit molecule instances...\n",
            "Creating RDKit molecule instance 1000/5557\n",
            "Creating RDKit molecule instance 2000/5557\n",
            "Creating RDKit molecule instance 3000/5557\n",
            "Creating RDKit molecule instance 4000/5557\n",
            "Creating RDKit molecule instance 5000/5557\n",
            "Start computing Bemis-Murcko scaffolds.\n",
            "Computing Bemis-Murcko for compound 1000/5557\n",
            "Computing Bemis-Murcko for compound 2000/5557\n",
            "Computing Bemis-Murcko for compound 3000/5557\n",
            "Computing Bemis-Murcko for compound 4000/5557\n",
            "Computing Bemis-Murcko for compound 5000/5557\n",
            "Processing fold 1/3\n",
            "Processing fold 2/3\n",
            "Processing fold 3/3\n"
          ]
        }
      ],
      "source": [
        "cv = ScaffoldCVSklearn(train_data, k_folds=3).split()"
      ]
    },
    {
      "cell_type": "markdown",
      "metadata": {
        "id": "t3n2DNVWmGwy"
      },
      "source": [
        "## 2.2 Установка модели"
      ]
    },
    {
      "cell_type": "code",
      "execution_count": null,
      "metadata": {
        "id": "5r0a2xyzmXPb"
      },
      "outputs": [],
      "source": [
        "from xgboost import XGBClassifier"
      ]
    },
    {
      "cell_type": "code",
      "execution_count": null,
      "metadata": {
        "id": "UcNAbWj3mOsd"
      },
      "outputs": [],
      "source": [
        "xgb = XGBClassifier(learning_rate=0.02, n_estimators=600, nthread=1, use_label_encoder=False)"
      ]
    },
    {
      "cell_type": "code",
      "execution_count": null,
      "metadata": {
        "id": "2skyVQzSmFi7"
      },
      "outputs": [],
      "source": [
        "params = {\n",
        "        'max_depth': [10, 20, 30],\n",
        "        'n_estimators': [100]\n",
        "    }"
      ]
    },
    {
      "cell_type": "markdown",
      "metadata": {
        "id": "p9LTIVUHmkKH"
      },
      "source": [
        "## 2.3 Поиск параметров"
      ]
    },
    {
      "cell_type": "code",
      "execution_count": null,
      "metadata": {
        "id": "kOZuGXzdmoGE"
      },
      "outputs": [],
      "source": [
        "from sklearn.model_selection import GridSearchCV, RandomizedSearchCV\n",
        "\n",
        "grid_search = GridSearchCV(xgb, param_grid=params, scoring='accuracy', n_jobs=4,\n",
        "                               cv=cv, verbose=10000)"
      ]
    },
    {
      "cell_type": "markdown",
      "metadata": {
        "id": "WAkjg3iAmvvI"
      },
      "source": [
        "# Подбор параметров модели"
      ]
    },
    {
      "cell_type": "code",
      "execution_count": null,
      "metadata": {
        "id": "zvUqvA2DuZh7",
        "outputId": "dc9f8f10-64b3-4717-df31-5feedebab3e7"
      },
      "outputs": [
        {
          "name": "stdout",
          "output_type": "stream",
          "text": [
            "\n",
            " Start Grid Search\n",
            "Fitting 3 folds for each of 3 candidates, totalling 9 fits\n",
            "[22:31:30] WARNING: C:/Users/Administrator/workspace/xgboost-win64_release_1.5.1/src/learner.cc:1115: Starting in XGBoost 1.3.0, the default evaluation metric used with the objective 'binary:logistic' was changed from 'error' to 'logloss'. Explicitly set eval_metric if you'd like to restore the old behavior.\n"
          ]
        },
        {
          "data": {
            "text/plain": [
              "GridSearchCV(cv=[([5, 6, 13, 81, 96, 126, 149, 160, 163, 175, 194, 196, 230,\n",
              "                   248, 260, 280, 283, 287, 301, 320, 329, 353, 392, 393, 394,\n",
              "                   409, 430, 443, 462, 490, ...],\n",
              "                  [22, 49, 52, 67, 103, 107, 154, 184, 188, 202, 214, 225, 226,\n",
              "                   229, 236, 254, 266, 292, 293, 302, 308, 313, 331, 382, 383,\n",
              "                   402, 454, 474, 477, 482, ...]),\n",
              "                 ([22, 49, 52, 67, 103, 107, 154, 184, 188, 202, 214, 225, 226,\n",
              "                   229, 236, 254, 266, 292, 293, 302, 308, 313, 331,...\n",
              "                                     missing=nan, monotone_constraints=None,\n",
              "                                     n_estimators=600, n_jobs=None, nthread=1,\n",
              "                                     num_parallel_tree=None, predictor=None,\n",
              "                                     random_state=None, reg_alpha=None,\n",
              "                                     reg_lambda=None, scale_pos_weight=None,\n",
              "                                     subsample=None, tree_method=None,\n",
              "                                     use_label_encoder=False,\n",
              "                                     validate_parameters=None, verbosity=None),\n",
              "             n_jobs=4,\n",
              "             param_grid={'max_depth': [10, 20, 30], 'n_estimators': [100]},\n",
              "             scoring='accuracy', verbose=10000)"
            ]
          },
          "execution_count": 27,
          "metadata": {},
          "output_type": "execute_result"
        }
      ],
      "source": [
        "print('\\n Start Grid Search')\n",
        "grid_search.fit(train_fp, y_train)"
      ]
    },
    {
      "cell_type": "code",
      "execution_count": null,
      "metadata": {
        "colab": {
          "base_uri": "https://localhost:8080/"
        },
        "id": "_jjCU96JmuFR",
        "outputId": "f798992a-ef3d-46b9-f80e-1935801a5c44"
      },
      "outputs": [
        {
          "name": "stdout",
          "output_type": "stream",
          "text": [
            "\n",
            " All results:\n",
            "{'mean_fit_time': array([ 56.40964611, 113.70213381, 142.55176942]), 'std_fit_time': array([ 0.25431669,  1.4967031 , 12.8380594 ]), 'mean_score_time': array([0.15225991, 0.15757863, 0.14033246]), 'std_score_time': array([0.00692637, 0.00293483, 0.01241946]), 'param_max_depth': masked_array(data=[10, 20, 30],\n",
            "             mask=[False, False, False],\n",
            "       fill_value='?',\n",
            "            dtype=object), 'param_n_estimators': masked_array(data=[100, 100, 100],\n",
            "             mask=[False, False, False],\n",
            "       fill_value='?',\n",
            "            dtype=object), 'params': [{'max_depth': 10, 'n_estimators': 100}, {'max_depth': 20, 'n_estimators': 100}, {'max_depth': 30, 'n_estimators': 100}], 'split0_test_score': array([0.95412844, 0.95520777, 0.95574744]), 'split1_test_score': array([0.96706263, 0.96598272, 0.96814255]), 'split2_test_score': array([0.96976242, 0.96922246, 0.97084233]), 'mean_test_score': array([0.96365116, 0.96347098, 0.96491077]), 'std_test_score': array([0.00682319, 0.0059908 , 0.00657253]), 'rank_test_score': array([2, 3, 1])}\n",
            "\n",
            " Best estimator:\n",
            "XGBClassifier(base_score=0.5, booster='gbtree', colsample_bylevel=1,\n",
            "              colsample_bynode=1, colsample_bytree=1, enable_categorical=False,\n",
            "              gamma=0, gpu_id=-1, importance_type=None,\n",
            "              interaction_constraints='', learning_rate=0.02, max_delta_step=0,\n",
            "              max_depth=30, min_child_weight=1, missing=nan,\n",
            "              monotone_constraints='()', n_estimators=100, n_jobs=1, nthread=1,\n",
            "              num_parallel_tree=1, predictor='auto', random_state=0,\n",
            "              reg_alpha=0, reg_lambda=1, scale_pos_weight=1, subsample=1,\n",
            "              tree_method='exact', use_label_encoder=False,\n",
            "              validate_parameters=1, verbosity=None)\n",
            "\n",
            " Best normalized score\n",
            "0.9649107725996059\n",
            "\n",
            " Best hyperparameters:\n",
            "{'max_depth': 30, 'n_estimators': 100}\n"
          ]
        }
      ],
      "source": [
        "print('\\n All results:')\n",
        "print(grid_search.cv_results_)\n",
        "print('\\n Best estimator:')\n",
        "print(grid_search.best_estimator_)\n",
        "print('\\n Best normalized score')\n",
        "print(grid_search.best_score_)\n",
        "print('\\n Best hyperparameters:')\n",
        "print(grid_search.best_params_)"
      ]
    },
    {
      "cell_type": "markdown",
      "metadata": {
        "id": "knXJz2mdoV9m"
      },
      "source": [
        "# Обучение и оценка модели"
      ]
    },
    {
      "cell_type": "code",
      "execution_count": null,
      "metadata": {
        "id": "L790fBRZoZf2"
      },
      "outputs": [],
      "source": [
        "xgb = XGBClassifier(max_depth=10, n_estimators=100, learning_rate=0.02,  nthread=1, use_label_encoder=False)"
      ]
    },
    {
      "cell_type": "code",
      "execution_count": null,
      "metadata": {
        "colab": {
          "base_uri": "https://localhost:8080/"
        },
        "id": "YE1x1_Mqoh09",
        "outputId": "c46c0338-edc5-4352-f10a-9e923f417237"
      },
      "outputs": [
        {
          "name": "stdout",
          "output_type": "stream",
          "text": [
            "[22:34:06] WARNING: C:/Users/Administrator/workspace/xgboost-win64_release_1.5.1/src/learner.cc:1115: Starting in XGBoost 1.3.0, the default evaluation metric used with the objective 'binary:logistic' was changed from 'error' to 'logloss'. Explicitly set eval_metric if you'd like to restore the old behavior.\n"
          ]
        },
        {
          "data": {
            "text/plain": [
              "XGBClassifier(base_score=0.5, booster='gbtree', colsample_bylevel=1,\n",
              "              colsample_bynode=1, colsample_bytree=1, enable_categorical=False,\n",
              "              gamma=0, gpu_id=-1, importance_type=None,\n",
              "              interaction_constraints='', learning_rate=0.02, max_delta_step=0,\n",
              "              max_depth=10, min_child_weight=1, missing=nan,\n",
              "              monotone_constraints='()', n_estimators=100, n_jobs=1, nthread=1,\n",
              "              num_parallel_tree=1, predictor='auto', random_state=0,\n",
              "              reg_alpha=0, reg_lambda=1, scale_pos_weight=1, subsample=1,\n",
              "              tree_method='exact', use_label_encoder=False,\n",
              "              validate_parameters=1, verbosity=None)"
            ]
          },
          "execution_count": 30,
          "metadata": {},
          "output_type": "execute_result"
        }
      ],
      "source": [
        "xgb.fit(train_fp, y_train)"
      ]
    },
    {
      "cell_type": "code",
      "execution_count": null,
      "metadata": {
        "id": "liD-uHOaojTU"
      },
      "outputs": [],
      "source": [
        "test_predictions = xgb.predict(test_fp)"
      ]
    },
    {
      "cell_type": "code",
      "execution_count": null,
      "metadata": {
        "id": "kGP02U_uolm-"
      },
      "outputs": [],
      "source": [
        "from sklearn.metrics import f1_score"
      ]
    },
    {
      "cell_type": "code",
      "execution_count": null,
      "metadata": {
        "colab": {
          "base_uri": "https://localhost:8080/"
        },
        "id": "yDQh30LSotE0",
        "outputId": "c0c59fe8-4f07-4e20-a193-9beddf1a1810"
      },
      "outputs": [
        {
          "name": "stdout",
          "output_type": "stream",
          "text": [
            "Best model test f1 score is 0.265\n"
          ]
        }
      ],
      "source": [
        "score = f1_score(y_test, test_predictions)\n",
        "print(f\"Best model test f1 score is {round(score, 3)}\")"
      ]
    },
    {
      "cell_type": "markdown",
      "metadata": {
        "id": "X3LMIEGPo-Yu"
      },
      "source": [
        "# Задание (10 баллов + 3 бонусных)\n",
        "1. (3 балла) Добавить решение проблемы несбалансированной классификации\n",
        "\n",
        "Варианты:\n",
        "* UnderSampling\n",
        "* OverSampling\n",
        "* SMOTE\n",
        "* Внутренние инструменты модели (`scale_pos_weight`)\n",
        "\n",
        "2. (2 балла) Использовать еще 2 вида фингерпринтов из `FingerprintsNames`\n",
        "\n",
        "3. (3 балла) Получить f1-score на тестовом датасете больше 0.35\n",
        "\n",
        "Варианты:\n",
        "* Увеличить количество параметров в подборе гиперпараметров\n",
        "* Использовать другие алгоритмы подбора гиперпараметров (например, [RandomizedSearch](https://scikit-learn.org/stable/modules/generated/sklearn.model_selection.RandomizedSearchCV.html))\n",
        "* Использовать другие модели (Random Forest, SVC, MLPClassifier, etc)\n",
        "\n",
        "4. (2 балла) Логирование\n",
        "\n",
        "В качестве финального результата предоставьте таблицу (можно `pd.DataFrame`) c колонками: Model, Fingerprint, Best Parameters, Mean Cross-Validation Score, Std Cross-Validation Score, Test Score \n",
        "\n",
        "Проанализируйте результаты: \n",
        "* Какие фингерпринты дали лучший результат?\n",
        "* Какая модель дала лучший результат.\n",
        "* Коррелируют ли скоры на кросс-валидации и тестовой выборке?\n",
        "\n",
        "5. (Бонус +3 балла) Получить f1-score на тестовом датасете больше 0.45"
      ]
    },
    {
      "cell_type": "markdown",
      "metadata": {
        "id": "daFeFpqfvrRb"
      },
      "source": [
        "### 1. (3 балла) Добавить решение проблемы несбалансированной классификации"
      ]
    },
    {
      "cell_type": "markdown",
      "metadata": {
        "id": "PKnOUfq9gDmF"
      },
      "source": [
        "#### UnderSampling"
      ]
    },
    {
      "cell_type": "code",
      "execution_count": null,
      "metadata": {
        "id": "2uo0v_ZGgDmH"
      },
      "outputs": [],
      "source": [
        "from imblearn.under_sampling import RandomUnderSampler\n",
        "rus = RandomUnderSampler(random_state=0)\n",
        "X_uresampled, y_uresampled = rus.fit_resample(train_fp, y_train)"
      ]
    },
    {
      "cell_type": "code",
      "execution_count": null,
      "metadata": {
        "id": "ywSJuiZIgDmI",
        "outputId": "a85df47a-fd20-4327-8d8a-cea450bf4179"
      },
      "outputs": [
        {
          "data": {
            "text/plain": [
              "412"
            ]
          },
          "execution_count": 35,
          "metadata": {},
          "output_type": "execute_result"
        }
      ],
      "source": [
        "len(X_uresampled)"
      ]
    },
    {
      "cell_type": "markdown",
      "metadata": {
        "id": "GTKYACajgDmJ"
      },
      "source": [
        "#### OverSampling"
      ]
    },
    {
      "cell_type": "code",
      "execution_count": null,
      "metadata": {
        "id": "6gs_emdVgDmK"
      },
      "outputs": [],
      "source": [
        "from imblearn.over_sampling import RandomOverSampler\n",
        "ros = RandomOverSampler(random_state=0)\n",
        "X_oresampled, y_oresampled = ros.fit_resample(train_fp, y_train)"
      ]
    },
    {
      "cell_type": "code",
      "execution_count": null,
      "metadata": {
        "id": "9LEdRzJPgDmL",
        "outputId": "3e019e31-dff8-4fea-c962-15a322211738"
      },
      "outputs": [
        {
          "data": {
            "text/plain": [
              "10702"
            ]
          },
          "execution_count": 37,
          "metadata": {},
          "output_type": "execute_result"
        }
      ],
      "source": [
        "len(X_oresampled)"
      ]
    },
    {
      "cell_type": "markdown",
      "metadata": {
        "id": "SfzyZp6fgDmM"
      },
      "source": [
        "#### SMOTE"
      ]
    },
    {
      "cell_type": "code",
      "execution_count": null,
      "metadata": {
        "id": "FFTiyJ6SgDmN"
      },
      "outputs": [],
      "source": [
        "from imblearn.over_sampling import SMOTE\n",
        "X_sresampled, y_sresampled = SMOTE().fit_resample(train_fp, y_train)"
      ]
    },
    {
      "cell_type": "code",
      "execution_count": null,
      "metadata": {
        "id": "pQV66cNPgDmN",
        "outputId": "31c8ee6d-076c-46fd-d822-36f354cf985e"
      },
      "outputs": [
        {
          "data": {
            "text/plain": [
              "10702"
            ]
          },
          "execution_count": 39,
          "metadata": {},
          "output_type": "execute_result"
        }
      ],
      "source": [
        "len(X_sresampled)"
      ]
    },
    {
      "cell_type": "markdown",
      "metadata": {
        "id": "r3bUWY4ugDmO"
      },
      "source": [
        "#### Внутренние инструменты модели (`scale_pos_weight`)"
      ]
    },
    {
      "cell_type": "markdown",
      "metadata": {
        "id": "FhZ_Fsn3gDmP"
      },
      "source": [
        "Используем внутренний инструмент, сразу обучив модель, используя его, и посчитав f1. "
      ]
    },
    {
      "cell_type": "code",
      "execution_count": null,
      "metadata": {
        "id": "V6ngAAXsgDmQ"
      },
      "outputs": [],
      "source": [
        "xgb = XGBClassifier(max_depth=20, n_estimators=200, learning_rate=0.02,  nthread=1, use_label_encoder=False, \n",
        "                    scale_pos_weight = float(np.sum(y_train == 0)) / np.sum(y_train==1))"
      ]
    },
    {
      "cell_type": "code",
      "execution_count": null,
      "metadata": {
        "id": "YjpBDvBHgDmR",
        "outputId": "ff348dbb-a42c-49ed-99a0-72bdde18c82c"
      },
      "outputs": [
        {
          "name": "stdout",
          "output_type": "stream",
          "text": [
            "[22:35:07] WARNING: C:/Users/Administrator/workspace/xgboost-win64_release_1.5.1/src/learner.cc:1115: Starting in XGBoost 1.3.0, the default evaluation metric used with the objective 'binary:logistic' was changed from 'error' to 'logloss'. Explicitly set eval_metric if you'd like to restore the old behavior.\n"
          ]
        },
        {
          "data": {
            "text/plain": [
              "XGBClassifier(base_score=0.5, booster='gbtree', colsample_bylevel=1,\n",
              "              colsample_bynode=1, colsample_bytree=1, enable_categorical=False,\n",
              "              gamma=0, gpu_id=-1, importance_type=None,\n",
              "              interaction_constraints='', learning_rate=0.02, max_delta_step=0,\n",
              "              max_depth=20, min_child_weight=1, missing=nan,\n",
              "              monotone_constraints='()', n_estimators=200, n_jobs=1, nthread=1,\n",
              "              num_parallel_tree=1, predictor='auto', random_state=0,\n",
              "              reg_alpha=0, reg_lambda=1, scale_pos_weight=25.975728155339805,\n",
              "              subsample=1, tree_method='exact', use_label_encoder=False,\n",
              "              validate_parameters=1, verbosity=None)"
            ]
          },
          "execution_count": 41,
          "metadata": {},
          "output_type": "execute_result"
        }
      ],
      "source": [
        "xgb.fit(train_fp, y_train)"
      ]
    },
    {
      "cell_type": "code",
      "execution_count": null,
      "metadata": {
        "id": "4HG9vULBgDmS",
        "outputId": "2cf14bcf-a601-466b-845d-10c12cba7c7a"
      },
      "outputs": [
        {
          "name": "stdout",
          "output_type": "stream",
          "text": [
            "Best model test f1 score is 0.35\n"
          ]
        }
      ],
      "source": [
        "test_predictions = xgb.predict(test_fp)\n",
        "score = f1_score(y_test, test_predictions)\n",
        "print(f\"Best model test f1 score is {round(score, 3)}\")"
      ]
    },
    {
      "cell_type": "markdown",
      "metadata": {
        "id": "TfuNWI9-gDmT"
      },
      "source": [
        "### 2. (2 балла) Использовать еще 2 вида фингерпринтов из FingerprintsNames"
      ]
    },
    {
      "cell_type": "markdown",
      "metadata": {
        "id": "ezUjcQCVgDmU"
      },
      "source": [
        "#### MACCS"
      ]
    },
    {
      "cell_type": "code",
      "execution_count": null,
      "metadata": {
        "id": "kND1n5kzgDmU"
      },
      "outputs": [],
      "source": [
        "fingerprint_type_name = FingerprintsNames.MACCS\n",
        "fingerprint_type_method = FINGERPRINTS_METHODS[fingerprint_type_name]"
      ]
    },
    {
      "cell_type": "code",
      "execution_count": null,
      "metadata": {
        "id": "D6g2cRPTgDmV"
      },
      "outputs": [],
      "source": [
        "train_fp2 = get_np_array_of_fps(fp_type=fingerprint_type_method, smiles=train_data[SMILES_COLUMN])\n",
        "test_fp2 = get_np_array_of_fps(fp_type=fingerprint_type_method, smiles=test_data[SMILES_COLUMN])"
      ]
    },
    {
      "cell_type": "code",
      "execution_count": null,
      "metadata": {
        "id": "5hy8NuEUgDmW"
      },
      "outputs": [],
      "source": [
        "y_train2 = train_data[TARGET_COLUMN]\n",
        "y_test2 = test_data[TARGET_COLUMN]"
      ]
    },
    {
      "cell_type": "markdown",
      "metadata": {
        "id": "3orJS8pGgDmX"
      },
      "source": [
        "#### TOPOTORSION"
      ]
    },
    {
      "cell_type": "code",
      "execution_count": null,
      "metadata": {
        "id": "jy0KTCqygDmX"
      },
      "outputs": [],
      "source": [
        "fingerprint_type_name = FingerprintsNames.TOPOTORSION\n",
        "fingerprint_type_method = FINGERPRINTS_METHODS[fingerprint_type_name]"
      ]
    },
    {
      "cell_type": "code",
      "execution_count": null,
      "metadata": {
        "id": "R6EeVhzMgDmY"
      },
      "outputs": [],
      "source": [
        "train_fp3 = get_np_array_of_fps(fp_type=fingerprint_type_method, smiles=train_data[SMILES_COLUMN])\n",
        "test_fp3 = get_np_array_of_fps(fp_type=fingerprint_type_method, smiles=test_data[SMILES_COLUMN])"
      ]
    },
    {
      "cell_type": "code",
      "execution_count": null,
      "metadata": {
        "id": "DZJfGSWTgDmZ"
      },
      "outputs": [],
      "source": [
        "y_train3 = train_data[TARGET_COLUMN]\n",
        "y_test3 = test_data[TARGET_COLUMN]"
      ]
    },
    {
      "cell_type": "markdown",
      "metadata": {
        "id": "YoIYOYdwgDma"
      },
      "source": [
        "### 3. (3 балла) Получить f1-score на тестовом датасете больше 0.35"
      ]
    },
    {
      "cell_type": "code",
      "execution_count": null,
      "metadata": {
        "id": "hb3WV-CvgDmb"
      },
      "outputs": [],
      "source": [
        "from imblearn.over_sampling import SMOTE\n",
        "X_sresampled, y_sresampled = SMOTE().fit_resample(train_fp2, y_train2)"
      ]
    },
    {
      "cell_type": "markdown",
      "metadata": {
        "id": "iRWvg7ADgDmb"
      },
      "source": [
        "#### Увеличить количество параметров в подборе гиперпараметров"
      ]
    },
    {
      "cell_type": "code",
      "execution_count": null,
      "metadata": {
        "id": "N4dMcIJggDmc"
      },
      "outputs": [],
      "source": [
        "params = {\n",
        "        'max_depth': [8, 10, 20, 30],\n",
        "        'n_estimators': [10, 50, 100]\n",
        "}"
      ]
    },
    {
      "cell_type": "code",
      "execution_count": null,
      "metadata": {
        "id": "XC7vwcsngDmd"
      },
      "outputs": [],
      "source": [
        "from sklearn.model_selection import GridSearchCV"
      ]
    },
    {
      "cell_type": "code",
      "execution_count": null,
      "metadata": {
        "id": "pmi5J1iCgDmd"
      },
      "outputs": [],
      "source": [
        "from sklearn.model_selection import GridSearchCV\n",
        "\n",
        "grid_search = GridSearchCV(xgb, param_grid=params, scoring='f1', n_jobs=4,\n",
        "                               cv=cv, verbose=10000)"
      ]
    },
    {
      "cell_type": "code",
      "execution_count": null,
      "metadata": {
        "id": "gQvZ-tICgDme",
        "outputId": "e096322f-a9d9-4fd9-ee73-14ab34e9a1ca"
      },
      "outputs": [
        {
          "name": "stdout",
          "output_type": "stream",
          "text": [
            "\n",
            " Start Grid Search\n",
            "Fitting 3 folds for each of 12 candidates, totalling 36 fits\n",
            "[22:41:22] WARNING: C:/Users/Administrator/workspace/xgboost-win64_release_1.5.1/src/learner.cc:1115: Starting in XGBoost 1.3.0, the default evaluation metric used with the objective 'binary:logistic' was changed from 'error' to 'logloss'. Explicitly set eval_metric if you'd like to restore the old behavior.\n"
          ]
        },
        {
          "data": {
            "text/plain": [
              "GridSearchCV(cv=[([5, 6, 13, 81, 96, 126, 149, 160, 163, 175, 194, 196, 230,\n",
              "                   248, 260, 280, 283, 287, 301, 320, 329, 353, 392, 393, 394,\n",
              "                   409, 430, 443, 462, 490, ...],\n",
              "                  [22, 49, 52, 67, 103, 107, 154, 184, 188, 202, 214, 225, 226,\n",
              "                   229, 236, 254, 266, 292, 293, 302, 308, 313, 331, 382, 383,\n",
              "                   402, 454, 474, 477, 482, ...]),\n",
              "                 ([22, 49, 52, 67, 103, 107, 154, 184, 188, 202, 214, 225, 226,\n",
              "                   229, 236, 254, 266, 292, 293, 302, 308, 313, 331,...\n",
              "                                     missing=nan, monotone_constraints='()',\n",
              "                                     n_estimators=200, n_jobs=1, nthread=1,\n",
              "                                     num_parallel_tree=1, predictor='auto',\n",
              "                                     random_state=0, reg_alpha=0, reg_lambda=1,\n",
              "                                     scale_pos_weight=25.975728155339805,\n",
              "                                     subsample=1, tree_method='exact',\n",
              "                                     use_label_encoder=False,\n",
              "                                     validate_parameters=1, verbosity=None),\n",
              "             n_jobs=4,\n",
              "             param_grid={'max_depth': [8, 10, 20, 30],\n",
              "                         'n_estimators': [10, 50, 100]},\n",
              "             scoring='f1', verbose=10000)"
            ]
          },
          "execution_count": 54,
          "metadata": {},
          "output_type": "execute_result"
        }
      ],
      "source": [
        "print('\\n Start Grid Search')\n",
        "grid_search.fit(X_sresampled, y_sresampled)"
      ]
    },
    {
      "cell_type": "code",
      "execution_count": null,
      "metadata": {
        "id": "h5MKQSbxgDmf",
        "outputId": "9394d2f8-1a04-4493-dec7-0df0dce00bf1"
      },
      "outputs": [
        {
          "name": "stdout",
          "output_type": "stream",
          "text": [
            "\n",
            " All results:\n",
            "{'mean_fit_time': array([0.44959331, 2.02210426, 3.88113348, 0.54422871, 2.70467861,\n",
            "       5.43762231, 0.75779096, 4.61141197, 9.99296165, 1.15367444,\n",
            "       4.72596399, 8.39936304]), 'std_fit_time': array([0.00577674, 0.00694046, 0.00182945, 0.01669309, 0.18222931,\n",
            "       0.08042542, 0.02482187, 0.2888481 , 0.2297592 , 0.03992474,\n",
            "       0.09956611, 0.1517883 ]), 'mean_score_time': array([0.01462928, 0.01795316, 0.02026812, 0.01396577, 0.0172871 ,\n",
            "       0.02360376, 0.01595759, 0.0233295 , 0.03686754, 0.01761937,\n",
            "       0.02293833, 0.03192623]), 'std_score_time': array([0.00188155, 0.00325845, 0.00236657, 0.00355417, 0.00094094,\n",
            "       0.00384973, 0.00282131, 0.00293277, 0.00352178, 0.00187941,\n",
            "       0.00140928, 0.00406594]), 'param_max_depth': masked_array(data=[8, 8, 8, 10, 10, 10, 20, 20, 20, 30, 30, 30],\n",
            "             mask=[False, False, False, False, False, False, False, False,\n",
            "                   False, False, False, False],\n",
            "       fill_value='?',\n",
            "            dtype=object), 'param_n_estimators': masked_array(data=[10, 50, 100, 10, 50, 100, 10, 50, 100, 10, 50, 100],\n",
            "             mask=[False, False, False, False, False, False, False, False,\n",
            "                   False, False, False, False],\n",
            "       fill_value='?',\n",
            "            dtype=object), 'params': [{'max_depth': 8, 'n_estimators': 10}, {'max_depth': 8, 'n_estimators': 50}, {'max_depth': 8, 'n_estimators': 100}, {'max_depth': 10, 'n_estimators': 10}, {'max_depth': 10, 'n_estimators': 50}, {'max_depth': 10, 'n_estimators': 100}, {'max_depth': 20, 'n_estimators': 10}, {'max_depth': 20, 'n_estimators': 50}, {'max_depth': 20, 'n_estimators': 100}, {'max_depth': 30, 'n_estimators': 10}, {'max_depth': 30, 'n_estimators': 50}, {'max_depth': 30, 'n_estimators': 100}], 'split0_test_score': array([0.14492754, 0.16289593, 0.16574586, 0.13375796, 0.17592593,\n",
            "       0.18666667, 0.18099548, 0.19047619, 0.18918919, 0.18099548,\n",
            "       0.19047619, 0.17333333]), 'split1_test_score': array([0.11661808, 0.17467249, 0.21164021, 0.12751678, 0.18      ,\n",
            "       0.20689655, 0.14611872, 0.20915033, 0.17241379, 0.14611872,\n",
            "       0.20915033, 0.17241379]), 'split2_test_score': array([0.11510791, 0.13157895, 0.15720524, 0.13296399, 0.1328125 ,\n",
            "       0.17      , 0.13733906, 0.17910448, 0.18987342, 0.13733906,\n",
            "       0.18      , 0.19480519]), 'mean_test_score': array([0.12555118, 0.15638245, 0.1781971 , 0.13141291, 0.16291281,\n",
            "       0.18785441, 0.15481775, 0.19291033, 0.18382547, 0.15481775,\n",
            "       0.19320884, 0.18018411]), 'std_test_score': array([0.01371502, 0.01818575, 0.02390351, 0.00277398, 0.02134902,\n",
            "       0.01508635, 0.01885428, 0.01238634, 0.00807411, 0.01885428,\n",
            "       0.01205642, 0.01034548]), 'rank_test_score': array([12,  8,  6, 11,  7,  3,  9,  2,  4,  9,  1,  5])}\n",
            "\n",
            " Best estimator:\n",
            "XGBClassifier(base_score=0.5, booster='gbtree', colsample_bylevel=1,\n",
            "              colsample_bynode=1, colsample_bytree=1, enable_categorical=False,\n",
            "              gamma=0, gpu_id=-1, importance_type=None,\n",
            "              interaction_constraints='', learning_rate=0.02, max_delta_step=0,\n",
            "              max_depth=30, min_child_weight=1, missing=nan,\n",
            "              monotone_constraints='()', n_estimators=50, n_jobs=1, nthread=1,\n",
            "              num_parallel_tree=1, predictor='auto', random_state=0,\n",
            "              reg_alpha=0, reg_lambda=1, scale_pos_weight=25.975728155339805,\n",
            "              subsample=1, tree_method='exact', use_label_encoder=False,\n",
            "              validate_parameters=1, verbosity=None)\n",
            "\n",
            " Best normalized score\n",
            "0.19320883909119205\n",
            "\n",
            " Best hyperparameters:\n",
            "{'max_depth': 30, 'n_estimators': 50}\n"
          ]
        }
      ],
      "source": [
        "print('\\n All results:')\n",
        "print(grid_search.cv_results_)\n",
        "print('\\n Best estimator:')\n",
        "print(grid_search.best_estimator_)\n",
        "print('\\n Best normalized score')\n",
        "print(grid_search.best_score_)\n",
        "print('\\n Best hyperparameters:')\n",
        "print(grid_search.best_params_)"
      ]
    },
    {
      "cell_type": "code",
      "execution_count": null,
      "metadata": {
        "id": "uKZXex8wgDmg",
        "outputId": "58ff4dfb-f049-49b6-81c3-6eb095a0b6d0"
      },
      "outputs": [
        {
          "name": "stdout",
          "output_type": "stream",
          "text": [
            "[22:42:51] WARNING: C:/Users/Administrator/workspace/xgboost-win64_release_1.5.1/src/learner.cc:1115: Starting in XGBoost 1.3.0, the default evaluation metric used with the objective 'binary:logistic' was changed from 'error' to 'logloss'. Explicitly set eval_metric if you'd like to restore the old behavior.\n"
          ]
        },
        {
          "data": {
            "text/plain": [
              "XGBClassifier(base_score=0.5, booster='gbtree', colsample_bylevel=1,\n",
              "              colsample_bynode=1, colsample_bytree=1, enable_categorical=False,\n",
              "              gamma=0, gpu_id=-1, importance_type=None,\n",
              "              interaction_constraints='', learning_rate=0.02, max_delta_step=0,\n",
              "              max_depth=20, min_child_weight=1, missing=nan,\n",
              "              monotone_constraints='()', n_estimators=50, n_jobs=1, nthread=1,\n",
              "              num_parallel_tree=1, predictor='auto', random_state=0,\n",
              "              reg_alpha=0, reg_lambda=1, scale_pos_weight=1, subsample=1,\n",
              "              tree_method='exact', use_label_encoder=False,\n",
              "              validate_parameters=1, verbosity=None)"
            ]
          },
          "execution_count": 57,
          "metadata": {},
          "output_type": "execute_result"
        }
      ],
      "source": [
        "xgb = XGBClassifier(max_depth=20, n_estimators=200, learning_rate=0.2,  nthread=1, use_label_encoder=False)\n",
        "xgb.fit(X_sresampled, y_sresampled)"
      ]
    },
    {
      "cell_type": "code",
      "execution_count": null,
      "metadata": {
        "id": "vtm7QwBJgDmh"
      },
      "outputs": [],
      "source": [
        "test_predictions = xgb.predict(test_fp2)"
      ]
    },
    {
      "cell_type": "code",
      "execution_count": null,
      "metadata": {
        "id": "CfGXBtMMgDmi",
        "outputId": "20d7bf4c-608e-44d0-c233-7fb50f307cf6"
      },
      "outputs": [
        {
          "name": "stdout",
          "output_type": "stream",
          "text": [
            "Best model test f1 score is 0.225\n"
          ]
        }
      ],
      "source": [
        "score = f1_score(y_test2, test_predictions)\n",
        "print(f\"Best model test f1 score is {round(score, 3)}\")"
      ]
    },
    {
      "cell_type": "markdown",
      "metadata": {
        "id": "CtVHGtWJgDmj"
      },
      "source": [
        "#### Использовать другие алгоритмы подбора гиперпараметров (например, RandomizedSearch)"
      ]
    },
    {
      "cell_type": "code",
      "execution_count": null,
      "metadata": {
        "id": "wbJUtwpWgDmk"
      },
      "outputs": [],
      "source": [
        "from scipy.stats import randint, uniform\n"
      ]
    },
    {
      "cell_type": "code",
      "execution_count": null,
      "metadata": {
        "id": "tgPEXB9sgDmk"
      },
      "outputs": [],
      "source": [
        "from scipy.stats import randint, uniform\n",
        "import scipy.stats as sts\n",
        "\n",
        "distributions = dict(max_depth = randint(5, 10),\n",
        "                     n_estimators = randint(low=10, high=100))"
      ]
    },
    {
      "cell_type": "code",
      "execution_count": null,
      "metadata": {
        "id": "FyeGJ48OgDml"
      },
      "outputs": [],
      "source": [
        "from sklearn.model_selection import RandomizedSearchCV\n",
        "\n",
        "grid_search = RandomizedSearchCV(xgb, param_distributions =distributions, scoring='f1', n_jobs=4,\n",
        "                               cv=cv, verbose=10000)"
      ]
    },
    {
      "cell_type": "markdown",
      "metadata": {
        "id": "VYwsxGdIgDmm"
      },
      "source": [
        "Для первого фингерпринта"
      ]
    },
    {
      "cell_type": "code",
      "execution_count": null,
      "metadata": {
        "id": "l6mTBXcJgDmm",
        "outputId": "7999baf6-254b-4879-bee9-a4538567dc7f"
      },
      "outputs": [
        {
          "name": "stdout",
          "output_type": "stream",
          "text": [
            "\n",
            " Start Grid Search\n",
            "Fitting 3 folds for each of 10 candidates, totalling 30 fits\n",
            "[22:49:57] WARNING: C:/Users/Administrator/workspace/xgboost-win64_release_1.5.1/src/learner.cc:1115: Starting in XGBoost 1.3.0, the default evaluation metric used with the objective 'binary:logistic' was changed from 'error' to 'logloss'. Explicitly set eval_metric if you'd like to restore the old behavior.\n"
          ]
        },
        {
          "data": {
            "text/plain": [
              "RandomizedSearchCV(cv=[([5, 6, 13, 81, 96, 126, 149, 160, 163, 175, 194, 196,\n",
              "                         230, 248, 260, 280, 283, 287, 301, 320, 329, 353, 392,\n",
              "                         393, 394, 409, 430, 443, 462, 490, ...],\n",
              "                        [22, 49, 52, 67, 103, 107, 154, 184, 188, 202, 214, 225,\n",
              "                         226, 229, 236, 254, 266, 292, 293, 302, 308, 313, 331,\n",
              "                         382, 383, 402, 454, 474, 477, 482, ...]),\n",
              "                       ([22, 49, 52, 67, 103, 107, 154, 184, 188, 202, 214, 225,\n",
              "                         226, 229, 236, 254, 266, 292, 293, 302, 308, 31...\n",
              "                                           reg_alpha=0, reg_lambda=1,\n",
              "                                           scale_pos_weight=1, subsample=1,\n",
              "                                           tree_method='exact',\n",
              "                                           use_label_encoder=False,\n",
              "                                           validate_parameters=1,\n",
              "                                           verbosity=None),\n",
              "                   n_jobs=4,\n",
              "                   param_distributions={'max_depth': <scipy.stats._distn_infrastructure.rv_frozen object at 0x000001EDAE03FDF0>,\n",
              "                                        'n_estimators': <scipy.stats._distn_infrastructure.rv_frozen object at 0x000001EDAE6F25E0>},\n",
              "                   scoring='f1', verbose=10000)"
            ]
          },
          "execution_count": 69,
          "metadata": {},
          "output_type": "execute_result"
        }
      ],
      "source": [
        "print('\\n Start Grid Search')\n",
        "grid_search.fit(train_fp, y_train)"
      ]
    },
    {
      "cell_type": "code",
      "execution_count": null,
      "metadata": {
        "id": "we92gs6lgDmn",
        "outputId": "57f61300-c832-4f31-db1f-23f00a3c64a0"
      },
      "outputs": [
        {
          "name": "stdout",
          "output_type": "stream",
          "text": [
            "\n",
            " All results:\n",
            "{'mean_fit_time': array([1.60404245, 1.57940308, 1.89461676, 2.64366817, 2.68857392,\n",
            "       0.50480779, 2.79025602, 1.08761684, 2.31370966, 0.89731924]), 'std_fit_time': array([0.02216866, 0.07536307, 0.18255694, 0.04839726, 0.04025428,\n",
            "       0.0163925 , 0.15331304, 0.11553815, 0.04756672, 0.07398198]), 'mean_score_time': array([0.01761866, 0.01429518, 0.01894863, 0.0156254 , 0.0211033 ,\n",
            "       0.01296544, 0.01928059, 0.01429478, 0.02294175, 0.01296473]), 'std_score_time': array([0.00046918, 0.00124443, 0.00354937, 0.00308365, 0.00201385,\n",
            "       0.00215505, 0.00529847, 0.00261795, 0.00163005, 0.0021552 ]), 'param_max_depth': masked_array(data=[5, 5, 7, 8, 6, 7, 6, 7, 6, 8],\n",
            "             mask=[False, False, False, False, False, False, False, False,\n",
            "                   False, False],\n",
            "       fill_value='?',\n",
            "            dtype=object), 'param_n_estimators': masked_array(data=[76, 72, 60, 72, 97, 19, 96, 34, 80, 29],\n",
            "             mask=[False, False, False, False, False, False, False, False,\n",
            "                   False, False],\n",
            "       fill_value='?',\n",
            "            dtype=object), 'params': [{'max_depth': 5, 'n_estimators': 76}, {'max_depth': 5, 'n_estimators': 72}, {'max_depth': 7, 'n_estimators': 60}, {'max_depth': 8, 'n_estimators': 72}, {'max_depth': 6, 'n_estimators': 97}, {'max_depth': 7, 'n_estimators': 19}, {'max_depth': 6, 'n_estimators': 96}, {'max_depth': 7, 'n_estimators': 34}, {'max_depth': 6, 'n_estimators': 80}, {'max_depth': 8, 'n_estimators': 29}], 'split0_test_score': array([0.        , 0.        , 0.02409639, 0.06976744, 0.02409639,\n",
            "       0.02380952, 0.02409639, 0.02380952, 0.02409639, 0.02380952]), 'split1_test_score': array([0.05714286, 0.05714286, 0.05714286, 0.05714286, 0.05714286,\n",
            "       0.        , 0.05714286, 0.02941176, 0.08450704, 0.        ]), 'split2_test_score': array([0.03333333, 0.03333333, 0.06349206, 0.06349206, 0.06451613,\n",
            "       0.0625    , 0.06451613, 0.06451613, 0.06451613, 0.06349206]), 'mean_test_score': array([0.03015873, 0.03015873, 0.04824377, 0.06346745, 0.04858512,\n",
            "       0.02876984, 0.04858512, 0.03924581, 0.05770652, 0.02910053]), 'std_test_score': array([0.02343623, 0.02343623, 0.0172704 , 0.00515399, 0.01757584,\n",
            "       0.02575547, 0.01757584, 0.01801459, 0.0251282 , 0.02618914]), 'rank_test_score': array([ 7,  7,  5,  1,  3, 10,  3,  6,  2,  9])}\n",
            "\n",
            " Best estimator:\n",
            "XGBClassifier(base_score=0.5, booster='gbtree', colsample_bylevel=1,\n",
            "              colsample_bynode=1, colsample_bytree=1, enable_categorical=False,\n",
            "              gamma=0, gpu_id=-1, importance_type=None,\n",
            "              interaction_constraints='', learning_rate=0.02, max_delta_step=0,\n",
            "              max_depth=8, min_child_weight=1, missing=nan,\n",
            "              monotone_constraints='()', n_estimators=72, n_jobs=1, nthread=1,\n",
            "              num_parallel_tree=1, predictor='auto', random_state=0,\n",
            "              reg_alpha=0, reg_lambda=1, scale_pos_weight=1, subsample=1,\n",
            "              tree_method='exact', use_label_encoder=False,\n",
            "              validate_parameters=1, verbosity=None)\n",
            "\n",
            " Best normalized score\n",
            "0.06346745416512857\n",
            "\n",
            " Best hyperparameters:\n",
            "{'max_depth': 8, 'n_estimators': 72}\n"
          ]
        }
      ],
      "source": [
        "print('\\n All results:')\n",
        "print(grid_search.cv_results_)\n",
        "print('\\n Best estimator:')\n",
        "print(grid_search.best_estimator_)\n",
        "print('\\n Best normalized score')\n",
        "print(grid_search.best_score_)\n",
        "print('\\n Best hyperparameters:')\n",
        "print(grid_search.best_params_)"
      ]
    },
    {
      "cell_type": "code",
      "execution_count": null,
      "metadata": {
        "id": "CPFmXipQgDmp",
        "outputId": "e4477464-5911-46d0-a3e5-140bf2d9f81d"
      },
      "outputs": [
        {
          "name": "stdout",
          "output_type": "stream",
          "text": [
            "[22:51:12] WARNING: C:/Users/Administrator/workspace/xgboost-win64_release_1.5.1/src/learner.cc:1115: Starting in XGBoost 1.3.0, the default evaluation metric used with the objective 'binary:logistic' was changed from 'error' to 'logloss'. Explicitly set eval_metric if you'd like to restore the old behavior.\n"
          ]
        },
        {
          "data": {
            "text/plain": [
              "XGBClassifier(base_score=0.5, booster='gbtree', colsample_bylevel=1,\n",
              "              colsample_bynode=1, colsample_bytree=1, enable_categorical=False,\n",
              "              gamma=0, gpu_id=-1, importance_type=None,\n",
              "              interaction_constraints='', learning_rate=0.2, max_delta_step=0,\n",
              "              max_depth=8, min_child_weight=1, missing=nan,\n",
              "              monotone_constraints='()', n_estimators=72, n_jobs=1, nthread=1,\n",
              "              num_parallel_tree=1, predictor='auto', random_state=0,\n",
              "              reg_alpha=0, reg_lambda=1, scale_pos_weight=25.975728155339805,\n",
              "              subsample=1, tree_method='exact', use_label_encoder=False,\n",
              "              validate_parameters=1, verbosity=None)"
            ]
          },
          "execution_count": 71,
          "metadata": {},
          "output_type": "execute_result"
        }
      ],
      "source": [
        "xgb = XGBClassifier(max_depth=8, n_estimators=72, learning_rate=0.2,  nthread=1, use_label_encoder=False, \n",
        "                    scale_pos_weight = float(np.sum(y_train2 == 0)) / np.sum(y_train2==1))\n",
        "xgb.fit(train_fp, y_train)"
      ]
    },
    {
      "cell_type": "code",
      "execution_count": null,
      "metadata": {
        "id": "Q5fD6DhZgDmq"
      },
      "outputs": [],
      "source": [
        "test_predictions = xgb.predict(test_fp)"
      ]
    },
    {
      "cell_type": "code",
      "execution_count": null,
      "metadata": {
        "id": "V1T-N2dpgDmq",
        "outputId": "0eeafe24-c910-4a68-8e0e-021ad0f3e775"
      },
      "outputs": [
        {
          "name": "stdout",
          "output_type": "stream",
          "text": [
            "Best model test f1 score is 0.323\n"
          ]
        }
      ],
      "source": [
        "score = f1_score(y_test, test_predictions)\n",
        "print(f\"Best model test f1 score is {round(score, 3)}\")"
      ]
    },
    {
      "cell_type": "markdown",
      "metadata": {
        "id": "Ni0tccUAgDmr"
      },
      "source": [
        "Для второго фингерпринта"
      ]
    },
    {
      "cell_type": "code",
      "execution_count": null,
      "metadata": {
        "id": "E1FmlRxJgDms",
        "outputId": "7b075b63-94e3-42dc-c0f2-7267a7521998"
      },
      "outputs": [
        {
          "name": "stdout",
          "output_type": "stream",
          "text": [
            "\n",
            " Start Grid Search\n",
            "Fitting 3 folds for each of 10 candidates, totalling 30 fits\n",
            "[22:44:50] WARNING: C:/Users/Administrator/workspace/xgboost-win64_release_1.5.1/src/learner.cc:1115: Starting in XGBoost 1.3.0, the default evaluation metric used with the objective 'binary:logistic' was changed from 'error' to 'logloss'. Explicitly set eval_metric if you'd like to restore the old behavior.\n"
          ]
        },
        {
          "data": {
            "text/plain": [
              "RandomizedSearchCV(cv=[([5, 6, 13, 81, 96, 126, 149, 160, 163, 175, 194, 196,\n",
              "                         230, 248, 260, 280, 283, 287, 301, 320, 329, 353, 392,\n",
              "                         393, 394, 409, 430, 443, 462, 490, ...],\n",
              "                        [22, 49, 52, 67, 103, 107, 154, 184, 188, 202, 214, 225,\n",
              "                         226, 229, 236, 254, 266, 292, 293, 302, 308, 313, 331,\n",
              "                         382, 383, 402, 454, 474, 477, 482, ...]),\n",
              "                       ([22, 49, 52, 67, 103, 107, 154, 184, 188, 202, 214, 225,\n",
              "                         226, 229, 236, 254, 266, 292, 293, 302, 308, 31...\n",
              "                                           reg_alpha=0, reg_lambda=1,\n",
              "                                           scale_pos_weight=1, subsample=1,\n",
              "                                           tree_method='exact',\n",
              "                                           use_label_encoder=False,\n",
              "                                           validate_parameters=1,\n",
              "                                           verbosity=None),\n",
              "                   n_jobs=4,\n",
              "                   param_distributions={'max_depth': <scipy.stats._distn_infrastructure.rv_frozen object at 0x000001EDAE03FDF0>,\n",
              "                                        'n_estimators': <scipy.stats._distn_infrastructure.rv_frozen object at 0x000001EDAE6F25E0>},\n",
              "                   scoring='f1', verbose=10000)"
            ]
          },
          "execution_count": 64,
          "metadata": {},
          "output_type": "execute_result"
        }
      ],
      "source": [
        "print('\\n Start Grid Search')\n",
        "grid_search.fit(train_fp2, y_train2)"
      ]
    },
    {
      "cell_type": "code",
      "execution_count": null,
      "metadata": {
        "id": "YV86d0fogDmz",
        "outputId": "6aa9c11a-4f60-450b-bee0-bb4d35cb64d5"
      },
      "outputs": [
        {
          "name": "stdout",
          "output_type": "stream",
          "text": [
            "\n",
            " All results:\n",
            "{'mean_fit_time': array([15.50796819, 20.5991048 , 14.32243069,  7.04584702, 19.37976305,\n",
            "       53.44322896, 17.73688634, 25.43620404, 38.72562742, 28.35603786]), 'std_fit_time': array([0.04739383, 1.98585609, 0.46740693, 0.05263384, 0.07634486,\n",
            "       0.98087957, 0.34845235, 0.16100528, 1.29494183, 2.91137513]), 'mean_score_time': array([0.12832085, 0.13066212, 0.13065235, 0.13896314, 0.12511722,\n",
            "       0.14428027, 0.13065139, 0.12133265, 0.12002571, 0.10272662]), 'std_score_time': array([0.02223417, 0.00571035, 0.01369875, 0.00711278, 0.00645945,\n",
            "       0.02491851, 0.01271981, 0.00469484, 0.006617  , 0.01440676]), 'param_max_depth': masked_array(data=[7, 6, 6, 7, 5, 9, 6, 9, 9, 8],\n",
            "             mask=[False, False, False, False, False, False, False, False,\n",
            "                   False, False],\n",
            "       fill_value='?',\n",
            "            dtype=object), 'param_n_estimators': masked_array(data=[44, 57, 36, 14, 59, 92, 43, 42, 72, 70],\n",
            "             mask=[False, False, False, False, False, False, False, False,\n",
            "                   False, False],\n",
            "       fill_value='?',\n",
            "            dtype=object), 'params': [{'max_depth': 7, 'n_estimators': 44}, {'max_depth': 6, 'n_estimators': 57}, {'max_depth': 6, 'n_estimators': 36}, {'max_depth': 7, 'n_estimators': 14}, {'max_depth': 5, 'n_estimators': 59}, {'max_depth': 9, 'n_estimators': 92}, {'max_depth': 6, 'n_estimators': 43}, {'max_depth': 9, 'n_estimators': 42}, {'max_depth': 9, 'n_estimators': 72}, {'max_depth': 8, 'n_estimators': 70}], 'split0_test_score': array([0.02409639, 0.02380952, 0.02380952, 0.04705882, 0.02352941,\n",
            "       0.02298851, 0.02380952, 0.04651163, 0.02325581, 0.02352941]), 'split1_test_score': array([0.16216216, 0.16438356, 0.1369863 , 0.10810811, 0.02941176,\n",
            "       0.16438356, 0.1369863 , 0.16      , 0.16438356, 0.16438356]), 'split2_test_score': array([0.09230769, 0.09375   , 0.09375   , 0.11594203, 0.06349206,\n",
            "       0.0952381 , 0.09375   , 0.09090909, 0.09375   , 0.09375   ]), 'mean_test_score': array([0.09285541, 0.09398103, 0.08484861, 0.09036965, 0.03881108,\n",
            "       0.09420339, 0.08484861, 0.09914024, 0.09379646, 0.09388766]), 'std_test_score': array([0.05636645, 0.05738934, 0.04663098, 0.03079192, 0.01761654,\n",
            "       0.05772893, 0.04663098, 0.04669559, 0.05761517, 0.05750355]), 'rank_test_score': array([ 6,  3,  8,  7, 10,  2,  8,  1,  5,  4])}\n",
            "\n",
            " Best estimator:\n",
            "XGBClassifier(base_score=0.5, booster='gbtree', colsample_bylevel=1,\n",
            "              colsample_bynode=1, colsample_bytree=1, enable_categorical=False,\n",
            "              gamma=0, gpu_id=-1, importance_type=None,\n",
            "              interaction_constraints='', learning_rate=0.02, max_delta_step=0,\n",
            "              max_depth=9, min_child_weight=1, missing=nan,\n",
            "              monotone_constraints='()', n_estimators=42, n_jobs=1, nthread=1,\n",
            "              num_parallel_tree=1, predictor='auto', random_state=0,\n",
            "              reg_alpha=0, reg_lambda=1, scale_pos_weight=1, subsample=1,\n",
            "              tree_method='exact', use_label_encoder=False,\n",
            "              validate_parameters=1, verbosity=None)\n",
            "\n",
            " Best normalized score\n",
            "0.0991402396053559\n",
            "\n",
            " Best hyperparameters:\n",
            "{'max_depth': 9, 'n_estimators': 42}\n"
          ]
        }
      ],
      "source": [
        "print('\\n All results:')\n",
        "print(grid_search.cv_results_)\n",
        "print('\\n Best estimator:')\n",
        "print(grid_search.best_estimator_)\n",
        "print('\\n Best normalized score')\n",
        "print(grid_search.best_score_)\n",
        "print('\\n Best hyperparameters:')\n",
        "print(grid_search.best_params_)"
      ]
    },
    {
      "cell_type": "code",
      "execution_count": null,
      "metadata": {
        "id": "TY-JuaOhgDm0",
        "outputId": "4a14308b-9f22-40d1-dd5c-3fab2c8da3a1"
      },
      "outputs": [
        {
          "name": "stdout",
          "output_type": "stream",
          "text": [
            "Best model test f1 score is 0.426\n"
          ]
        }
      ],
      "source": [
        "score = f1_score(y_test2, test_predictions)\n",
        "print(f\"Best model test f1 score is {round(score, 3)}\")"
      ]
    },
    {
      "cell_type": "markdown",
      "metadata": {
        "id": "3zIfMiNhgDm1"
      },
      "source": [
        "Для третьего фингерпринта"
      ]
    },
    {
      "cell_type": "code",
      "execution_count": null,
      "metadata": {
        "id": "MGOBGDY6gDm2",
        "outputId": "abe5e2e0-09b5-4275-b14e-ab08620ce280"
      },
      "outputs": [
        {
          "name": "stdout",
          "output_type": "stream",
          "text": [
            "\n",
            " Start Grid Search\n",
            "Fitting 3 folds for each of 10 candidates, totalling 30 fits\n",
            "[22:56:23] WARNING: C:/Users/Administrator/workspace/xgboost-win64_release_1.5.1/src/learner.cc:1115: Starting in XGBoost 1.3.0, the default evaluation metric used with the objective 'binary:logistic' was changed from 'error' to 'logloss'. Explicitly set eval_metric if you'd like to restore the old behavior.\n"
          ]
        },
        {
          "data": {
            "text/plain": [
              "RandomizedSearchCV(cv=[([5, 6, 13, 81, 96, 126, 149, 160, 163, 175, 194, 196,\n",
              "                         230, 248, 260, 280, 283, 287, 301, 320, 329, 353, 392,\n",
              "                         393, 394, 409, 430, 443, 462, 490, ...],\n",
              "                        [22, 49, 52, 67, 103, 107, 154, 184, 188, 202, 214, 225,\n",
              "                         226, 229, 236, 254, 266, 292, 293, 302, 308, 313, 331,\n",
              "                         382, 383, 402, 454, 474, 477, 482, ...]),\n",
              "                       ([22, 49, 52, 67, 103, 107, 154, 184, 188, 202, 214, 225,\n",
              "                         226, 229, 236, 254, 266, 292, 293, 302, 308, 31...\n",
              "                                           reg_alpha=0, reg_lambda=1,\n",
              "                                           scale_pos_weight=1, subsample=1,\n",
              "                                           tree_method='exact',\n",
              "                                           use_label_encoder=False,\n",
              "                                           validate_parameters=1,\n",
              "                                           verbosity=None),\n",
              "                   n_jobs=4,\n",
              "                   param_distributions={'max_depth': <scipy.stats._distn_infrastructure.rv_frozen object at 0x000001EDAE03FDF0>,\n",
              "                                        'n_estimators': <scipy.stats._distn_infrastructure.rv_frozen object at 0x000001EDAE6F25E0>},\n",
              "                   scoring='f1', verbose=10000)"
            ]
          },
          "execution_count": 74,
          "metadata": {},
          "output_type": "execute_result"
        }
      ],
      "source": [
        "print('\\n Start Grid Search')\n",
        "grid_search.fit(train_fp3, y_train3)"
      ]
    },
    {
      "cell_type": "code",
      "execution_count": null,
      "metadata": {
        "id": "QvFK0GW_gDm3",
        "outputId": "0ca55187-8d07-412f-810c-a8a34fa8aa66"
      },
      "outputs": [
        {
          "name": "stdout",
          "output_type": "stream",
          "text": [
            "\n",
            " All results:\n",
            "{'mean_fit_time': array([37.58241185, 29.7042586 , 28.48180056, 29.15435092, 36.29577009,\n",
            "       19.97762982, 24.9310197 , 12.56025402, 32.67714548, 39.8325537 ]), 'std_fit_time': array([0.2152569 , 1.60372706, 0.15009135, 0.417595  , 0.09389684,\n",
            "       1.02811156, 0.10093312, 0.26555192, 0.35308552, 4.10907696]), 'mean_score_time': array([0.12799112, 0.12533236, 0.12205569, 0.14687713, 0.1326352 ,\n",
            "       0.12233949, 0.12433465, 0.11701989, 0.1223398 , 0.104731  ]), 'std_score_time': array([0.0028612 , 0.00752304, 0.00389729, 0.01875694, 0.00905388,\n",
            "       0.01222427, 0.00329209, 0.00367103, 0.00384917, 0.0173305 ]), 'param_max_depth': masked_array(data=[7, 5, 5, 7, 9, 7, 7, 6, 7, 9],\n",
            "             mask=[False, False, False, False, False, False, False, False,\n",
            "                   False, False],\n",
            "       fill_value='?',\n",
            "            dtype=object), 'param_n_estimators': masked_array(data=[95, 98, 90, 65, 56, 41, 56, 32, 72, 83],\n",
            "             mask=[False, False, False, False, False, False, False, False,\n",
            "                   False, False],\n",
            "       fill_value='?',\n",
            "            dtype=object), 'params': [{'max_depth': 7, 'n_estimators': 95}, {'max_depth': 5, 'n_estimators': 98}, {'max_depth': 5, 'n_estimators': 90}, {'max_depth': 7, 'n_estimators': 65}, {'max_depth': 9, 'n_estimators': 56}, {'max_depth': 7, 'n_estimators': 41}, {'max_depth': 7, 'n_estimators': 56}, {'max_depth': 6, 'n_estimators': 32}, {'max_depth': 7, 'n_estimators': 72}, {'max_depth': 9, 'n_estimators': 83}], 'split0_test_score': array([0.15217391, 0.15217391, 0.15217391, 0.15217391, 0.14285714,\n",
            "       0.15384615, 0.14285714, 0.12765957, 0.15053763, 0.15053763]), 'split1_test_score': array([0.15789474, 0.10810811, 0.08219178, 0.13157895, 0.15584416,\n",
            "       0.16      , 0.15584416, 0.16      , 0.15584416, 0.15789474]), 'split2_test_score': array([0.12121212, 0.14705882, 0.14705882, 0.11267606, 0.11267606,\n",
            "       0.08219178, 0.13888889, 0.08333333, 0.09090909, 0.11428571]), 'mean_test_score': array([0.14376026, 0.13578028, 0.12714151, 0.13214297, 0.13712579,\n",
            "       0.13201264, 0.1458634 , 0.1236643 , 0.13243029, 0.14090603]), 'std_test_score': array([0.01611409, 0.01967829, 0.03185278, 0.01612986, 0.01808328,\n",
            "       0.03531814, 0.00724101, 0.03142627, 0.02943974, 0.01906152]), 'rank_test_score': array([ 2,  5,  9,  7,  4,  8,  1, 10,  6,  3])}\n",
            "\n",
            " Best estimator:\n",
            "XGBClassifier(base_score=0.5, booster='gbtree', colsample_bylevel=1,\n",
            "              colsample_bynode=1, colsample_bytree=1, enable_categorical=False,\n",
            "              gamma=0, gpu_id=-1, importance_type=None,\n",
            "              interaction_constraints='', learning_rate=0.02, max_delta_step=0,\n",
            "              max_depth=7, min_child_weight=1, missing=nan,\n",
            "              monotone_constraints='()', n_estimators=56, n_jobs=1, nthread=1,\n",
            "              num_parallel_tree=1, predictor='auto', random_state=0,\n",
            "              reg_alpha=0, reg_lambda=1, scale_pos_weight=1, subsample=1,\n",
            "              tree_method='exact', use_label_encoder=False,\n",
            "              validate_parameters=1, verbosity=None)\n",
            "\n",
            " Best normalized score\n",
            "0.14586339586339586\n",
            "\n",
            " Best hyperparameters:\n",
            "{'max_depth': 7, 'n_estimators': 56}\n"
          ]
        }
      ],
      "source": [
        "print('\\n All results:')\n",
        "print(grid_search.cv_results_)\n",
        "print('\\n Best estimator:')\n",
        "print(grid_search.best_estimator_)\n",
        "print('\\n Best normalized score')\n",
        "print(grid_search.best_score_)\n",
        "print('\\n Best hyperparameters:')\n",
        "print(grid_search.best_params_)"
      ]
    },
    {
      "cell_type": "code",
      "execution_count": null,
      "metadata": {
        "id": "rNGbI1sFgDm4",
        "outputId": "96958d55-589c-4bbf-96cc-9fcbf7a892e2"
      },
      "outputs": [
        {
          "name": "stdout",
          "output_type": "stream",
          "text": [
            "[22:57:03] WARNING: C:/Users/Administrator/workspace/xgboost-win64_release_1.5.1/src/learner.cc:1115: Starting in XGBoost 1.3.0, the default evaluation metric used with the objective 'binary:logistic' was changed from 'error' to 'logloss'. Explicitly set eval_metric if you'd like to restore the old behavior.\n"
          ]
        },
        {
          "data": {
            "text/plain": [
              "XGBClassifier(base_score=0.5, booster='gbtree', colsample_bylevel=1,\n",
              "              colsample_bynode=1, colsample_bytree=1, enable_categorical=False,\n",
              "              gamma=0, gpu_id=-1, importance_type=None,\n",
              "              interaction_constraints='', learning_rate=0.2, max_delta_step=0,\n",
              "              max_depth=7, min_child_weight=1, missing=nan,\n",
              "              monotone_constraints='()', n_estimators=56, n_jobs=1, nthread=1,\n",
              "              num_parallel_tree=1, predictor='auto', random_state=0,\n",
              "              reg_alpha=0, reg_lambda=1, scale_pos_weight=25.975728155339805,\n",
              "              subsample=1, tree_method='exact', use_label_encoder=False,\n",
              "              validate_parameters=1, verbosity=None)"
            ]
          },
          "execution_count": 76,
          "metadata": {},
          "output_type": "execute_result"
        }
      ],
      "source": [
        "xgb = XGBClassifier(max_depth=7, n_estimators=56, learning_rate=0.2,  nthread=1, use_label_encoder=False, \n",
        "                    scale_pos_weight = float(np.sum(y_train2 == 0)) / np.sum(y_train2==1))\n",
        "xgb.fit(train_fp3, y_train3)"
      ]
    },
    {
      "cell_type": "code",
      "execution_count": null,
      "metadata": {
        "id": "GgcGnvQKgDm5",
        "outputId": "8c357b05-c8ca-45f2-f8bf-a002ecf15f43"
      },
      "outputs": [
        {
          "name": "stdout",
          "output_type": "stream",
          "text": [
            "Best model test f1 score is 0.267\n"
          ]
        }
      ],
      "source": [
        "test_predictions = xgb.predict(test_fp3)\n",
        "score = f1_score(y_test3, test_predictions)\n",
        "print(f\"Best model test f1 score is {round(score, 3)}\")"
      ]
    },
    {
      "cell_type": "markdown",
      "metadata": {
        "id": "7eKDygU5gDm6"
      },
      "source": [
        "#### Использовать другие модели: Random Forest"
      ]
    },
    {
      "cell_type": "code",
      "execution_count": null,
      "metadata": {
        "id": "yCVds8C0gDm7"
      },
      "outputs": [],
      "source": [
        "from sklearn.ensemble import RandomForestClassifier"
      ]
    },
    {
      "cell_type": "code",
      "execution_count": null,
      "metadata": {
        "id": "fMhhfuxKgDm8"
      },
      "outputs": [],
      "source": [
        "rfc = RandomForestClassifier(max_depth = 20, n_estimators = 300)"
      ]
    },
    {
      "cell_type": "code",
      "execution_count": null,
      "metadata": {
        "id": "LRTRHfc9gDm8"
      },
      "outputs": [],
      "source": [
        "params = {\n",
        "        'max_depth': [8, 10, 20, 30],\n",
        "        'n_estimators': [100, 200, 300]\n",
        "}\n",
        "\n",
        "grid_search = GridSearchCV(rfc, params, scoring='f1', n_jobs=4,\n",
        "                               cv=cv, verbose=10000)"
      ]
    },
    {
      "cell_type": "markdown",
      "metadata": {
        "id": "N0aecGe1gDm9"
      },
      "source": [
        "Поскольку второй фингерпринт показал лучший результат, обучим случайный лес сначала на нем."
      ]
    },
    {
      "cell_type": "code",
      "execution_count": null,
      "metadata": {
        "id": "0wm3wijngDm-",
        "outputId": "88708cd3-c30e-4b10-8851-59e0d47edc57"
      },
      "outputs": [
        {
          "name": "stdout",
          "output_type": "stream",
          "text": [
            "\n",
            " Start Grid Search\n",
            "Fitting 3 folds for each of 12 candidates, totalling 36 fits\n"
          ]
        },
        {
          "data": {
            "text/plain": [
              "GridSearchCV(cv=[([5, 6, 13, 81, 96, 126, 149, 160, 163, 175, 194, 196, 230,\n",
              "                   248, 260, 280, 283, 287, 301, 320, 329, 353, 392, 393, 394,\n",
              "                   409, 430, 443, 462, 490, ...],\n",
              "                  [22, 49, 52, 67, 103, 107, 154, 184, 188, 202, 214, 225, 226,\n",
              "                   229, 236, 254, 266, 292, 293, 302, 308, 313, 331, 382, 383,\n",
              "                   402, 454, 474, 477, 482, ...]),\n",
              "                 ([22, 49, 52, 67, 103, 107, 154, 184, 188, 202, 214, 225, 226,\n",
              "                   229, 236, 254, 266, 292, 293, 302, 308, 313, 331,...\n",
              "                   229, 236, 254, 266, 292, 293, 302, 308, 313, 331, 382, 383,\n",
              "                   402, 454, 474, 477, 482, ...],\n",
              "                  [170, 537, 714, 962, 1160, 1556, 1726, 1798, 1995, 2549, 2551,\n",
              "                   2639, 2704, 2819, 2933, 3128, 3141, 3156, 3242, 3364, 3397,\n",
              "                   3435, 3474, 3683, 3846, 4470, 4552, 4649, 4674, 4835, ...])],\n",
              "             estimator=RandomForestClassifier(max_depth=20, n_estimators=300),\n",
              "             n_jobs=4,\n",
              "             param_grid={'max_depth': [8, 10, 20, 30],\n",
              "                         'n_estimators': [100, 200, 300]},\n",
              "             scoring='f1', verbose=10000)"
            ]
          },
          "execution_count": 34,
          "metadata": {},
          "output_type": "execute_result"
        }
      ],
      "source": [
        "print('\\n Start Grid Search')\n",
        "grid_search.fit(train_fp2, y_train2)"
      ]
    },
    {
      "cell_type": "code",
      "execution_count": null,
      "metadata": {
        "id": "IcXB2F7jgDm_",
        "outputId": "80f165f5-711c-4d5e-c91b-0104df313bdf"
      },
      "outputs": [
        {
          "name": "stdout",
          "output_type": "stream",
          "text": [
            "\n",
            " All results:\n",
            "{'mean_fit_time': array([0.46841621, 0.91222699, 1.32741316, 0.50350134, 0.93926207,\n",
            "       1.53742894, 0.55513684, 1.08106677, 1.70135578, 0.5793287 ,\n",
            "       1.0994966 , 1.4540476 ]), 'std_fit_time': array([0.01111772, 0.03510682, 0.02161841, 0.0152604 , 0.01357854,\n",
            "       0.06342706, 0.04008621, 0.01146465, 0.03506751, 0.0348651 ,\n",
            "       0.03888148, 0.04520107]), 'mean_score_time': array([0.04554248, 0.0724721 , 0.10405358, 0.0402267 , 0.08310906,\n",
            "       0.11968025, 0.04886818, 0.08988984, 0.14594229, 0.05556003,\n",
            "       0.1004022 , 0.10541948]), 'std_score_time': array([0.00401762, 0.00286175, 0.00094077, 0.00124401, 0.00463014,\n",
            "       0.01485983, 0.00430459, 0.00454912, 0.01592294, 0.00390646,\n",
            "       0.0106006 , 0.01437547]), 'param_max_depth': masked_array(data=[8, 8, 8, 10, 10, 10, 20, 20, 20, 30, 30, 30],\n",
            "             mask=[False, False, False, False, False, False, False, False,\n",
            "                   False, False, False, False],\n",
            "       fill_value='?',\n",
            "            dtype=object), 'param_n_estimators': masked_array(data=[100, 200, 300, 100, 200, 300, 100, 200, 300, 100, 200,\n",
            "                   300],\n",
            "             mask=[False, False, False, False, False, False, False, False,\n",
            "                   False, False, False, False],\n",
            "       fill_value='?',\n",
            "            dtype=object), 'params': [{'max_depth': 8, 'n_estimators': 100}, {'max_depth': 8, 'n_estimators': 200}, {'max_depth': 8, 'n_estimators': 300}, {'max_depth': 10, 'n_estimators': 100}, {'max_depth': 10, 'n_estimators': 200}, {'max_depth': 10, 'n_estimators': 300}, {'max_depth': 20, 'n_estimators': 100}, {'max_depth': 20, 'n_estimators': 200}, {'max_depth': 20, 'n_estimators': 300}, {'max_depth': 30, 'n_estimators': 100}, {'max_depth': 30, 'n_estimators': 200}, {'max_depth': 30, 'n_estimators': 300}], 'split0_test_score': array([0.        , 0.        , 0.        , 0.        , 0.        ,\n",
            "       0.        , 0.04651163, 0.06896552, 0.06896552, 0.11235955,\n",
            "       0.09090909, 0.06896552]), 'split1_test_score': array([0.        , 0.        , 0.        , 0.02941176, 0.02941176,\n",
            "       0.02941176, 0.05633803, 0.05633803, 0.05633803, 0.05714286,\n",
            "       0.05633803, 0.05633803]), 'split2_test_score': array([0.        , 0.        , 0.        , 0.03389831, 0.03389831,\n",
            "       0.03389831, 0.03278689, 0.03225806, 0.03278689, 0.06451613,\n",
            "       0.03278689, 0.03278689]), 'mean_test_score': array([0.        , 0.        , 0.        , 0.02110336, 0.02110336,\n",
            "       0.02110336, 0.04521218, 0.05252054, 0.05269681, 0.07800618,\n",
            "       0.06001133, 0.05269681]), 'std_test_score': array([0.        , 0.        , 0.        , 0.01503432, 0.01503432,\n",
            "       0.01503432, 0.00965852, 0.01522693, 0.0149926 , 0.02447729,\n",
            "       0.02387003, 0.0149926 ]), 'rank_test_score': array([10, 10, 10,  7,  7,  7,  6,  5,  3,  1,  2,  3])}\n",
            "\n",
            " Best estimator:\n",
            "RandomForestClassifier(max_depth=30)\n",
            "\n",
            " Best normalized score\n",
            "0.07800617891230431\n",
            "\n",
            " Best hyperparameters:\n",
            "{'max_depth': 30, 'n_estimators': 100}\n"
          ]
        }
      ],
      "source": [
        "print('\\n All results:')\n",
        "print(grid_search.cv_results_)\n",
        "print('\\n Best estimator:')\n",
        "print(grid_search.best_estimator_)\n",
        "print('\\n Best normalized score')\n",
        "print(grid_search.best_score_)\n",
        "print('\\n Best hyperparameters:')\n",
        "print(grid_search.best_params_)"
      ]
    },
    {
      "cell_type": "code",
      "execution_count": null,
      "metadata": {
        "id": "pcLx_0sLgDnA",
        "outputId": "92aa5ecc-a070-4977-f78f-4fc5383a60b0"
      },
      "outputs": [
        {
          "name": "stdout",
          "output_type": "stream",
          "text": [
            "Best model test f1 score is 0.184\n"
          ]
        }
      ],
      "source": [
        "rfc = RandomForestClassifier(max_depth = 20, n_estimators = 100)\n",
        "X_sresampled, y_sresampled = SMOTE().fit_resample(train_fp2, y_train2)\n",
        "rfc.fit(X_sresampled, y_sresampled)\n",
        "test_predictions = rfc.predict(test_fp2)\n",
        "score = f1_score(y_test2, test_predictions)\n",
        "print(f\"Best model test f1 score is {round(score, 3)}\")"
      ]
    },
    {
      "cell_type": "code",
      "execution_count": null,
      "metadata": {
        "id": "HhwKW9mRgDnB",
        "outputId": "66e893d6-805e-47a0-f253-1589c5da14a8"
      },
      "outputs": [
        {
          "name": "stdout",
          "output_type": "stream",
          "text": [
            "\n",
            " Start Grid Search\n",
            "Fitting 3 folds for each of 12 candidates, totalling 36 fits\n"
          ]
        },
        {
          "data": {
            "text/plain": [
              "GridSearchCV(cv=[([5, 6, 13, 81, 96, 126, 149, 160, 163, 175, 194, 196, 230,\n",
              "                   248, 260, 280, 283, 287, 301, 320, 329, 353, 392, 393, 394,\n",
              "                   409, 430, 443, 462, 490, ...],\n",
              "                  [22, 49, 52, 67, 103, 107, 154, 184, 188, 202, 214, 225, 226,\n",
              "                   229, 236, 254, 266, 292, 293, 302, 308, 313, 331, 382, 383,\n",
              "                   402, 454, 474, 477, 482, ...]),\n",
              "                 ([22, 49, 52, 67, 103, 107, 154, 184, 188, 202, 214, 225, 226,\n",
              "                   229, 236, 254, 266, 292, 293, 302, 308, 313, 331,...\n",
              "                   229, 236, 254, 266, 292, 293, 302, 308, 313, 331, 382, 383,\n",
              "                   402, 454, 474, 477, 482, ...],\n",
              "                  [170, 537, 714, 962, 1160, 1556, 1726, 1798, 1995, 2549, 2551,\n",
              "                   2639, 2704, 2819, 2933, 3128, 3141, 3156, 3242, 3364, 3397,\n",
              "                   3435, 3474, 3683, 3846, 4470, 4552, 4649, 4674, 4835, ...])],\n",
              "             estimator=RandomForestClassifier(max_depth=20, n_estimators=300),\n",
              "             n_jobs=4,\n",
              "             param_grid={'max_depth': [8, 10, 20, 30],\n",
              "                         'n_estimators': [100, 200, 300]},\n",
              "             scoring='f1', verbose=10000)"
            ]
          },
          "execution_count": 39,
          "metadata": {},
          "output_type": "execute_result"
        }
      ],
      "source": [
        "print('\\n Start Grid Search')\n",
        "grid_search.fit(train_fp, y_train)"
      ]
    },
    {
      "cell_type": "code",
      "execution_count": null,
      "metadata": {
        "id": "ok-K-nlggDnC",
        "outputId": "625e4cff-8b0b-40f2-d785-2e8abe41800a"
      },
      "outputs": [
        {
          "name": "stdout",
          "output_type": "stream",
          "text": [
            "\n",
            " All results:\n",
            "{'mean_fit_time': array([ 3.10532745,  5.92373665,  8.73080897,  3.57716997,  7.13013983,\n",
            "       10.62403504,  6.33809082, 12.02213542, 18.61974327,  8.54680371,\n",
            "       16.7244695 , 17.77863256]), 'std_fit_time': array([0.04905916, 0.06995066, 0.02179592, 0.06518586, 0.02721413,\n",
            "       0.12084292, 0.01583397, 0.13404001, 0.35330494, 0.48730687,\n",
            "       0.01476687, 3.13355128]), 'mean_score_time': array([0.1452779 , 0.18963774, 0.28557022, 0.12141093, 0.20810906,\n",
            "       0.35172168, 0.1525929 , 0.30903514, 0.45279058, 0.21143492,\n",
            "       0.36070387, 0.35430415]), 'std_score_time': array([0.0097153 , 0.00851406, 0.01037563, 0.01222023, 0.02384183,\n",
            "       0.05554956, 0.00453159, 0.00471559, 0.04176992, 0.01494891,\n",
            "       0.01747227, 0.08501385]), 'param_max_depth': masked_array(data=[8, 8, 8, 10, 10, 10, 20, 20, 20, 30, 30, 30],\n",
            "             mask=[False, False, False, False, False, False, False, False,\n",
            "                   False, False, False, False],\n",
            "       fill_value='?',\n",
            "            dtype=object), 'param_n_estimators': masked_array(data=[100, 200, 300, 100, 200, 300, 100, 200, 300, 100, 200,\n",
            "                   300],\n",
            "             mask=[False, False, False, False, False, False, False, False,\n",
            "                   False, False, False, False],\n",
            "       fill_value='?',\n",
            "            dtype=object), 'params': [{'max_depth': 8, 'n_estimators': 100}, {'max_depth': 8, 'n_estimators': 200}, {'max_depth': 8, 'n_estimators': 300}, {'max_depth': 10, 'n_estimators': 100}, {'max_depth': 10, 'n_estimators': 200}, {'max_depth': 10, 'n_estimators': 300}, {'max_depth': 20, 'n_estimators': 100}, {'max_depth': 20, 'n_estimators': 200}, {'max_depth': 20, 'n_estimators': 300}, {'max_depth': 30, 'n_estimators': 100}, {'max_depth': 30, 'n_estimators': 200}, {'max_depth': 30, 'n_estimators': 300}], 'split0_test_score': array([0.        , 0.        , 0.        , 0.        , 0.        ,\n",
            "       0.        , 0.        , 0.        , 0.        , 0.02439024,\n",
            "       0.02439024, 0.02439024]), 'split1_test_score': array([0., 0., 0., 0., 0., 0., 0., 0., 0., 0., 0., 0.]), 'split2_test_score': array([0., 0., 0., 0., 0., 0., 0., 0., 0., 0., 0., 0.]), 'mean_test_score': array([0.        , 0.        , 0.        , 0.        , 0.        ,\n",
            "       0.        , 0.        , 0.        , 0.        , 0.00813008,\n",
            "       0.00813008, 0.00813008]), 'std_test_score': array([0.        , 0.        , 0.        , 0.        , 0.        ,\n",
            "       0.        , 0.        , 0.        , 0.        , 0.01149767,\n",
            "       0.01149767, 0.01149767]), 'rank_test_score': array([4, 4, 4, 4, 4, 4, 4, 4, 4, 1, 1, 1])}\n",
            "\n",
            " Best estimator:\n",
            "RandomForestClassifier(max_depth=30)\n",
            "\n",
            " Best normalized score\n",
            "0.008130081300813007\n",
            "\n",
            " Best hyperparameters:\n",
            "{'max_depth': 30, 'n_estimators': 100}\n"
          ]
        }
      ],
      "source": [
        "print('\\n All results:')\n",
        "print(grid_search.cv_results_)\n",
        "print('\\n Best estimator:')\n",
        "print(grid_search.best_estimator_)\n",
        "print('\\n Best normalized score')\n",
        "print(grid_search.best_score_)\n",
        "print('\\n Best hyperparameters:')\n",
        "print(grid_search.best_params_)"
      ]
    },
    {
      "cell_type": "markdown",
      "source": [
        "#### SVC"
      ],
      "metadata": {
        "id": "ita9v2LmgM4m"
      }
    },
    {
      "cell_type": "code",
      "execution_count": null,
      "metadata": {
        "id": "ZhQxP-8CgDnE"
      },
      "outputs": [],
      "source": [
        "from sklearn.svm import SVC"
      ]
    },
    {
      "cell_type": "code",
      "execution_count": null,
      "metadata": {
        "id": "b_LmiB9pgDnF"
      },
      "outputs": [],
      "source": [
        "svc = SVC(kernel = 'poly')"
      ]
    },
    {
      "cell_type": "code",
      "execution_count": null,
      "metadata": {
        "id": "zl8TpA-KgDnG"
      },
      "outputs": [],
      "source": [
        "params = {\n",
        "        'degree': [1, 2, 3, 5, 10],\n",
        "}\n",
        "\n",
        "grid_search = GridSearchCV(svc, params, scoring='f1', n_jobs=4,\n",
        "                               cv=cv, verbose=10000)"
      ]
    },
    {
      "cell_type": "code",
      "execution_count": null,
      "metadata": {
        "id": "et1rDr47gDnI",
        "outputId": "cc524253-fa1e-4035-8773-e449cd1f02d2"
      },
      "outputs": [
        {
          "name": "stdout",
          "output_type": "stream",
          "text": [
            "\n",
            " Start Grid Search\n",
            "Fitting 3 folds for each of 5 candidates, totalling 15 fits\n"
          ]
        },
        {
          "data": {
            "text/plain": [
              "GridSearchCV(cv=[([5, 6, 13, 81, 96, 126, 149, 160, 163, 175, 194, 196, 230,\n",
              "                   248, 260, 280, 283, 287, 301, 320, 329, 353, 392, 393, 394,\n",
              "                   409, 430, 443, 462, 490, ...],\n",
              "                  [22, 49, 52, 67, 103, 107, 154, 184, 188, 202, 214, 225, 226,\n",
              "                   229, 236, 254, 266, 292, 293, 302, 308, 313, 331, 382, 383,\n",
              "                   402, 454, 474, 477, 482, ...]),\n",
              "                 ([22, 49, 52, 67, 103, 107, 154, 184, 188, 202, 214, 225, 226,\n",
              "                   229, 236, 254, 266, 292, 293, 302, 308, 313, 331,...\n",
              "                 ([22, 49, 52, 67, 103, 107, 154, 184, 188, 202, 214, 225, 226,\n",
              "                   229, 236, 254, 266, 292, 293, 302, 308, 313, 331, 382, 383,\n",
              "                   402, 454, 474, 477, 482, ...],\n",
              "                  [170, 537, 714, 962, 1160, 1556, 1726, 1798, 1995, 2549, 2551,\n",
              "                   2639, 2704, 2819, 2933, 3128, 3141, 3156, 3242, 3364, 3397,\n",
              "                   3435, 3474, 3683, 3846, 4470, 4552, 4649, 4674, 4835, ...])],\n",
              "             estimator=SVC(kernel='poly'), n_jobs=4,\n",
              "             param_grid={'degree': [1, 2, 3, 5, 10]}, scoring='f1',\n",
              "             verbose=10000)"
            ]
          },
          "execution_count": 47,
          "metadata": {},
          "output_type": "execute_result"
        }
      ],
      "source": [
        "print('\\n Start Grid Search')\n",
        "grid_search.fit(train_fp2, y_train2)"
      ]
    },
    {
      "cell_type": "code",
      "execution_count": null,
      "metadata": {
        "id": "MX2i_UCagDnJ",
        "outputId": "2d9e4236-e095-460e-f836-fe1624d2b462"
      },
      "outputs": [
        {
          "name": "stdout",
          "output_type": "stream",
          "text": [
            "\n",
            " All results:\n",
            "{'mean_fit_time': array([1.29399053, 1.24246407, 1.33994579, 1.53482143, 1.83267045]), 'std_fit_time': array([0.16361506, 0.13632964, 0.03736053, 0.04115447, 0.07265058]), 'mean_score_time': array([0.26728288, 0.26961287, 0.27459955, 0.32547053, 0.39954273]), 'std_score_time': array([0.04325099, 0.04432217, 0.01970252, 0.0078294 , 0.00855931]), 'param_degree': masked_array(data=[1, 2, 3, 5, 10],\n",
            "             mask=[False, False, False, False, False],\n",
            "       fill_value='?',\n",
            "            dtype=object), 'params': [{'degree': 1}, {'degree': 2}, {'degree': 3}, {'degree': 5}, {'degree': 10}], 'split0_test_score': array([0.        , 0.        , 0.04819277, 0.06896552, 0.04651163]), 'split1_test_score': array([0.        , 0.        , 0.02666667, 0.02298851, 0.02247191]), 'split2_test_score': array([0.        , 0.        , 0.03030303, 0.02777778, 0.08      ]), 'mean_test_score': array([0.        , 0.        , 0.03505416, 0.0399106 , 0.04966118]), 'std_test_score': array([0.        , 0.        , 0.00940827, 0.02063776, 0.0235911 ]), 'rank_test_score': array([4, 4, 3, 2, 1])}\n",
            "\n",
            " Best estimator:\n",
            "SVC(degree=10, kernel='poly')\n",
            "\n",
            " Best normalized score\n",
            "0.04966117933977876\n",
            "\n",
            " Best hyperparameters:\n",
            "{'degree': 10}\n"
          ]
        }
      ],
      "source": [
        "print('\\n All results:')\n",
        "print(grid_search.cv_results_)\n",
        "print('\\n Best estimator:')\n",
        "print(grid_search.best_estimator_)\n",
        "print('\\n Best normalized score')\n",
        "print(grid_search.best_score_)\n",
        "print('\\n Best hyperparameters:')\n",
        "print(grid_search.best_params_)"
      ]
    },
    {
      "cell_type": "code",
      "execution_count": null,
      "metadata": {
        "id": "fXi_kp5qgDnK",
        "outputId": "1c0b54ba-9ed9-4046-a226-3780b4332023"
      },
      "outputs": [
        {
          "name": "stdout",
          "output_type": "stream",
          "text": [
            "Best model test f1 score is 0.184\n"
          ]
        }
      ],
      "source": [
        "svc = SVC(kernel = 'poly', degree = 10)\n",
        "X_sresampled, y_sresampled = SMOTE().fit_resample(train_fp2, y_train2)\n",
        "svc.fit(X_sresampled, y_sresampled)\n",
        "test_predictions = rfc.predict(test_fp2)\n",
        "score = f1_score(y_test2, test_predictions)\n",
        "print(f\"Best model test f1 score is {round(score, 3)}\")"
      ]
    },
    {
      "cell_type": "markdown",
      "metadata": {
        "id": "2OhuRzj-gDnM"
      },
      "source": [
        "### 4. (2 балла) Логирование"
      ]
    },
    {
      "cell_type": "markdown",
      "metadata": {
        "id": "hOSCsSrhgDnN"
      },
      "source": [
        "![image.png](data:image/png;base64,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)"
      ]
    }
  ],
  "metadata": {
    "colab": {
      "collapsed_sections": [],
      "name": "IB_Practice_COVID.ipynb",
      "provenance": []
    },
    "kernelspec": {
      "display_name": "Python 3 (ipykernel)",
      "language": "python",
      "name": "python3"
    },
    "language_info": {
      "codemirror_mode": {
        "name": "ipython",
        "version": 3
      },
      "file_extension": ".py",
      "mimetype": "text/x-python",
      "name": "python",
      "nbconvert_exporter": "python",
      "pygments_lexer": "ipython3",
      "version": "3.9.7"
    },
    "nav_menu": {
      "height": "279px",
      "width": "309px"
    },
    "toc": {
      "nav_menu": {},
      "number_sections": true,
      "sideBar": true,
      "skip_h1_title": false,
      "toc_cell": false,
      "toc_position": {},
      "toc_section_display": "block",
      "toc_window_display": false
    }
  },
  "nbformat": 4,
  "nbformat_minor": 0
}