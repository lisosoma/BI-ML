{
 "cells": [
  {
   "cell_type": "markdown",
   "metadata": {
    "id": "BfLjxv-h7nVh"
   },
   "source": [
    "# Предсказание активности молекул по отношению к таргету\n",
    "\n",
    "*При подготовке ноутбука использовались данные из соревнования [Global AI Challenge](https://codenrock.com/contests/global-ai#/)* "
   ]
  },
  {
   "cell_type": "markdown",
   "metadata": {
    "id": "4Mesk6L-WEOS"
   },
   "source": [
    "Целью данной задачи является предсказание активности молекулы лиганда по отношению к таргету - Covid 19"
   ]
  },
  {
   "cell_type": "markdown",
   "metadata": {
    "id": "VGti6b5XvgZP"
   },
   "source": [
    "![](https://cloudfront.jove.com/files/media/science-education/science-education-thumbs/11513.jpg)"
   ]
  },
  {
   "cell_type": "markdown",
   "metadata": {
    "id": "hjme9vCGPeoR"
   },
   "source": [
    "## План анализа данных:\n",
    "\n",
    "  1. Загрузить данные для обучения\n",
    "  2. Обработать данные перед обучением модели\n",
    "  3. Обучить модель на обучающей выборке\n",
    "  4. Загрузить и предобработать данные для тестирования\n",
    "  5. Провалидировать модель на тестовой выборке\n"
   ]
  },
  {
   "cell_type": "markdown",
   "metadata": {
    "id": "yLs9g1vq7nVl"
   },
   "source": [
    "# 0. Установка и импорт библиотек"
   ]
  },
  {
   "cell_type": "code",
   "execution_count": null,
   "metadata": {
    "colab": {
     "base_uri": "https://localhost:8080/"
    },
    "id": "4yv5A2IvYvgW",
    "outputId": "3d3d630e-4ec8-4163-b6f3-c6b04b395063"
   },
   "outputs": [],
   "source": [
    "# Grab Jaime's excellent condacolab package: https://github.com/jaimergp/condacolab\n",
    "# Note: you should probably read the README file at that repo.\n",
    "!pip install -q condacolab\n",
    "import condacolab\n",
    "condacolab.install()"
   ]
  },
  {
   "cell_type": "code",
   "execution_count": null,
   "metadata": {
    "colab": {
     "base_uri": "https://localhost:8080/"
    },
    "id": "vgb8zsYnYwQ2",
    "outputId": "99019d38-a44d-47cb-862c-97e4c5e8b3fe"
   },
   "outputs": [],
   "source": [
    "!conda install -c conda-forge chembl_structure_pipeline"
   ]
  },
  {
   "cell_type": "code",
   "execution_count": null,
   "metadata": {
    "colab": {
     "base_uri": "https://localhost:8080/",
     "height": 1000
    },
    "id": "aGLsE-6Di2CT",
    "outputId": "2db24831-e1c5-4378-bd49-15a3818a48cd"
   },
   "outputs": [],
   "source": [
    "!pip install  dgl\n",
    "!pip install dgllife"
   ]
  },
  {
   "cell_type": "code",
   "execution_count": 1,
   "metadata": {
    "id": "qR-1lYPb7nVm"
   },
   "outputs": [],
   "source": [
    "# Python ≥3.5 is required\n",
    "import sys\n",
    "assert sys.version_info >= (3, 5)\n",
    "\n",
    "# Scikit-Learn ≥0.20 is required\n",
    "import sklearn\n",
    "assert sklearn.__version__ >= \"0.20\"\n",
    "\n",
    "# Common imports\n",
    "import numpy as np\n",
    "import os\n",
    "\n",
    "# To plot pretty figures\n",
    "%matplotlib inline\n",
    "import matplotlib as mpl\n",
    "import matplotlib.pyplot as plt\n",
    "mpl.rc('axes', labelsize=14)\n",
    "mpl.rc('xtick', labelsize=12)\n",
    "mpl.rc('ytick', labelsize=12)\n",
    "\n",
    "# Where to save the figures\n",
    "PROJECT_ROOT_DIR = \".\"\n",
    "CHAPTER_ID = \"end_to_end_project\"\n",
    "IMAGES_PATH = os.path.join(PROJECT_ROOT_DIR, \"images\", CHAPTER_ID)\n",
    "os.makedirs(IMAGES_PATH, exist_ok=True)\n",
    "\n",
    "def save_fig(fig_id, tight_layout=True, fig_extension=\"png\", resolution=300):\n",
    "    path = os.path.join(IMAGES_PATH, fig_id + \".\" + fig_extension)\n",
    "    print(\"Saving figure\", fig_id)\n",
    "    if tight_layout:\n",
    "        plt.tight_layout()\n",
    "    plt.savefig(path, format=fig_extension, dpi=resolution)"
   ]
  },
  {
   "cell_type": "markdown",
   "metadata": {
    "id": "mkKx4rBe7nVn"
   },
   "source": [
    "# 1. Загрузка данных"
   ]
  },
  {
   "cell_type": "code",
   "execution_count": null,
   "metadata": {
    "colab": {
     "base_uri": "https://localhost:8080/"
    },
    "id": "iu4_4vH5U-b_",
    "outputId": "2241c70f-b678-4750-9021-2b0ea8b775e9"
   },
   "outputs": [],
   "source": [
    "!wget https://www.dropbox.com/s/48c34raijlxc0nw/train.csv\n",
    "!wget https://www.dropbox.com/s/297trreazro8ivr/test_labels.csv"
   ]
  },
  {
   "cell_type": "code",
   "execution_count": 2,
   "metadata": {
    "id": "2Vb2iXqFVlIv"
   },
   "outputs": [],
   "source": [
    "DATA_PATH = \"./\"\n",
    "TRAIN_FILE = \"train.csv\"\n",
    "TEST_FILE = \"test_labels.csv\"\n",
    "\n",
    "SMILES_COLUMN = \"smiles\"\n",
    "TARGET_COLUMN = \"Active\""
   ]
  },
  {
   "cell_type": "code",
   "execution_count": 3,
   "metadata": {
    "id": "Wo7p7rlh7nVp"
   },
   "outputs": [],
   "source": [
    "import pandas as pd\n",
    "\n",
    "def load_train_test_data():\n",
    "    train_csv_path = os.path.join(DATA_PATH, TRAIN_FILE)\n",
    "    test_csv_path = os.path.join(DATA_PATH, TEST_FILE)\n",
    "    train_data = pd.read_csv(train_csv_path, index_col = 0)\n",
    "    test_data = pd.read_csv(test_csv_path,index_col = 0)\n",
    "    return train_data.rename(columns = {\"Smiles\":SMILES_COLUMN}), test_data.rename(columns = {\"Smiles\":SMILES_COLUMN})"
   ]
  },
  {
   "cell_type": "markdown",
   "metadata": {
    "id": "d5FULuFD7nVq"
   },
   "source": [
    "## 1.1 Анализ данных, формулировка задачи машинного обучения"
   ]
  },
  {
   "cell_type": "markdown",
   "metadata": {
    "id": "rR7a3bjKYXMg"
   },
   "source": [
    "Молекулы представлены в виде [SMILES нотации](https://en.wikipedia.org/wiki/Simplified_molecular-input_line-entry_system).\n",
    "\n",
    "![](https://upload.wikimedia.org/wikipedia/commons/thumb/0/00/SMILES.png/450px-SMILES.png)"
   ]
  },
  {
   "cell_type": "code",
   "execution_count": 4,
   "metadata": {
    "colab": {
     "base_uri": "https://localhost:8080/",
     "height": 206
    },
    "id": "SFPTy2uU7nVq",
    "outputId": "2c9eed79-70d9-41c6-eb12-121abca8f7a4"
   },
   "outputs": [
    {
     "data": {
      "text/html": [
       "<div>\n",
       "<style scoped>\n",
       "    .dataframe tbody tr th:only-of-type {\n",
       "        vertical-align: middle;\n",
       "    }\n",
       "\n",
       "    .dataframe tbody tr th {\n",
       "        vertical-align: top;\n",
       "    }\n",
       "\n",
       "    .dataframe thead th {\n",
       "        text-align: right;\n",
       "    }\n",
       "</style>\n",
       "<table border=\"1\" class=\"dataframe\">\n",
       "  <thead>\n",
       "    <tr style=\"text-align: right;\">\n",
       "      <th></th>\n",
       "      <th>smiles</th>\n",
       "      <th>Active</th>\n",
       "    </tr>\n",
       "  </thead>\n",
       "  <tbody>\n",
       "    <tr>\n",
       "      <th>0</th>\n",
       "      <td>COc1ccc2[nH]cc(CCN)c2c1</td>\n",
       "      <td>False</td>\n",
       "    </tr>\n",
       "    <tr>\n",
       "      <th>1</th>\n",
       "      <td>CCCN1CCC[C@H](c2cccc(O)c2)C1.Cl</td>\n",
       "      <td>False</td>\n",
       "    </tr>\n",
       "    <tr>\n",
       "      <th>2</th>\n",
       "      <td>O=C(NO)c1cnc(N2CCN(S(=O)(=O)c3ccc4ccccc4c3)CC2...</td>\n",
       "      <td>False</td>\n",
       "    </tr>\n",
       "    <tr>\n",
       "      <th>3</th>\n",
       "      <td>Nc1cccc(CNC(=O)c2ccc(Oc3ccc(OCc4cccc(F)c4)cc3)...</td>\n",
       "      <td>False</td>\n",
       "    </tr>\n",
       "    <tr>\n",
       "      <th>4</th>\n",
       "      <td>Fc1ccccc1CNCc1ccc(-c2ccnc3[nH]ccc23)cc1</td>\n",
       "      <td>False</td>\n",
       "    </tr>\n",
       "  </tbody>\n",
       "</table>\n",
       "</div>"
      ],
      "text/plain": [
       "                                              smiles  Active\n",
       "0                            COc1ccc2[nH]cc(CCN)c2c1   False\n",
       "1                    CCCN1CCC[C@H](c2cccc(O)c2)C1.Cl   False\n",
       "2  O=C(NO)c1cnc(N2CCN(S(=O)(=O)c3ccc4ccccc4c3)CC2...   False\n",
       "3  Nc1cccc(CNC(=O)c2ccc(Oc3ccc(OCc4cccc(F)c4)cc3)...   False\n",
       "4            Fc1ccccc1CNCc1ccc(-c2ccnc3[nH]ccc23)cc1   False"
      ]
     },
     "execution_count": 4,
     "metadata": {},
     "output_type": "execute_result"
    }
   ],
   "source": [
    "train_data, test_data = load_train_test_data()\n",
    "train_data.head()"
   ]
  },
  {
   "cell_type": "code",
   "execution_count": 5,
   "metadata": {
    "colab": {
     "base_uri": "https://localhost:8080/"
    },
    "id": "0LgIX7sO7nVr",
    "outputId": "0d3b27f7-c603-4517-cc3e-231d2e6bd4fa"
   },
   "outputs": [
    {
     "name": "stdout",
     "output_type": "stream",
     "text": [
      "<class 'pandas.core.frame.DataFrame'>\n",
      "Int64Index: 5557 entries, 0 to 5556\n",
      "Data columns (total 2 columns):\n",
      " #   Column  Non-Null Count  Dtype \n",
      "---  ------  --------------  ----- \n",
      " 0   smiles  5557 non-null   object\n",
      " 1   Active  5557 non-null   bool  \n",
      "dtypes: bool(1), object(1)\n",
      "memory usage: 92.3+ KB\n"
     ]
    }
   ],
   "source": [
    "train_data.info()"
   ]
  },
  {
   "cell_type": "code",
   "execution_count": 6,
   "metadata": {
    "colab": {
     "base_uri": "https://localhost:8080/"
    },
    "id": "E4y37kGY7nVr",
    "outputId": "37ef9f12-b2ae-4a18-f2bd-acb49e033caa"
   },
   "outputs": [
    {
     "data": {
      "text/plain": [
       "False    5351\n",
       "True      206\n",
       "Name: Active, dtype: int64"
      ]
     },
     "execution_count": 6,
     "metadata": {},
     "output_type": "execute_result"
    }
   ],
   "source": [
    "train_data[TARGET_COLUMN].value_counts()"
   ]
  },
  {
   "cell_type": "markdown",
   "metadata": {
    "id": "dGqDoviDYJT7"
   },
   "source": [
    "## 1.2 Предобработка данных"
   ]
  },
  {
   "cell_type": "code",
   "execution_count": 7,
   "metadata": {
    "id": "f92T0U7FY2RJ"
   },
   "outputs": [],
   "source": [
    "from rdkit import Chem\n",
    "from rdkit.Chem.SaltRemover import SaltRemover"
   ]
  },
  {
   "cell_type": "code",
   "execution_count": 8,
   "metadata": {
    "id": "fftxIeZvYN9D"
   },
   "outputs": [],
   "source": [
    "def remove_salts_and_canonicalized(smiles: str):\n",
    "    remover = SaltRemover(defnData=\"[Cl,Br]\")\n",
    "    mol = Chem.MolFromSmiles(smiles)\n",
    "    res = remover.StripMol(mol)\n",
    "    processed_smiles = Chem.MolToSmiles(res)\n",
    "    return processed_smiles"
   ]
  },
  {
   "cell_type": "code",
   "execution_count": 9,
   "metadata": {
    "id": "JPxDUTZ3bX50"
   },
   "outputs": [],
   "source": [
    "train_data[SMILES_COLUMN] = list(map(remove_salts_and_canonicalized, train_data[SMILES_COLUMN]))\n",
    "test_data[SMILES_COLUMN] = list(map(remove_salts_and_canonicalized, test_data[SMILES_COLUMN]))"
   ]
  },
  {
   "cell_type": "code",
   "execution_count": 10,
   "metadata": {
    "id": "OalSNSQJbnRy"
   },
   "outputs": [],
   "source": [
    "def change_str_target_to_int(targets: pd.Series):\n",
    "    target_map = {True: 1, False: 0}\n",
    "    processed_targets = targets.map(target_map)\n",
    "    return processed_targets.values"
   ]
  },
  {
   "cell_type": "code",
   "execution_count": 11,
   "metadata": {
    "id": "TV2SVaBvbyCJ"
   },
   "outputs": [],
   "source": [
    "train_data[TARGET_COLUMN] = change_str_target_to_int(train_data[TARGET_COLUMN])\n",
    "test_data[TARGET_COLUMN] = change_str_target_to_int(test_data[TARGET_COLUMN])"
   ]
  },
  {
   "cell_type": "code",
   "execution_count": 12,
   "metadata": {
    "colab": {
     "base_uri": "https://localhost:8080/",
     "height": 206
    },
    "id": "qYUE5SVJb74V",
    "outputId": "d18a3c37-683c-44e7-c447-db7a0002b8de"
   },
   "outputs": [
    {
     "data": {
      "text/html": [
       "<div>\n",
       "<style scoped>\n",
       "    .dataframe tbody tr th:only-of-type {\n",
       "        vertical-align: middle;\n",
       "    }\n",
       "\n",
       "    .dataframe tbody tr th {\n",
       "        vertical-align: top;\n",
       "    }\n",
       "\n",
       "    .dataframe thead th {\n",
       "        text-align: right;\n",
       "    }\n",
       "</style>\n",
       "<table border=\"1\" class=\"dataframe\">\n",
       "  <thead>\n",
       "    <tr style=\"text-align: right;\">\n",
       "      <th></th>\n",
       "      <th>smiles</th>\n",
       "      <th>Active</th>\n",
       "    </tr>\n",
       "  </thead>\n",
       "  <tbody>\n",
       "    <tr>\n",
       "      <th>0</th>\n",
       "      <td>COc1ccc2[nH]cc(CCN)c2c1</td>\n",
       "      <td>0</td>\n",
       "    </tr>\n",
       "    <tr>\n",
       "      <th>1</th>\n",
       "      <td>CCCN1CCC[C@H](c2cccc(O)c2)C1</td>\n",
       "      <td>0</td>\n",
       "    </tr>\n",
       "    <tr>\n",
       "      <th>2</th>\n",
       "      <td>O=C(NO)c1cnc(N2CCN(S(=O)(=O)c3ccc4ccccc4c3)CC2...</td>\n",
       "      <td>0</td>\n",
       "    </tr>\n",
       "    <tr>\n",
       "      <th>3</th>\n",
       "      <td>Nc1cccc(CNC(=O)c2ccc(Oc3ccc(OCc4cccc(F)c4)cc3)...</td>\n",
       "      <td>0</td>\n",
       "    </tr>\n",
       "    <tr>\n",
       "      <th>4</th>\n",
       "      <td>Fc1ccccc1CNCc1ccc(-c2ccnc3[nH]ccc23)cc1</td>\n",
       "      <td>0</td>\n",
       "    </tr>\n",
       "  </tbody>\n",
       "</table>\n",
       "</div>"
      ],
      "text/plain": [
       "                                              smiles  Active\n",
       "0                            COc1ccc2[nH]cc(CCN)c2c1       0\n",
       "1                       CCCN1CCC[C@H](c2cccc(O)c2)C1       0\n",
       "2  O=C(NO)c1cnc(N2CCN(S(=O)(=O)c3ccc4ccccc4c3)CC2...       0\n",
       "3  Nc1cccc(CNC(=O)c2ccc(Oc3ccc(OCc4cccc(F)c4)cc3)...       0\n",
       "4            Fc1ccccc1CNCc1ccc(-c2ccnc3[nH]ccc23)cc1       0"
      ]
     },
     "execution_count": 12,
     "metadata": {},
     "output_type": "execute_result"
    }
   ],
   "source": [
    "train_data.head()"
   ]
  },
  {
   "cell_type": "markdown",
   "metadata": {
    "id": "VA5cvAMB7nV0"
   },
   "source": [
    "## 1.3 Feature engineering"
   ]
  },
  {
   "cell_type": "markdown",
   "metadata": {
    "id": "eapoisincy5y"
   },
   "source": [
    "Молекулу можно представить в виде фингерпринта - вектора свойств, полученного по определенному алгоритму.\n",
    "\n",
    "Мы будем считать фингерпринты при помощи библиотеки RDKit. Про различные фингерпринты и их описание можно почитать тут - https://www.rdkit.org/docs/GettingStartedInPython.html#fingerprinting-and-molecular-similarity\n",
    "\n",
    "![](https://sun9-64.userapi.com/impf/_8Zy5WO6Mt0SIPx1YS02DeErAoZ0RHcwgc-kZg/Md98bNVzBg0.jpg?size=831x415&quality=96&sign=cb20481128a04ff523fd662dd0e604ab&type=album)\n"
   ]
  },
  {
   "cell_type": "markdown",
   "metadata": {
    "id": "JGRmKT4GfZhO"
   },
   "source": [
    "### Моргановские фингерпринты (ECFP)\n",
    "\n",
    "![](https://d3i71xaburhd42.cloudfront.net/52adf3589e8b7b9855353e5815669258ef6e3405/6-Figure2-1.png)"
   ]
  },
  {
   "cell_type": "code",
   "execution_count": 13,
   "metadata": {
    "id": "s_dhJG0hcjar"
   },
   "outputs": [],
   "source": [
    "from enum import Enum\n",
    "from functools import partial\n",
    "from rdkit import Chem, DataStructs\n",
    "from rdkit.DataStructs import ExplicitBitVect\n",
    "from rdkit.Chem import AllChem, MACCSkeys\n",
    "from typing import List\n"
   ]
  },
  {
   "cell_type": "code",
   "execution_count": 14,
   "metadata": {
    "id": "fDAw132ncV1z"
   },
   "outputs": [],
   "source": [
    "class FingerprintsNames(Enum):\n",
    "    ECFP4 = \"morgan_2_2048\"\n",
    "    RDKitFP = \"RDKFingerprint\"\n",
    "    TOPOTORSION = \"topological_torsion\"\n",
    "    MACCS = \"MACCSkeys\"\n",
    "    PATTERN = \"PatternFingerprint\"\n",
    "    ATOMPAIR = \"AtomPairFingerprint\"\n",
    "\n",
    "\n",
    "\n",
    "FINGERPRINTS_METHODS = {\n",
    "    FingerprintsNames.ECFP4: partial(AllChem.GetMorganFingerprintAsBitVect, radius=2, nBits=2048),\n",
    "    FingerprintsNames.RDKitFP: partial(Chem.RDKFingerprint, maxPath=5),\n",
    "    FingerprintsNames.TOPOTORSION: AllChem.GetHashedTopologicalTorsionFingerprintAsBitVect,\n",
    "    FingerprintsNames.MACCS: MACCSkeys.GenMACCSKeys,#TODO\n",
    "    FingerprintsNames.PATTERN: Chem.PatternFingerprint,#TODO\n",
    "    FingerprintsNames.ATOMPAIR: AllChem.GetHashedAtomPairFingerprintAsBitVect}#TODO\n"
   ]
  },
  {
   "cell_type": "code",
   "execution_count": 15,
   "metadata": {
    "id": "JenRUlnqftff"
   },
   "outputs": [],
   "source": [
    "fingerprint_type_name = FingerprintsNames.ECFP4\n",
    "fingerprint_type_method = FINGERPRINTS_METHODS[fingerprint_type_name]"
   ]
  },
  {
   "cell_type": "code",
   "execution_count": 16,
   "metadata": {
    "id": "gq0LMqS_f3IS"
   },
   "outputs": [],
   "source": [
    "def bit_vectors_to_numpy_arrays(fps: List[ExplicitBitVect]) -> np.array:\n",
    "    output_arrays = [np.zeros((1,)) for i in range(len(fps))]\n",
    "    _ = list(\n",
    "        map(lambda fp_output_array: DataStructs.ConvertToNumpyArray(fp_output_array[0], fp_output_array[1]),\n",
    "            zip(fps, output_arrays)))\n",
    "    return np.asarray(output_arrays)\n",
    "\n",
    "def get_np_array_of_fps(fp_type, smiles: List[str]):\n",
    "    # Calculate the morgan fingerprint\n",
    "    mols = [Chem.MolFromSmiles(m) for m in smiles]\n",
    "    fp = list(map(fp_type, mols))\n",
    "    return bit_vectors_to_numpy_arrays(fp)"
   ]
  },
  {
   "cell_type": "code",
   "execution_count": 17,
   "metadata": {
    "id": "51QDqlK9gIPL"
   },
   "outputs": [],
   "source": [
    "train_fp = get_np_array_of_fps(fp_type=fingerprint_type_method, smiles=train_data[SMILES_COLUMN])\n",
    "test_fp = get_np_array_of_fps(fp_type=fingerprint_type_method, smiles=test_data[SMILES_COLUMN])"
   ]
  },
  {
   "cell_type": "code",
   "execution_count": 18,
   "metadata": {
    "id": "UazJXd7ihDaN"
   },
   "outputs": [],
   "source": [
    "y_train = train_data[TARGET_COLUMN]\n",
    "y_test = test_data[TARGET_COLUMN]"
   ]
  },
  {
   "cell_type": "markdown",
   "metadata": {
    "id": "sxGZENW4iK12"
   },
   "source": [
    "# 2. Подготовка к обучению модели"
   ]
  },
  {
   "cell_type": "markdown",
   "metadata": {
    "id": "6Bb6GxjliWoo"
   },
   "source": [
    "## 2.1 Кросс-валидация"
   ]
  },
  {
   "cell_type": "markdown",
   "metadata": {
    "id": "ETyud6zkiWuL"
   },
   "source": [
    "![](https://pubs.rsc.org/image/article/2018/SC/c7sc02664a/c7sc02664a-f3_hi-res.gif)"
   ]
  },
  {
   "cell_type": "code",
   "execution_count": null,
   "metadata": {},
   "outputs": [],
   "source": [
    "#!conda create -n env_pytorch python\n",
    "!conda activate env_pytorch"
   ]
  },
  {
   "cell_type": "code",
   "execution_count": 19,
   "metadata": {
    "id": "6ODko-1xjg-h"
   },
   "outputs": [
    {
     "name": "stderr",
     "output_type": "stream",
     "text": [
      "Using backend: pytorch\n"
     ]
    }
   ],
   "source": [
    "from dgllife.utils import ScaffoldSplitter"
   ]
  },
  {
   "cell_type": "code",
   "execution_count": 20,
   "metadata": {
    "id": "HKRNnI7Gjaom"
   },
   "outputs": [],
   "source": [
    "class ScaffoldCVSklearn:\n",
    "    def __init__(self, data, k_folds):\n",
    "        self.scaffold_splits = ScaffoldSplitter.k_fold_split(data, k=k_folds)\n",
    "\n",
    "    def split(self):\n",
    "        indices_splits = []\n",
    "        for train_data, val_data in self.scaffold_splits:\n",
    "            train_indices = train_data.indices\n",
    "            val_indices = val_data.indices\n",
    "            indices_splits.append((train_indices, val_indices))\n",
    "        return indices_splits\n",
    "\n",
    "    def convert_data_to_indices(self, dataset):\n",
    "        indices = [index for index, row in dataset.iterrows()]\n",
    "        return indices\n"
   ]
  },
  {
   "cell_type": "code",
   "execution_count": 21,
   "metadata": {
    "colab": {
     "base_uri": "https://localhost:8080/"
    },
    "id": "ZgtmVfTIjkYt",
    "outputId": "44b1767f-e0a7-41c4-f900-eeaaadb00e32"
   },
   "outputs": [
    {
     "name": "stdout",
     "output_type": "stream",
     "text": [
      "Start initializing RDKit molecule instances...\n",
      "Creating RDKit molecule instance 1000/5557\n",
      "Creating RDKit molecule instance 2000/5557\n",
      "Creating RDKit molecule instance 3000/5557\n",
      "Creating RDKit molecule instance 4000/5557\n",
      "Creating RDKit molecule instance 5000/5557\n",
      "Start computing Bemis-Murcko scaffolds.\n",
      "Computing Bemis-Murcko for compound 1000/5557\n",
      "Computing Bemis-Murcko for compound 2000/5557\n",
      "Computing Bemis-Murcko for compound 3000/5557\n",
      "Computing Bemis-Murcko for compound 4000/5557\n",
      "Computing Bemis-Murcko for compound 5000/5557\n",
      "Processing fold 1/3\n",
      "Processing fold 2/3\n",
      "Processing fold 3/3\n"
     ]
    }
   ],
   "source": [
    "cv = ScaffoldCVSklearn(train_data, k_folds=3).split()"
   ]
  },
  {
   "cell_type": "markdown",
   "metadata": {
    "id": "t3n2DNVWmGwy"
   },
   "source": [
    "## 2.2 Установка модели"
   ]
  },
  {
   "cell_type": "code",
   "execution_count": 22,
   "metadata": {
    "id": "5r0a2xyzmXPb"
   },
   "outputs": [],
   "source": [
    "from xgboost import XGBClassifier"
   ]
  },
  {
   "cell_type": "code",
   "execution_count": 23,
   "metadata": {
    "id": "UcNAbWj3mOsd"
   },
   "outputs": [],
   "source": [
    "xgb = XGBClassifier(learning_rate=0.02, n_estimators=600, nthread=1, use_label_encoder=False)"
   ]
  },
  {
   "cell_type": "code",
   "execution_count": 24,
   "metadata": {
    "id": "2skyVQzSmFi7"
   },
   "outputs": [],
   "source": [
    "params = {\n",
    "        'max_depth': [10, 20, 30],\n",
    "        'n_estimators': [100]\n",
    "    }"
   ]
  },
  {
   "cell_type": "markdown",
   "metadata": {
    "id": "p9LTIVUHmkKH"
   },
   "source": [
    "## 2.3 Поиск параметров"
   ]
  },
  {
   "cell_type": "code",
   "execution_count": 26,
   "metadata": {
    "id": "kOZuGXzdmoGE"
   },
   "outputs": [],
   "source": [
    "from sklearn.model_selection import GridSearchCV, RandomizedSearchCV\n",
    "\n",
    "grid_search = GridSearchCV(xgb, param_grid=params, scoring='accuracy', n_jobs=4,\n",
    "                               cv=cv, verbose=10000)"
   ]
  },
  {
   "cell_type": "markdown",
   "metadata": {
    "id": "WAkjg3iAmvvI"
   },
   "source": [
    "# Подбор параметров модели"
   ]
  },
  {
   "cell_type": "code",
   "execution_count": 27,
   "metadata": {
    "id": "zvUqvA2DuZh7"
   },
   "outputs": [
    {
     "name": "stdout",
     "output_type": "stream",
     "text": [
      "\n",
      " Start Grid Search\n",
      "Fitting 3 folds for each of 3 candidates, totalling 9 fits\n",
      "[22:31:30] WARNING: C:/Users/Administrator/workspace/xgboost-win64_release_1.5.1/src/learner.cc:1115: Starting in XGBoost 1.3.0, the default evaluation metric used with the objective 'binary:logistic' was changed from 'error' to 'logloss'. Explicitly set eval_metric if you'd like to restore the old behavior.\n"
     ]
    },
    {
     "data": {
      "text/plain": [
       "GridSearchCV(cv=[([5, 6, 13, 81, 96, 126, 149, 160, 163, 175, 194, 196, 230,\n",
       "                   248, 260, 280, 283, 287, 301, 320, 329, 353, 392, 393, 394,\n",
       "                   409, 430, 443, 462, 490, ...],\n",
       "                  [22, 49, 52, 67, 103, 107, 154, 184, 188, 202, 214, 225, 226,\n",
       "                   229, 236, 254, 266, 292, 293, 302, 308, 313, 331, 382, 383,\n",
       "                   402, 454, 474, 477, 482, ...]),\n",
       "                 ([22, 49, 52, 67, 103, 107, 154, 184, 188, 202, 214, 225, 226,\n",
       "                   229, 236, 254, 266, 292, 293, 302, 308, 313, 331,...\n",
       "                                     missing=nan, monotone_constraints=None,\n",
       "                                     n_estimators=600, n_jobs=None, nthread=1,\n",
       "                                     num_parallel_tree=None, predictor=None,\n",
       "                                     random_state=None, reg_alpha=None,\n",
       "                                     reg_lambda=None, scale_pos_weight=None,\n",
       "                                     subsample=None, tree_method=None,\n",
       "                                     use_label_encoder=False,\n",
       "                                     validate_parameters=None, verbosity=None),\n",
       "             n_jobs=4,\n",
       "             param_grid={'max_depth': [10, 20, 30], 'n_estimators': [100]},\n",
       "             scoring='accuracy', verbose=10000)"
      ]
     },
     "execution_count": 27,
     "metadata": {},
     "output_type": "execute_result"
    }
   ],
   "source": [
    "print('\\n Start Grid Search')\n",
    "grid_search.fit(train_fp, y_train)"
   ]
  },
  {
   "cell_type": "code",
   "execution_count": 28,
   "metadata": {
    "colab": {
     "base_uri": "https://localhost:8080/"
    },
    "id": "_jjCU96JmuFR",
    "outputId": "f798992a-ef3d-46b9-f80e-1935801a5c44"
   },
   "outputs": [
    {
     "name": "stdout",
     "output_type": "stream",
     "text": [
      "\n",
      " All results:\n",
      "{'mean_fit_time': array([ 56.40964611, 113.70213381, 142.55176942]), 'std_fit_time': array([ 0.25431669,  1.4967031 , 12.8380594 ]), 'mean_score_time': array([0.15225991, 0.15757863, 0.14033246]), 'std_score_time': array([0.00692637, 0.00293483, 0.01241946]), 'param_max_depth': masked_array(data=[10, 20, 30],\n",
      "             mask=[False, False, False],\n",
      "       fill_value='?',\n",
      "            dtype=object), 'param_n_estimators': masked_array(data=[100, 100, 100],\n",
      "             mask=[False, False, False],\n",
      "       fill_value='?',\n",
      "            dtype=object), 'params': [{'max_depth': 10, 'n_estimators': 100}, {'max_depth': 20, 'n_estimators': 100}, {'max_depth': 30, 'n_estimators': 100}], 'split0_test_score': array([0.95412844, 0.95520777, 0.95574744]), 'split1_test_score': array([0.96706263, 0.96598272, 0.96814255]), 'split2_test_score': array([0.96976242, 0.96922246, 0.97084233]), 'mean_test_score': array([0.96365116, 0.96347098, 0.96491077]), 'std_test_score': array([0.00682319, 0.0059908 , 0.00657253]), 'rank_test_score': array([2, 3, 1])}\n",
      "\n",
      " Best estimator:\n",
      "XGBClassifier(base_score=0.5, booster='gbtree', colsample_bylevel=1,\n",
      "              colsample_bynode=1, colsample_bytree=1, enable_categorical=False,\n",
      "              gamma=0, gpu_id=-1, importance_type=None,\n",
      "              interaction_constraints='', learning_rate=0.02, max_delta_step=0,\n",
      "              max_depth=30, min_child_weight=1, missing=nan,\n",
      "              monotone_constraints='()', n_estimators=100, n_jobs=1, nthread=1,\n",
      "              num_parallel_tree=1, predictor='auto', random_state=0,\n",
      "              reg_alpha=0, reg_lambda=1, scale_pos_weight=1, subsample=1,\n",
      "              tree_method='exact', use_label_encoder=False,\n",
      "              validate_parameters=1, verbosity=None)\n",
      "\n",
      " Best normalized score\n",
      "0.9649107725996059\n",
      "\n",
      " Best hyperparameters:\n",
      "{'max_depth': 30, 'n_estimators': 100}\n"
     ]
    }
   ],
   "source": [
    "print('\\n All results:')\n",
    "print(grid_search.cv_results_)\n",
    "print('\\n Best estimator:')\n",
    "print(grid_search.best_estimator_)\n",
    "print('\\n Best normalized score')\n",
    "print(grid_search.best_score_)\n",
    "print('\\n Best hyperparameters:')\n",
    "print(grid_search.best_params_)"
   ]
  },
  {
   "cell_type": "markdown",
   "metadata": {
    "id": "knXJz2mdoV9m"
   },
   "source": [
    "# Обучение и оценка модели"
   ]
  },
  {
   "cell_type": "code",
   "execution_count": 29,
   "metadata": {
    "id": "L790fBRZoZf2"
   },
   "outputs": [],
   "source": [
    "xgb = XGBClassifier(max_depth=10, n_estimators=100, learning_rate=0.02,  nthread=1, use_label_encoder=False)"
   ]
  },
  {
   "cell_type": "code",
   "execution_count": 30,
   "metadata": {
    "colab": {
     "base_uri": "https://localhost:8080/"
    },
    "id": "YE1x1_Mqoh09",
    "outputId": "c46c0338-edc5-4352-f10a-9e923f417237"
   },
   "outputs": [
    {
     "name": "stdout",
     "output_type": "stream",
     "text": [
      "[22:34:06] WARNING: C:/Users/Administrator/workspace/xgboost-win64_release_1.5.1/src/learner.cc:1115: Starting in XGBoost 1.3.0, the default evaluation metric used with the objective 'binary:logistic' was changed from 'error' to 'logloss'. Explicitly set eval_metric if you'd like to restore the old behavior.\n"
     ]
    },
    {
     "data": {
      "text/plain": [
       "XGBClassifier(base_score=0.5, booster='gbtree', colsample_bylevel=1,\n",
       "              colsample_bynode=1, colsample_bytree=1, enable_categorical=False,\n",
       "              gamma=0, gpu_id=-1, importance_type=None,\n",
       "              interaction_constraints='', learning_rate=0.02, max_delta_step=0,\n",
       "              max_depth=10, min_child_weight=1, missing=nan,\n",
       "              monotone_constraints='()', n_estimators=100, n_jobs=1, nthread=1,\n",
       "              num_parallel_tree=1, predictor='auto', random_state=0,\n",
       "              reg_alpha=0, reg_lambda=1, scale_pos_weight=1, subsample=1,\n",
       "              tree_method='exact', use_label_encoder=False,\n",
       "              validate_parameters=1, verbosity=None)"
      ]
     },
     "execution_count": 30,
     "metadata": {},
     "output_type": "execute_result"
    }
   ],
   "source": [
    "xgb.fit(train_fp, y_train)"
   ]
  },
  {
   "cell_type": "code",
   "execution_count": 31,
   "metadata": {
    "id": "liD-uHOaojTU"
   },
   "outputs": [],
   "source": [
    "test_predictions = xgb.predict(test_fp)"
   ]
  },
  {
   "cell_type": "code",
   "execution_count": 37,
   "metadata": {
    "id": "kGP02U_uolm-"
   },
   "outputs": [],
   "source": [
    "from sklearn.metrics import f1_score"
   ]
  },
  {
   "cell_type": "code",
   "execution_count": 33,
   "metadata": {
    "colab": {
     "base_uri": "https://localhost:8080/"
    },
    "id": "yDQh30LSotE0",
    "outputId": "c0c59fe8-4f07-4e20-a193-9beddf1a1810"
   },
   "outputs": [
    {
     "name": "stdout",
     "output_type": "stream",
     "text": [
      "Best model test f1 score is 0.265\n"
     ]
    }
   ],
   "source": [
    "score = f1_score(y_test, test_predictions)\n",
    "print(f\"Best model test f1 score is {round(score, 3)}\")"
   ]
  },
  {
   "cell_type": "markdown",
   "metadata": {
    "id": "X3LMIEGPo-Yu"
   },
   "source": [
    "# Задание (10 баллов + 3 бонусных)\n",
    "1. (3 балла) Добавить решение проблемы несбалансированной классификации\n",
    "\n",
    "Варианты:\n",
    "* UnderSampling\n",
    "* OverSampling\n",
    "* SMOTE\n",
    "* Внутренние инструменты модели (`scale_pos_weight`)\n",
    "\n",
    "2. (2 балла) Использовать еще 2 вида фингерпринтов из `FingerprintsNames`\n",
    "\n",
    "3. (3 балла) Получить f1-score на тестовом датасете больше 0.35\n",
    "\n",
    "Варианты:\n",
    "* Увеличить количество параметров в подборе гиперпараметров\n",
    "* Использовать другие алгоритмы подбора гиперпараметров (например, [RandomizedSearch](https://scikit-learn.org/stable/modules/generated/sklearn.model_selection.RandomizedSearchCV.html))\n",
    "* Использовать другие модели (Random Forest, SVC, MLPClassifier, etc)\n",
    "\n",
    "4. (2 балла) Логирование\n",
    "\n",
    "В качестве финального результата предоставьте таблицу (можно `pd.DataFrame`) c колонками: Model, Fingerprint, Best Parameters, Mean Cross-Validation Score, Std Cross-Validation Score, Test Score \n",
    "\n",
    "Проанализируйте результаты: \n",
    "* Какие фингерпринты дали лучший результат?\n",
    "* Какая модель дала лучший результат.\n",
    "* Коррелируют ли скоры на кросс-валидации и тестовой выборке?\n",
    "\n",
    "5. (Бонус +3 балла) Получить f1-score на тестовом датасете больше 0.45"
   ]
  },
  {
   "cell_type": "markdown",
   "metadata": {
    "id": "daFeFpqfvrRb"
   },
   "source": [
    "### 1. (3 балла) Добавить решение проблемы несбалансированной классификации"
   ]
  },
  {
   "cell_type": "markdown",
   "metadata": {},
   "source": [
    "#### UnderSampling"
   ]
  },
  {
   "cell_type": "code",
   "execution_count": 22,
   "metadata": {},
   "outputs": [],
   "source": [
    "from imblearn.under_sampling import RandomUnderSampler\n",
    "rus = RandomUnderSampler(random_state=0)\n",
    "X_uresampled, y_uresampled = rus.fit_resample(train_fp, y_train)"
   ]
  },
  {
   "cell_type": "code",
   "execution_count": 35,
   "metadata": {},
   "outputs": [
    {
     "data": {
      "text/plain": [
       "412"
      ]
     },
     "execution_count": 35,
     "metadata": {},
     "output_type": "execute_result"
    }
   ],
   "source": [
    "len(X_uresampled)"
   ]
  },
  {
   "cell_type": "markdown",
   "metadata": {},
   "source": [
    "#### OverSampling"
   ]
  },
  {
   "cell_type": "code",
   "execution_count": 23,
   "metadata": {},
   "outputs": [],
   "source": [
    "from imblearn.over_sampling import RandomOverSampler\n",
    "ros = RandomOverSampler(random_state=0)\n",
    "X_oresampled, y_oresampled = ros.fit_resample(train_fp, y_train)"
   ]
  },
  {
   "cell_type": "code",
   "execution_count": 37,
   "metadata": {},
   "outputs": [
    {
     "data": {
      "text/plain": [
       "10702"
      ]
     },
     "execution_count": 37,
     "metadata": {},
     "output_type": "execute_result"
    }
   ],
   "source": [
    "len(X_oresampled)"
   ]
  },
  {
   "cell_type": "markdown",
   "metadata": {},
   "source": [
    "#### SMOTE"
   ]
  },
  {
   "cell_type": "code",
   "execution_count": 24,
   "metadata": {},
   "outputs": [],
   "source": [
    "from imblearn.over_sampling import SMOTE\n",
    "X_sresampled, y_sresampled = SMOTE().fit_resample(train_fp, y_train)"
   ]
  },
  {
   "cell_type": "code",
   "execution_count": 39,
   "metadata": {},
   "outputs": [
    {
     "data": {
      "text/plain": [
       "10702"
      ]
     },
     "execution_count": 39,
     "metadata": {},
     "output_type": "execute_result"
    }
   ],
   "source": [
    "len(X_sresampled)"
   ]
  },
  {
   "cell_type": "markdown",
   "metadata": {},
   "source": [
    "#### Внутренние инструменты модели (`scale_pos_weight`)"
   ]
  },
  {
   "cell_type": "markdown",
   "metadata": {},
   "source": [
    "Используем внутренний инструмент, сразу обучив модель, используя его, и посчитав f1. "
   ]
  },
  {
   "cell_type": "code",
   "execution_count": 40,
   "metadata": {},
   "outputs": [],
   "source": [
    "xgb = XGBClassifier(max_depth=20, n_estimators=200, learning_rate=0.02,  nthread=1, use_label_encoder=False, \n",
    "                    scale_pos_weight = float(np.sum(y_train == 0)) / np.sum(y_train==1))"
   ]
  },
  {
   "cell_type": "code",
   "execution_count": 41,
   "metadata": {},
   "outputs": [
    {
     "name": "stdout",
     "output_type": "stream",
     "text": [
      "[22:35:07] WARNING: C:/Users/Administrator/workspace/xgboost-win64_release_1.5.1/src/learner.cc:1115: Starting in XGBoost 1.3.0, the default evaluation metric used with the objective 'binary:logistic' was changed from 'error' to 'logloss'. Explicitly set eval_metric if you'd like to restore the old behavior.\n"
     ]
    },
    {
     "data": {
      "text/plain": [
       "XGBClassifier(base_score=0.5, booster='gbtree', colsample_bylevel=1,\n",
       "              colsample_bynode=1, colsample_bytree=1, enable_categorical=False,\n",
       "              gamma=0, gpu_id=-1, importance_type=None,\n",
       "              interaction_constraints='', learning_rate=0.02, max_delta_step=0,\n",
       "              max_depth=20, min_child_weight=1, missing=nan,\n",
       "              monotone_constraints='()', n_estimators=200, n_jobs=1, nthread=1,\n",
       "              num_parallel_tree=1, predictor='auto', random_state=0,\n",
       "              reg_alpha=0, reg_lambda=1, scale_pos_weight=25.975728155339805,\n",
       "              subsample=1, tree_method='exact', use_label_encoder=False,\n",
       "              validate_parameters=1, verbosity=None)"
      ]
     },
     "execution_count": 41,
     "metadata": {},
     "output_type": "execute_result"
    }
   ],
   "source": [
    "xgb.fit(train_fp, y_train)"
   ]
  },
  {
   "cell_type": "code",
   "execution_count": 43,
   "metadata": {},
   "outputs": [
    {
     "name": "stdout",
     "output_type": "stream",
     "text": [
      "Best model test f1 score is 0.35\n"
     ]
    }
   ],
   "source": [
    "test_predictions = xgb.predict(test_fp)\n",
    "score = f1_score(y_test, test_predictions)\n",
    "print(f\"Best model test f1 score is {round(score, 3)}\")"
   ]
  },
  {
   "cell_type": "markdown",
   "metadata": {},
   "source": [
    "### 2. (2 балла) Использовать еще 2 вида фингерпринтов из FingerprintsNames"
   ]
  },
  {
   "cell_type": "markdown",
   "metadata": {},
   "source": [
    "#### MACCS"
   ]
  },
  {
   "cell_type": "code",
   "execution_count": 25,
   "metadata": {},
   "outputs": [],
   "source": [
    "fingerprint_type_name = FingerprintsNames.MACCS\n",
    "fingerprint_type_method = FINGERPRINTS_METHODS[fingerprint_type_name]"
   ]
  },
  {
   "cell_type": "code",
   "execution_count": 26,
   "metadata": {},
   "outputs": [],
   "source": [
    "train_fp2 = get_np_array_of_fps(fp_type=fingerprint_type_method, smiles=train_data[SMILES_COLUMN])\n",
    "test_fp2 = get_np_array_of_fps(fp_type=fingerprint_type_method, smiles=test_data[SMILES_COLUMN])"
   ]
  },
  {
   "cell_type": "code",
   "execution_count": 27,
   "metadata": {},
   "outputs": [],
   "source": [
    "y_train2 = train_data[TARGET_COLUMN]\n",
    "y_test2 = test_data[TARGET_COLUMN]"
   ]
  },
  {
   "cell_type": "markdown",
   "metadata": {},
   "source": [
    "#### TOPOTORSION"
   ]
  },
  {
   "cell_type": "code",
   "execution_count": 47,
   "metadata": {},
   "outputs": [],
   "source": [
    "fingerprint_type_name = FingerprintsNames.TOPOTORSION\n",
    "fingerprint_type_method = FINGERPRINTS_METHODS[fingerprint_type_name]"
   ]
  },
  {
   "cell_type": "code",
   "execution_count": 48,
   "metadata": {},
   "outputs": [],
   "source": [
    "train_fp3 = get_np_array_of_fps(fp_type=fingerprint_type_method, smiles=train_data[SMILES_COLUMN])\n",
    "test_fp3 = get_np_array_of_fps(fp_type=fingerprint_type_method, smiles=test_data[SMILES_COLUMN])"
   ]
  },
  {
   "cell_type": "code",
   "execution_count": 49,
   "metadata": {},
   "outputs": [],
   "source": [
    "y_train3 = train_data[TARGET_COLUMN]\n",
    "y_test3 = test_data[TARGET_COLUMN]"
   ]
  },
  {
   "cell_type": "markdown",
   "metadata": {},
   "source": [
    "### 3. (3 балла) Получить f1-score на тестовом датасете больше 0.35"
   ]
  },
  {
   "cell_type": "code",
   "execution_count": 50,
   "metadata": {},
   "outputs": [],
   "source": [
    "from imblearn.over_sampling import SMOTE\n",
    "X_sresampled, y_sresampled = SMOTE().fit_resample(train_fp2, y_train2)"
   ]
  },
  {
   "cell_type": "markdown",
   "metadata": {},
   "source": [
    "#### Увеличить количество параметров в подборе гиперпараметров"
   ]
  },
  {
   "cell_type": "code",
   "execution_count": 51,
   "metadata": {},
   "outputs": [],
   "source": [
    "params = {\n",
    "        'max_depth': [8, 10, 20, 30],\n",
    "        'n_estimators': [10, 50, 100]\n",
    "}"
   ]
  },
  {
   "cell_type": "code",
   "execution_count": 32,
   "metadata": {},
   "outputs": [],
   "source": [
    "from sklearn.model_selection import GridSearchCV"
   ]
  },
  {
   "cell_type": "code",
   "execution_count": 53,
   "metadata": {},
   "outputs": [],
   "source": [
    "from sklearn.model_selection import GridSearchCV\n",
    "\n",
    "grid_search = GridSearchCV(xgb, param_grid=params, scoring='f1', n_jobs=4,\n",
    "                               cv=cv, verbose=10000)"
   ]
  },
  {
   "cell_type": "code",
   "execution_count": 54,
   "metadata": {},
   "outputs": [
    {
     "name": "stdout",
     "output_type": "stream",
     "text": [
      "\n",
      " Start Grid Search\n",
      "Fitting 3 folds for each of 12 candidates, totalling 36 fits\n",
      "[22:41:22] WARNING: C:/Users/Administrator/workspace/xgboost-win64_release_1.5.1/src/learner.cc:1115: Starting in XGBoost 1.3.0, the default evaluation metric used with the objective 'binary:logistic' was changed from 'error' to 'logloss'. Explicitly set eval_metric if you'd like to restore the old behavior.\n"
     ]
    },
    {
     "data": {
      "text/plain": [
       "GridSearchCV(cv=[([5, 6, 13, 81, 96, 126, 149, 160, 163, 175, 194, 196, 230,\n",
       "                   248, 260, 280, 283, 287, 301, 320, 329, 353, 392, 393, 394,\n",
       "                   409, 430, 443, 462, 490, ...],\n",
       "                  [22, 49, 52, 67, 103, 107, 154, 184, 188, 202, 214, 225, 226,\n",
       "                   229, 236, 254, 266, 292, 293, 302, 308, 313, 331, 382, 383,\n",
       "                   402, 454, 474, 477, 482, ...]),\n",
       "                 ([22, 49, 52, 67, 103, 107, 154, 184, 188, 202, 214, 225, 226,\n",
       "                   229, 236, 254, 266, 292, 293, 302, 308, 313, 331,...\n",
       "                                     missing=nan, monotone_constraints='()',\n",
       "                                     n_estimators=200, n_jobs=1, nthread=1,\n",
       "                                     num_parallel_tree=1, predictor='auto',\n",
       "                                     random_state=0, reg_alpha=0, reg_lambda=1,\n",
       "                                     scale_pos_weight=25.975728155339805,\n",
       "                                     subsample=1, tree_method='exact',\n",
       "                                     use_label_encoder=False,\n",
       "                                     validate_parameters=1, verbosity=None),\n",
       "             n_jobs=4,\n",
       "             param_grid={'max_depth': [8, 10, 20, 30],\n",
       "                         'n_estimators': [10, 50, 100]},\n",
       "             scoring='f1', verbose=10000)"
      ]
     },
     "execution_count": 54,
     "metadata": {},
     "output_type": "execute_result"
    }
   ],
   "source": [
    "print('\\n Start Grid Search')\n",
    "grid_search.fit(X_sresampled, y_sresampled)"
   ]
  },
  {
   "cell_type": "code",
   "execution_count": 55,
   "metadata": {},
   "outputs": [
    {
     "name": "stdout",
     "output_type": "stream",
     "text": [
      "\n",
      " All results:\n",
      "{'mean_fit_time': array([0.44959331, 2.02210426, 3.88113348, 0.54422871, 2.70467861,\n",
      "       5.43762231, 0.75779096, 4.61141197, 9.99296165, 1.15367444,\n",
      "       4.72596399, 8.39936304]), 'std_fit_time': array([0.00577674, 0.00694046, 0.00182945, 0.01669309, 0.18222931,\n",
      "       0.08042542, 0.02482187, 0.2888481 , 0.2297592 , 0.03992474,\n",
      "       0.09956611, 0.1517883 ]), 'mean_score_time': array([0.01462928, 0.01795316, 0.02026812, 0.01396577, 0.0172871 ,\n",
      "       0.02360376, 0.01595759, 0.0233295 , 0.03686754, 0.01761937,\n",
      "       0.02293833, 0.03192623]), 'std_score_time': array([0.00188155, 0.00325845, 0.00236657, 0.00355417, 0.00094094,\n",
      "       0.00384973, 0.00282131, 0.00293277, 0.00352178, 0.00187941,\n",
      "       0.00140928, 0.00406594]), 'param_max_depth': masked_array(data=[8, 8, 8, 10, 10, 10, 20, 20, 20, 30, 30, 30],\n",
      "             mask=[False, False, False, False, False, False, False, False,\n",
      "                   False, False, False, False],\n",
      "       fill_value='?',\n",
      "            dtype=object), 'param_n_estimators': masked_array(data=[10, 50, 100, 10, 50, 100, 10, 50, 100, 10, 50, 100],\n",
      "             mask=[False, False, False, False, False, False, False, False,\n",
      "                   False, False, False, False],\n",
      "       fill_value='?',\n",
      "            dtype=object), 'params': [{'max_depth': 8, 'n_estimators': 10}, {'max_depth': 8, 'n_estimators': 50}, {'max_depth': 8, 'n_estimators': 100}, {'max_depth': 10, 'n_estimators': 10}, {'max_depth': 10, 'n_estimators': 50}, {'max_depth': 10, 'n_estimators': 100}, {'max_depth': 20, 'n_estimators': 10}, {'max_depth': 20, 'n_estimators': 50}, {'max_depth': 20, 'n_estimators': 100}, {'max_depth': 30, 'n_estimators': 10}, {'max_depth': 30, 'n_estimators': 50}, {'max_depth': 30, 'n_estimators': 100}], 'split0_test_score': array([0.14492754, 0.16289593, 0.16574586, 0.13375796, 0.17592593,\n",
      "       0.18666667, 0.18099548, 0.19047619, 0.18918919, 0.18099548,\n",
      "       0.19047619, 0.17333333]), 'split1_test_score': array([0.11661808, 0.17467249, 0.21164021, 0.12751678, 0.18      ,\n",
      "       0.20689655, 0.14611872, 0.20915033, 0.17241379, 0.14611872,\n",
      "       0.20915033, 0.17241379]), 'split2_test_score': array([0.11510791, 0.13157895, 0.15720524, 0.13296399, 0.1328125 ,\n",
      "       0.17      , 0.13733906, 0.17910448, 0.18987342, 0.13733906,\n",
      "       0.18      , 0.19480519]), 'mean_test_score': array([0.12555118, 0.15638245, 0.1781971 , 0.13141291, 0.16291281,\n",
      "       0.18785441, 0.15481775, 0.19291033, 0.18382547, 0.15481775,\n",
      "       0.19320884, 0.18018411]), 'std_test_score': array([0.01371502, 0.01818575, 0.02390351, 0.00277398, 0.02134902,\n",
      "       0.01508635, 0.01885428, 0.01238634, 0.00807411, 0.01885428,\n",
      "       0.01205642, 0.01034548]), 'rank_test_score': array([12,  8,  6, 11,  7,  3,  9,  2,  4,  9,  1,  5])}\n",
      "\n",
      " Best estimator:\n",
      "XGBClassifier(base_score=0.5, booster='gbtree', colsample_bylevel=1,\n",
      "              colsample_bynode=1, colsample_bytree=1, enable_categorical=False,\n",
      "              gamma=0, gpu_id=-1, importance_type=None,\n",
      "              interaction_constraints='', learning_rate=0.02, max_delta_step=0,\n",
      "              max_depth=30, min_child_weight=1, missing=nan,\n",
      "              monotone_constraints='()', n_estimators=50, n_jobs=1, nthread=1,\n",
      "              num_parallel_tree=1, predictor='auto', random_state=0,\n",
      "              reg_alpha=0, reg_lambda=1, scale_pos_weight=25.975728155339805,\n",
      "              subsample=1, tree_method='exact', use_label_encoder=False,\n",
      "              validate_parameters=1, verbosity=None)\n",
      "\n",
      " Best normalized score\n",
      "0.19320883909119205\n",
      "\n",
      " Best hyperparameters:\n",
      "{'max_depth': 30, 'n_estimators': 50}\n"
     ]
    }
   ],
   "source": [
    "print('\\n All results:')\n",
    "print(grid_search.cv_results_)\n",
    "print('\\n Best estimator:')\n",
    "print(grid_search.best_estimator_)\n",
    "print('\\n Best normalized score')\n",
    "print(grid_search.best_score_)\n",
    "print('\\n Best hyperparameters:')\n",
    "print(grid_search.best_params_)"
   ]
  },
  {
   "cell_type": "code",
   "execution_count": 57,
   "metadata": {},
   "outputs": [
    {
     "name": "stdout",
     "output_type": "stream",
     "text": [
      "[22:42:51] WARNING: C:/Users/Administrator/workspace/xgboost-win64_release_1.5.1/src/learner.cc:1115: Starting in XGBoost 1.3.0, the default evaluation metric used with the objective 'binary:logistic' was changed from 'error' to 'logloss'. Explicitly set eval_metric if you'd like to restore the old behavior.\n"
     ]
    },
    {
     "data": {
      "text/plain": [
       "XGBClassifier(base_score=0.5, booster='gbtree', colsample_bylevel=1,\n",
       "              colsample_bynode=1, colsample_bytree=1, enable_categorical=False,\n",
       "              gamma=0, gpu_id=-1, importance_type=None,\n",
       "              interaction_constraints='', learning_rate=0.02, max_delta_step=0,\n",
       "              max_depth=20, min_child_weight=1, missing=nan,\n",
       "              monotone_constraints='()', n_estimators=50, n_jobs=1, nthread=1,\n",
       "              num_parallel_tree=1, predictor='auto', random_state=0,\n",
       "              reg_alpha=0, reg_lambda=1, scale_pos_weight=1, subsample=1,\n",
       "              tree_method='exact', use_label_encoder=False,\n",
       "              validate_parameters=1, verbosity=None)"
      ]
     },
     "execution_count": 57,
     "metadata": {},
     "output_type": "execute_result"
    }
   ],
   "source": [
    "xgb = XGBClassifier(max_depth=20, n_estimators=200, learning_rate=0.2,  nthread=1, use_label_encoder=False)\n",
    "xgb.fit(X_sresampled, y_sresampled)"
   ]
  },
  {
   "cell_type": "code",
   "execution_count": 59,
   "metadata": {},
   "outputs": [],
   "source": [
    "test_predictions = xgb.predict(test_fp2)"
   ]
  },
  {
   "cell_type": "code",
   "execution_count": 60,
   "metadata": {},
   "outputs": [
    {
     "name": "stdout",
     "output_type": "stream",
     "text": [
      "Best model test f1 score is 0.225\n"
     ]
    }
   ],
   "source": [
    "score = f1_score(y_test2, test_predictions)\n",
    "print(f\"Best model test f1 score is {round(score, 3)}\")"
   ]
  },
  {
   "cell_type": "markdown",
   "metadata": {},
   "source": [
    "#### Использовать другие алгоритмы подбора гиперпараметров (например, RandomizedSearch)"
   ]
  },
  {
   "cell_type": "code",
   "execution_count": 61,
   "metadata": {},
   "outputs": [],
   "source": [
    "from scipy.stats import randint, uniform\n"
   ]
  },
  {
   "cell_type": "code",
   "execution_count": 62,
   "metadata": {},
   "outputs": [],
   "source": [
    "from scipy.stats import randint, uniform\n",
    "import scipy.stats as sts\n",
    "\n",
    "distributions = dict(max_depth = randint(5, 10),\n",
    "                     n_estimators = randint(low=10, high=100))"
   ]
  },
  {
   "cell_type": "code",
   "execution_count": 63,
   "metadata": {},
   "outputs": [],
   "source": [
    "from sklearn.model_selection import RandomizedSearchCV\n",
    "\n",
    "grid_search = RandomizedSearchCV(xgb, param_distributions =distributions, scoring='f1', n_jobs=4,\n",
    "                               cv=cv, verbose=10000)"
   ]
  },
  {
   "cell_type": "markdown",
   "metadata": {},
   "source": [
    "Для первого фингерпринта"
   ]
  },
  {
   "cell_type": "code",
   "execution_count": 69,
   "metadata": {},
   "outputs": [
    {
     "name": "stdout",
     "output_type": "stream",
     "text": [
      "\n",
      " Start Grid Search\n",
      "Fitting 3 folds for each of 10 candidates, totalling 30 fits\n",
      "[22:49:57] WARNING: C:/Users/Administrator/workspace/xgboost-win64_release_1.5.1/src/learner.cc:1115: Starting in XGBoost 1.3.0, the default evaluation metric used with the objective 'binary:logistic' was changed from 'error' to 'logloss'. Explicitly set eval_metric if you'd like to restore the old behavior.\n"
     ]
    },
    {
     "data": {
      "text/plain": [
       "RandomizedSearchCV(cv=[([5, 6, 13, 81, 96, 126, 149, 160, 163, 175, 194, 196,\n",
       "                         230, 248, 260, 280, 283, 287, 301, 320, 329, 353, 392,\n",
       "                         393, 394, 409, 430, 443, 462, 490, ...],\n",
       "                        [22, 49, 52, 67, 103, 107, 154, 184, 188, 202, 214, 225,\n",
       "                         226, 229, 236, 254, 266, 292, 293, 302, 308, 313, 331,\n",
       "                         382, 383, 402, 454, 474, 477, 482, ...]),\n",
       "                       ([22, 49, 52, 67, 103, 107, 154, 184, 188, 202, 214, 225,\n",
       "                         226, 229, 236, 254, 266, 292, 293, 302, 308, 31...\n",
       "                                           reg_alpha=0, reg_lambda=1,\n",
       "                                           scale_pos_weight=1, subsample=1,\n",
       "                                           tree_method='exact',\n",
       "                                           use_label_encoder=False,\n",
       "                                           validate_parameters=1,\n",
       "                                           verbosity=None),\n",
       "                   n_jobs=4,\n",
       "                   param_distributions={'max_depth': <scipy.stats._distn_infrastructure.rv_frozen object at 0x000001EDAE03FDF0>,\n",
       "                                        'n_estimators': <scipy.stats._distn_infrastructure.rv_frozen object at 0x000001EDAE6F25E0>},\n",
       "                   scoring='f1', verbose=10000)"
      ]
     },
     "execution_count": 69,
     "metadata": {},
     "output_type": "execute_result"
    }
   ],
   "source": [
    "print('\\n Start Grid Search')\n",
    "grid_search.fit(train_fp, y_train)"
   ]
  },
  {
   "cell_type": "code",
   "execution_count": 65,
   "metadata": {},
   "outputs": [
    {
     "name": "stdout",
     "output_type": "stream",
     "text": [
      "\n",
      " All results:\n",
      "{'mean_fit_time': array([1.60404245, 1.57940308, 1.89461676, 2.64366817, 2.68857392,\n",
      "       0.50480779, 2.79025602, 1.08761684, 2.31370966, 0.89731924]), 'std_fit_time': array([0.02216866, 0.07536307, 0.18255694, 0.04839726, 0.04025428,\n",
      "       0.0163925 , 0.15331304, 0.11553815, 0.04756672, 0.07398198]), 'mean_score_time': array([0.01761866, 0.01429518, 0.01894863, 0.0156254 , 0.0211033 ,\n",
      "       0.01296544, 0.01928059, 0.01429478, 0.02294175, 0.01296473]), 'std_score_time': array([0.00046918, 0.00124443, 0.00354937, 0.00308365, 0.00201385,\n",
      "       0.00215505, 0.00529847, 0.00261795, 0.00163005, 0.0021552 ]), 'param_max_depth': masked_array(data=[5, 5, 7, 8, 6, 7, 6, 7, 6, 8],\n",
      "             mask=[False, False, False, False, False, False, False, False,\n",
      "                   False, False],\n",
      "       fill_value='?',\n",
      "            dtype=object), 'param_n_estimators': masked_array(data=[76, 72, 60, 72, 97, 19, 96, 34, 80, 29],\n",
      "             mask=[False, False, False, False, False, False, False, False,\n",
      "                   False, False],\n",
      "       fill_value='?',\n",
      "            dtype=object), 'params': [{'max_depth': 5, 'n_estimators': 76}, {'max_depth': 5, 'n_estimators': 72}, {'max_depth': 7, 'n_estimators': 60}, {'max_depth': 8, 'n_estimators': 72}, {'max_depth': 6, 'n_estimators': 97}, {'max_depth': 7, 'n_estimators': 19}, {'max_depth': 6, 'n_estimators': 96}, {'max_depth': 7, 'n_estimators': 34}, {'max_depth': 6, 'n_estimators': 80}, {'max_depth': 8, 'n_estimators': 29}], 'split0_test_score': array([0.        , 0.        , 0.02409639, 0.06976744, 0.02409639,\n",
      "       0.02380952, 0.02409639, 0.02380952, 0.02409639, 0.02380952]), 'split1_test_score': array([0.05714286, 0.05714286, 0.05714286, 0.05714286, 0.05714286,\n",
      "       0.        , 0.05714286, 0.02941176, 0.08450704, 0.        ]), 'split2_test_score': array([0.03333333, 0.03333333, 0.06349206, 0.06349206, 0.06451613,\n",
      "       0.0625    , 0.06451613, 0.06451613, 0.06451613, 0.06349206]), 'mean_test_score': array([0.03015873, 0.03015873, 0.04824377, 0.06346745, 0.04858512,\n",
      "       0.02876984, 0.04858512, 0.03924581, 0.05770652, 0.02910053]), 'std_test_score': array([0.02343623, 0.02343623, 0.0172704 , 0.00515399, 0.01757584,\n",
      "       0.02575547, 0.01757584, 0.01801459, 0.0251282 , 0.02618914]), 'rank_test_score': array([ 7,  7,  5,  1,  3, 10,  3,  6,  2,  9])}\n",
      "\n",
      " Best estimator:\n",
      "XGBClassifier(base_score=0.5, booster='gbtree', colsample_bylevel=1,\n",
      "              colsample_bynode=1, colsample_bytree=1, enable_categorical=False,\n",
      "              gamma=0, gpu_id=-1, importance_type=None,\n",
      "              interaction_constraints='', learning_rate=0.02, max_delta_step=0,\n",
      "              max_depth=8, min_child_weight=1, missing=nan,\n",
      "              monotone_constraints='()', n_estimators=72, n_jobs=1, nthread=1,\n",
      "              num_parallel_tree=1, predictor='auto', random_state=0,\n",
      "              reg_alpha=0, reg_lambda=1, scale_pos_weight=1, subsample=1,\n",
      "              tree_method='exact', use_label_encoder=False,\n",
      "              validate_parameters=1, verbosity=None)\n",
      "\n",
      " Best normalized score\n",
      "0.06346745416512857\n",
      "\n",
      " Best hyperparameters:\n",
      "{'max_depth': 8, 'n_estimators': 72}\n"
     ]
    }
   ],
   "source": [
    "print('\\n All results:')\n",
    "print(grid_search.cv_results_)\n",
    "print('\\n Best estimator:')\n",
    "print(grid_search.best_estimator_)\n",
    "print('\\n Best normalized score')\n",
    "print(grid_search.best_score_)\n",
    "print('\\n Best hyperparameters:')\n",
    "print(grid_search.best_params_)"
   ]
  },
  {
   "cell_type": "code",
   "execution_count": 71,
   "metadata": {},
   "outputs": [
    {
     "name": "stdout",
     "output_type": "stream",
     "text": [
      "[22:51:12] WARNING: C:/Users/Administrator/workspace/xgboost-win64_release_1.5.1/src/learner.cc:1115: Starting in XGBoost 1.3.0, the default evaluation metric used with the objective 'binary:logistic' was changed from 'error' to 'logloss'. Explicitly set eval_metric if you'd like to restore the old behavior.\n"
     ]
    },
    {
     "data": {
      "text/plain": [
       "XGBClassifier(base_score=0.5, booster='gbtree', colsample_bylevel=1,\n",
       "              colsample_bynode=1, colsample_bytree=1, enable_categorical=False,\n",
       "              gamma=0, gpu_id=-1, importance_type=None,\n",
       "              interaction_constraints='', learning_rate=0.2, max_delta_step=0,\n",
       "              max_depth=8, min_child_weight=1, missing=nan,\n",
       "              monotone_constraints='()', n_estimators=72, n_jobs=1, nthread=1,\n",
       "              num_parallel_tree=1, predictor='auto', random_state=0,\n",
       "              reg_alpha=0, reg_lambda=1, scale_pos_weight=25.975728155339805,\n",
       "              subsample=1, tree_method='exact', use_label_encoder=False,\n",
       "              validate_parameters=1, verbosity=None)"
      ]
     },
     "execution_count": 71,
     "metadata": {},
     "output_type": "execute_result"
    }
   ],
   "source": [
    "xgb = XGBClassifier(max_depth=8, n_estimators=72, learning_rate=0.2,  nthread=1, use_label_encoder=False, \n",
    "                    scale_pos_weight = float(np.sum(y_train2 == 0)) / np.sum(y_train2==1))\n",
    "xgb.fit(train_fp, y_train)"
   ]
  },
  {
   "cell_type": "code",
   "execution_count": 72,
   "metadata": {},
   "outputs": [],
   "source": [
    "test_predictions = xgb.predict(test_fp)"
   ]
  },
  {
   "cell_type": "code",
   "execution_count": 73,
   "metadata": {},
   "outputs": [
    {
     "name": "stdout",
     "output_type": "stream",
     "text": [
      "Best model test f1 score is 0.323\n"
     ]
    }
   ],
   "source": [
    "score = f1_score(y_test, test_predictions)\n",
    "print(f\"Best model test f1 score is {round(score, 3)}\")"
   ]
  },
  {
   "cell_type": "markdown",
   "metadata": {},
   "source": [
    "Для второго фингерпринта"
   ]
  },
  {
   "cell_type": "code",
   "execution_count": 64,
   "metadata": {},
   "outputs": [
    {
     "name": "stdout",
     "output_type": "stream",
     "text": [
      "\n",
      " Start Grid Search\n",
      "Fitting 3 folds for each of 10 candidates, totalling 30 fits\n",
      "[22:44:50] WARNING: C:/Users/Administrator/workspace/xgboost-win64_release_1.5.1/src/learner.cc:1115: Starting in XGBoost 1.3.0, the default evaluation metric used with the objective 'binary:logistic' was changed from 'error' to 'logloss'. Explicitly set eval_metric if you'd like to restore the old behavior.\n"
     ]
    },
    {
     "data": {
      "text/plain": [
       "RandomizedSearchCV(cv=[([5, 6, 13, 81, 96, 126, 149, 160, 163, 175, 194, 196,\n",
       "                         230, 248, 260, 280, 283, 287, 301, 320, 329, 353, 392,\n",
       "                         393, 394, 409, 430, 443, 462, 490, ...],\n",
       "                        [22, 49, 52, 67, 103, 107, 154, 184, 188, 202, 214, 225,\n",
       "                         226, 229, 236, 254, 266, 292, 293, 302, 308, 313, 331,\n",
       "                         382, 383, 402, 454, 474, 477, 482, ...]),\n",
       "                       ([22, 49, 52, 67, 103, 107, 154, 184, 188, 202, 214, 225,\n",
       "                         226, 229, 236, 254, 266, 292, 293, 302, 308, 31...\n",
       "                                           reg_alpha=0, reg_lambda=1,\n",
       "                                           scale_pos_weight=1, subsample=1,\n",
       "                                           tree_method='exact',\n",
       "                                           use_label_encoder=False,\n",
       "                                           validate_parameters=1,\n",
       "                                           verbosity=None),\n",
       "                   n_jobs=4,\n",
       "                   param_distributions={'max_depth': <scipy.stats._distn_infrastructure.rv_frozen object at 0x000001EDAE03FDF0>,\n",
       "                                        'n_estimators': <scipy.stats._distn_infrastructure.rv_frozen object at 0x000001EDAE6F25E0>},\n",
       "                   scoring='f1', verbose=10000)"
      ]
     },
     "execution_count": 64,
     "metadata": {},
     "output_type": "execute_result"
    }
   ],
   "source": [
    "print('\\n Start Grid Search')\n",
    "grid_search.fit(train_fp2, y_train2)"
   ]
  },
  {
   "cell_type": "code",
   "execution_count": 70,
   "metadata": {},
   "outputs": [
    {
     "name": "stdout",
     "output_type": "stream",
     "text": [
      "\n",
      " All results:\n",
      "{'mean_fit_time': array([15.50796819, 20.5991048 , 14.32243069,  7.04584702, 19.37976305,\n",
      "       53.44322896, 17.73688634, 25.43620404, 38.72562742, 28.35603786]), 'std_fit_time': array([0.04739383, 1.98585609, 0.46740693, 0.05263384, 0.07634486,\n",
      "       0.98087957, 0.34845235, 0.16100528, 1.29494183, 2.91137513]), 'mean_score_time': array([0.12832085, 0.13066212, 0.13065235, 0.13896314, 0.12511722,\n",
      "       0.14428027, 0.13065139, 0.12133265, 0.12002571, 0.10272662]), 'std_score_time': array([0.02223417, 0.00571035, 0.01369875, 0.00711278, 0.00645945,\n",
      "       0.02491851, 0.01271981, 0.00469484, 0.006617  , 0.01440676]), 'param_max_depth': masked_array(data=[7, 6, 6, 7, 5, 9, 6, 9, 9, 8],\n",
      "             mask=[False, False, False, False, False, False, False, False,\n",
      "                   False, False],\n",
      "       fill_value='?',\n",
      "            dtype=object), 'param_n_estimators': masked_array(data=[44, 57, 36, 14, 59, 92, 43, 42, 72, 70],\n",
      "             mask=[False, False, False, False, False, False, False, False,\n",
      "                   False, False],\n",
      "       fill_value='?',\n",
      "            dtype=object), 'params': [{'max_depth': 7, 'n_estimators': 44}, {'max_depth': 6, 'n_estimators': 57}, {'max_depth': 6, 'n_estimators': 36}, {'max_depth': 7, 'n_estimators': 14}, {'max_depth': 5, 'n_estimators': 59}, {'max_depth': 9, 'n_estimators': 92}, {'max_depth': 6, 'n_estimators': 43}, {'max_depth': 9, 'n_estimators': 42}, {'max_depth': 9, 'n_estimators': 72}, {'max_depth': 8, 'n_estimators': 70}], 'split0_test_score': array([0.02409639, 0.02380952, 0.02380952, 0.04705882, 0.02352941,\n",
      "       0.02298851, 0.02380952, 0.04651163, 0.02325581, 0.02352941]), 'split1_test_score': array([0.16216216, 0.16438356, 0.1369863 , 0.10810811, 0.02941176,\n",
      "       0.16438356, 0.1369863 , 0.16      , 0.16438356, 0.16438356]), 'split2_test_score': array([0.09230769, 0.09375   , 0.09375   , 0.11594203, 0.06349206,\n",
      "       0.0952381 , 0.09375   , 0.09090909, 0.09375   , 0.09375   ]), 'mean_test_score': array([0.09285541, 0.09398103, 0.08484861, 0.09036965, 0.03881108,\n",
      "       0.09420339, 0.08484861, 0.09914024, 0.09379646, 0.09388766]), 'std_test_score': array([0.05636645, 0.05738934, 0.04663098, 0.03079192, 0.01761654,\n",
      "       0.05772893, 0.04663098, 0.04669559, 0.05761517, 0.05750355]), 'rank_test_score': array([ 6,  3,  8,  7, 10,  2,  8,  1,  5,  4])}\n",
      "\n",
      " Best estimator:\n",
      "XGBClassifier(base_score=0.5, booster='gbtree', colsample_bylevel=1,\n",
      "              colsample_bynode=1, colsample_bytree=1, enable_categorical=False,\n",
      "              gamma=0, gpu_id=-1, importance_type=None,\n",
      "              interaction_constraints='', learning_rate=0.02, max_delta_step=0,\n",
      "              max_depth=9, min_child_weight=1, missing=nan,\n",
      "              monotone_constraints='()', n_estimators=42, n_jobs=1, nthread=1,\n",
      "              num_parallel_tree=1, predictor='auto', random_state=0,\n",
      "              reg_alpha=0, reg_lambda=1, scale_pos_weight=1, subsample=1,\n",
      "              tree_method='exact', use_label_encoder=False,\n",
      "              validate_parameters=1, verbosity=None)\n",
      "\n",
      " Best normalized score\n",
      "0.0991402396053559\n",
      "\n",
      " Best hyperparameters:\n",
      "{'max_depth': 9, 'n_estimators': 42}\n"
     ]
    }
   ],
   "source": [
    "print('\\n All results:')\n",
    "print(grid_search.cv_results_)\n",
    "print('\\n Best estimator:')\n",
    "print(grid_search.best_estimator_)\n",
    "print('\\n Best normalized score')\n",
    "print(grid_search.best_score_)\n",
    "print('\\n Best hyperparameters:')\n",
    "print(grid_search.best_params_)"
   ]
  },
  {
   "cell_type": "code",
   "execution_count": 68,
   "metadata": {},
   "outputs": [
    {
     "name": "stdout",
     "output_type": "stream",
     "text": [
      "Best model test f1 score is 0.426\n"
     ]
    }
   ],
   "source": [
    "score = f1_score(y_test2, test_predictions)\n",
    "print(f\"Best model test f1 score is {round(score, 3)}\")"
   ]
  },
  {
   "cell_type": "markdown",
   "metadata": {},
   "source": [
    "Для третьего фингерпринта"
   ]
  },
  {
   "cell_type": "code",
   "execution_count": 74,
   "metadata": {},
   "outputs": [
    {
     "name": "stdout",
     "output_type": "stream",
     "text": [
      "\n",
      " Start Grid Search\n",
      "Fitting 3 folds for each of 10 candidates, totalling 30 fits\n",
      "[22:56:23] WARNING: C:/Users/Administrator/workspace/xgboost-win64_release_1.5.1/src/learner.cc:1115: Starting in XGBoost 1.3.0, the default evaluation metric used with the objective 'binary:logistic' was changed from 'error' to 'logloss'. Explicitly set eval_metric if you'd like to restore the old behavior.\n"
     ]
    },
    {
     "data": {
      "text/plain": [
       "RandomizedSearchCV(cv=[([5, 6, 13, 81, 96, 126, 149, 160, 163, 175, 194, 196,\n",
       "                         230, 248, 260, 280, 283, 287, 301, 320, 329, 353, 392,\n",
       "                         393, 394, 409, 430, 443, 462, 490, ...],\n",
       "                        [22, 49, 52, 67, 103, 107, 154, 184, 188, 202, 214, 225,\n",
       "                         226, 229, 236, 254, 266, 292, 293, 302, 308, 313, 331,\n",
       "                         382, 383, 402, 454, 474, 477, 482, ...]),\n",
       "                       ([22, 49, 52, 67, 103, 107, 154, 184, 188, 202, 214, 225,\n",
       "                         226, 229, 236, 254, 266, 292, 293, 302, 308, 31...\n",
       "                                           reg_alpha=0, reg_lambda=1,\n",
       "                                           scale_pos_weight=1, subsample=1,\n",
       "                                           tree_method='exact',\n",
       "                                           use_label_encoder=False,\n",
       "                                           validate_parameters=1,\n",
       "                                           verbosity=None),\n",
       "                   n_jobs=4,\n",
       "                   param_distributions={'max_depth': <scipy.stats._distn_infrastructure.rv_frozen object at 0x000001EDAE03FDF0>,\n",
       "                                        'n_estimators': <scipy.stats._distn_infrastructure.rv_frozen object at 0x000001EDAE6F25E0>},\n",
       "                   scoring='f1', verbose=10000)"
      ]
     },
     "execution_count": 74,
     "metadata": {},
     "output_type": "execute_result"
    }
   ],
   "source": [
    "print('\\n Start Grid Search')\n",
    "grid_search.fit(train_fp3, y_train3)"
   ]
  },
  {
   "cell_type": "code",
   "execution_count": 75,
   "metadata": {},
   "outputs": [
    {
     "name": "stdout",
     "output_type": "stream",
     "text": [
      "\n",
      " All results:\n",
      "{'mean_fit_time': array([37.58241185, 29.7042586 , 28.48180056, 29.15435092, 36.29577009,\n",
      "       19.97762982, 24.9310197 , 12.56025402, 32.67714548, 39.8325537 ]), 'std_fit_time': array([0.2152569 , 1.60372706, 0.15009135, 0.417595  , 0.09389684,\n",
      "       1.02811156, 0.10093312, 0.26555192, 0.35308552, 4.10907696]), 'mean_score_time': array([0.12799112, 0.12533236, 0.12205569, 0.14687713, 0.1326352 ,\n",
      "       0.12233949, 0.12433465, 0.11701989, 0.1223398 , 0.104731  ]), 'std_score_time': array([0.0028612 , 0.00752304, 0.00389729, 0.01875694, 0.00905388,\n",
      "       0.01222427, 0.00329209, 0.00367103, 0.00384917, 0.0173305 ]), 'param_max_depth': masked_array(data=[7, 5, 5, 7, 9, 7, 7, 6, 7, 9],\n",
      "             mask=[False, False, False, False, False, False, False, False,\n",
      "                   False, False],\n",
      "       fill_value='?',\n",
      "            dtype=object), 'param_n_estimators': masked_array(data=[95, 98, 90, 65, 56, 41, 56, 32, 72, 83],\n",
      "             mask=[False, False, False, False, False, False, False, False,\n",
      "                   False, False],\n",
      "       fill_value='?',\n",
      "            dtype=object), 'params': [{'max_depth': 7, 'n_estimators': 95}, {'max_depth': 5, 'n_estimators': 98}, {'max_depth': 5, 'n_estimators': 90}, {'max_depth': 7, 'n_estimators': 65}, {'max_depth': 9, 'n_estimators': 56}, {'max_depth': 7, 'n_estimators': 41}, {'max_depth': 7, 'n_estimators': 56}, {'max_depth': 6, 'n_estimators': 32}, {'max_depth': 7, 'n_estimators': 72}, {'max_depth': 9, 'n_estimators': 83}], 'split0_test_score': array([0.15217391, 0.15217391, 0.15217391, 0.15217391, 0.14285714,\n",
      "       0.15384615, 0.14285714, 0.12765957, 0.15053763, 0.15053763]), 'split1_test_score': array([0.15789474, 0.10810811, 0.08219178, 0.13157895, 0.15584416,\n",
      "       0.16      , 0.15584416, 0.16      , 0.15584416, 0.15789474]), 'split2_test_score': array([0.12121212, 0.14705882, 0.14705882, 0.11267606, 0.11267606,\n",
      "       0.08219178, 0.13888889, 0.08333333, 0.09090909, 0.11428571]), 'mean_test_score': array([0.14376026, 0.13578028, 0.12714151, 0.13214297, 0.13712579,\n",
      "       0.13201264, 0.1458634 , 0.1236643 , 0.13243029, 0.14090603]), 'std_test_score': array([0.01611409, 0.01967829, 0.03185278, 0.01612986, 0.01808328,\n",
      "       0.03531814, 0.00724101, 0.03142627, 0.02943974, 0.01906152]), 'rank_test_score': array([ 2,  5,  9,  7,  4,  8,  1, 10,  6,  3])}\n",
      "\n",
      " Best estimator:\n",
      "XGBClassifier(base_score=0.5, booster='gbtree', colsample_bylevel=1,\n",
      "              colsample_bynode=1, colsample_bytree=1, enable_categorical=False,\n",
      "              gamma=0, gpu_id=-1, importance_type=None,\n",
      "              interaction_constraints='', learning_rate=0.02, max_delta_step=0,\n",
      "              max_depth=7, min_child_weight=1, missing=nan,\n",
      "              monotone_constraints='()', n_estimators=56, n_jobs=1, nthread=1,\n",
      "              num_parallel_tree=1, predictor='auto', random_state=0,\n",
      "              reg_alpha=0, reg_lambda=1, scale_pos_weight=1, subsample=1,\n",
      "              tree_method='exact', use_label_encoder=False,\n",
      "              validate_parameters=1, verbosity=None)\n",
      "\n",
      " Best normalized score\n",
      "0.14586339586339586\n",
      "\n",
      " Best hyperparameters:\n",
      "{'max_depth': 7, 'n_estimators': 56}\n"
     ]
    }
   ],
   "source": [
    "print('\\n All results:')\n",
    "print(grid_search.cv_results_)\n",
    "print('\\n Best estimator:')\n",
    "print(grid_search.best_estimator_)\n",
    "print('\\n Best normalized score')\n",
    "print(grid_search.best_score_)\n",
    "print('\\n Best hyperparameters:')\n",
    "print(grid_search.best_params_)"
   ]
  },
  {
   "cell_type": "code",
   "execution_count": 76,
   "metadata": {},
   "outputs": [
    {
     "name": "stdout",
     "output_type": "stream",
     "text": [
      "[22:57:03] WARNING: C:/Users/Administrator/workspace/xgboost-win64_release_1.5.1/src/learner.cc:1115: Starting in XGBoost 1.3.0, the default evaluation metric used with the objective 'binary:logistic' was changed from 'error' to 'logloss'. Explicitly set eval_metric if you'd like to restore the old behavior.\n"
     ]
    },
    {
     "data": {
      "text/plain": [
       "XGBClassifier(base_score=0.5, booster='gbtree', colsample_bylevel=1,\n",
       "              colsample_bynode=1, colsample_bytree=1, enable_categorical=False,\n",
       "              gamma=0, gpu_id=-1, importance_type=None,\n",
       "              interaction_constraints='', learning_rate=0.2, max_delta_step=0,\n",
       "              max_depth=7, min_child_weight=1, missing=nan,\n",
       "              monotone_constraints='()', n_estimators=56, n_jobs=1, nthread=1,\n",
       "              num_parallel_tree=1, predictor='auto', random_state=0,\n",
       "              reg_alpha=0, reg_lambda=1, scale_pos_weight=25.975728155339805,\n",
       "              subsample=1, tree_method='exact', use_label_encoder=False,\n",
       "              validate_parameters=1, verbosity=None)"
      ]
     },
     "execution_count": 76,
     "metadata": {},
     "output_type": "execute_result"
    }
   ],
   "source": [
    "xgb = XGBClassifier(max_depth=7, n_estimators=56, learning_rate=0.2,  nthread=1, use_label_encoder=False, \n",
    "                    scale_pos_weight = float(np.sum(y_train2 == 0)) / np.sum(y_train2==1))\n",
    "xgb.fit(train_fp3, y_train3)"
   ]
  },
  {
   "cell_type": "code",
   "execution_count": 77,
   "metadata": {},
   "outputs": [
    {
     "name": "stdout",
     "output_type": "stream",
     "text": [
      "Best model test f1 score is 0.267\n"
     ]
    }
   ],
   "source": [
    "test_predictions = xgb.predict(test_fp3)\n",
    "score = f1_score(y_test3, test_predictions)\n",
    "print(f\"Best model test f1 score is {round(score, 3)}\")"
   ]
  },
  {
   "cell_type": "markdown",
   "metadata": {},
   "source": [
    "#### Использовать другие модели: Random Forest"
   ]
  },
  {
   "cell_type": "code",
   "execution_count": 28,
   "metadata": {},
   "outputs": [],
   "source": [
    "from sklearn.ensemble import RandomForestClassifier"
   ]
  },
  {
   "cell_type": "code",
   "execution_count": 29,
   "metadata": {},
   "outputs": [],
   "source": [
    "rfc = RandomForestClassifier(max_depth = 20, n_estimators = 300)"
   ]
  },
  {
   "cell_type": "code",
   "execution_count": 33,
   "metadata": {},
   "outputs": [],
   "source": [
    "params = {\n",
    "        'max_depth': [8, 10, 20, 30],\n",
    "        'n_estimators': [100, 200, 300]\n",
    "}\n",
    "\n",
    "grid_search = GridSearchCV(rfc, params, scoring='f1', n_jobs=4,\n",
    "                               cv=cv, verbose=10000)"
   ]
  },
  {
   "cell_type": "markdown",
   "metadata": {},
   "source": [
    "Поскольку второй фингерпринт показал лучший результат, обучим случайный лес сначала на нем."
   ]
  },
  {
   "cell_type": "code",
   "execution_count": 34,
   "metadata": {},
   "outputs": [
    {
     "name": "stdout",
     "output_type": "stream",
     "text": [
      "\n",
      " Start Grid Search\n",
      "Fitting 3 folds for each of 12 candidates, totalling 36 fits\n"
     ]
    },
    {
     "data": {
      "text/plain": [
       "GridSearchCV(cv=[([5, 6, 13, 81, 96, 126, 149, 160, 163, 175, 194, 196, 230,\n",
       "                   248, 260, 280, 283, 287, 301, 320, 329, 353, 392, 393, 394,\n",
       "                   409, 430, 443, 462, 490, ...],\n",
       "                  [22, 49, 52, 67, 103, 107, 154, 184, 188, 202, 214, 225, 226,\n",
       "                   229, 236, 254, 266, 292, 293, 302, 308, 313, 331, 382, 383,\n",
       "                   402, 454, 474, 477, 482, ...]),\n",
       "                 ([22, 49, 52, 67, 103, 107, 154, 184, 188, 202, 214, 225, 226,\n",
       "                   229, 236, 254, 266, 292, 293, 302, 308, 313, 331,...\n",
       "                   229, 236, 254, 266, 292, 293, 302, 308, 313, 331, 382, 383,\n",
       "                   402, 454, 474, 477, 482, ...],\n",
       "                  [170, 537, 714, 962, 1160, 1556, 1726, 1798, 1995, 2549, 2551,\n",
       "                   2639, 2704, 2819, 2933, 3128, 3141, 3156, 3242, 3364, 3397,\n",
       "                   3435, 3474, 3683, 3846, 4470, 4552, 4649, 4674, 4835, ...])],\n",
       "             estimator=RandomForestClassifier(max_depth=20, n_estimators=300),\n",
       "             n_jobs=4,\n",
       "             param_grid={'max_depth': [8, 10, 20, 30],\n",
       "                         'n_estimators': [100, 200, 300]},\n",
       "             scoring='f1', verbose=10000)"
      ]
     },
     "execution_count": 34,
     "metadata": {},
     "output_type": "execute_result"
    }
   ],
   "source": [
    "print('\\n Start Grid Search')\n",
    "grid_search.fit(train_fp2, y_train2)"
   ]
  },
  {
   "cell_type": "code",
   "execution_count": 35,
   "metadata": {},
   "outputs": [
    {
     "name": "stdout",
     "output_type": "stream",
     "text": [
      "\n",
      " All results:\n",
      "{'mean_fit_time': array([0.46841621, 0.91222699, 1.32741316, 0.50350134, 0.93926207,\n",
      "       1.53742894, 0.55513684, 1.08106677, 1.70135578, 0.5793287 ,\n",
      "       1.0994966 , 1.4540476 ]), 'std_fit_time': array([0.01111772, 0.03510682, 0.02161841, 0.0152604 , 0.01357854,\n",
      "       0.06342706, 0.04008621, 0.01146465, 0.03506751, 0.0348651 ,\n",
      "       0.03888148, 0.04520107]), 'mean_score_time': array([0.04554248, 0.0724721 , 0.10405358, 0.0402267 , 0.08310906,\n",
      "       0.11968025, 0.04886818, 0.08988984, 0.14594229, 0.05556003,\n",
      "       0.1004022 , 0.10541948]), 'std_score_time': array([0.00401762, 0.00286175, 0.00094077, 0.00124401, 0.00463014,\n",
      "       0.01485983, 0.00430459, 0.00454912, 0.01592294, 0.00390646,\n",
      "       0.0106006 , 0.01437547]), 'param_max_depth': masked_array(data=[8, 8, 8, 10, 10, 10, 20, 20, 20, 30, 30, 30],\n",
      "             mask=[False, False, False, False, False, False, False, False,\n",
      "                   False, False, False, False],\n",
      "       fill_value='?',\n",
      "            dtype=object), 'param_n_estimators': masked_array(data=[100, 200, 300, 100, 200, 300, 100, 200, 300, 100, 200,\n",
      "                   300],\n",
      "             mask=[False, False, False, False, False, False, False, False,\n",
      "                   False, False, False, False],\n",
      "       fill_value='?',\n",
      "            dtype=object), 'params': [{'max_depth': 8, 'n_estimators': 100}, {'max_depth': 8, 'n_estimators': 200}, {'max_depth': 8, 'n_estimators': 300}, {'max_depth': 10, 'n_estimators': 100}, {'max_depth': 10, 'n_estimators': 200}, {'max_depth': 10, 'n_estimators': 300}, {'max_depth': 20, 'n_estimators': 100}, {'max_depth': 20, 'n_estimators': 200}, {'max_depth': 20, 'n_estimators': 300}, {'max_depth': 30, 'n_estimators': 100}, {'max_depth': 30, 'n_estimators': 200}, {'max_depth': 30, 'n_estimators': 300}], 'split0_test_score': array([0.        , 0.        , 0.        , 0.        , 0.        ,\n",
      "       0.        , 0.04651163, 0.06896552, 0.06896552, 0.11235955,\n",
      "       0.09090909, 0.06896552]), 'split1_test_score': array([0.        , 0.        , 0.        , 0.02941176, 0.02941176,\n",
      "       0.02941176, 0.05633803, 0.05633803, 0.05633803, 0.05714286,\n",
      "       0.05633803, 0.05633803]), 'split2_test_score': array([0.        , 0.        , 0.        , 0.03389831, 0.03389831,\n",
      "       0.03389831, 0.03278689, 0.03225806, 0.03278689, 0.06451613,\n",
      "       0.03278689, 0.03278689]), 'mean_test_score': array([0.        , 0.        , 0.        , 0.02110336, 0.02110336,\n",
      "       0.02110336, 0.04521218, 0.05252054, 0.05269681, 0.07800618,\n",
      "       0.06001133, 0.05269681]), 'std_test_score': array([0.        , 0.        , 0.        , 0.01503432, 0.01503432,\n",
      "       0.01503432, 0.00965852, 0.01522693, 0.0149926 , 0.02447729,\n",
      "       0.02387003, 0.0149926 ]), 'rank_test_score': array([10, 10, 10,  7,  7,  7,  6,  5,  3,  1,  2,  3])}\n",
      "\n",
      " Best estimator:\n",
      "RandomForestClassifier(max_depth=30)\n",
      "\n",
      " Best normalized score\n",
      "0.07800617891230431\n",
      "\n",
      " Best hyperparameters:\n",
      "{'max_depth': 30, 'n_estimators': 100}\n"
     ]
    }
   ],
   "source": [
    "print('\\n All results:')\n",
    "print(grid_search.cv_results_)\n",
    "print('\\n Best estimator:')\n",
    "print(grid_search.best_estimator_)\n",
    "print('\\n Best normalized score')\n",
    "print(grid_search.best_score_)\n",
    "print('\\n Best hyperparameters:')\n",
    "print(grid_search.best_params_)"
   ]
  },
  {
   "cell_type": "code",
   "execution_count": 38,
   "metadata": {},
   "outputs": [
    {
     "name": "stdout",
     "output_type": "stream",
     "text": [
      "Best model test f1 score is 0.184\n"
     ]
    }
   ],
   "source": [
    "rfc = RandomForestClassifier(max_depth = 20, n_estimators = 100)\n",
    "X_sresampled, y_sresampled = SMOTE().fit_resample(train_fp2, y_train2)\n",
    "rfc.fit(X_sresampled, y_sresampled)\n",
    "test_predictions = rfc.predict(test_fp2)\n",
    "score = f1_score(y_test2, test_predictions)\n",
    "print(f\"Best model test f1 score is {round(score, 3)}\")"
   ]
  },
  {
   "cell_type": "code",
   "execution_count": 39,
   "metadata": {},
   "outputs": [
    {
     "name": "stdout",
     "output_type": "stream",
     "text": [
      "\n",
      " Start Grid Search\n",
      "Fitting 3 folds for each of 12 candidates, totalling 36 fits\n"
     ]
    },
    {
     "data": {
      "text/plain": [
       "GridSearchCV(cv=[([5, 6, 13, 81, 96, 126, 149, 160, 163, 175, 194, 196, 230,\n",
       "                   248, 260, 280, 283, 287, 301, 320, 329, 353, 392, 393, 394,\n",
       "                   409, 430, 443, 462, 490, ...],\n",
       "                  [22, 49, 52, 67, 103, 107, 154, 184, 188, 202, 214, 225, 226,\n",
       "                   229, 236, 254, 266, 292, 293, 302, 308, 313, 331, 382, 383,\n",
       "                   402, 454, 474, 477, 482, ...]),\n",
       "                 ([22, 49, 52, 67, 103, 107, 154, 184, 188, 202, 214, 225, 226,\n",
       "                   229, 236, 254, 266, 292, 293, 302, 308, 313, 331,...\n",
       "                   229, 236, 254, 266, 292, 293, 302, 308, 313, 331, 382, 383,\n",
       "                   402, 454, 474, 477, 482, ...],\n",
       "                  [170, 537, 714, 962, 1160, 1556, 1726, 1798, 1995, 2549, 2551,\n",
       "                   2639, 2704, 2819, 2933, 3128, 3141, 3156, 3242, 3364, 3397,\n",
       "                   3435, 3474, 3683, 3846, 4470, 4552, 4649, 4674, 4835, ...])],\n",
       "             estimator=RandomForestClassifier(max_depth=20, n_estimators=300),\n",
       "             n_jobs=4,\n",
       "             param_grid={'max_depth': [8, 10, 20, 30],\n",
       "                         'n_estimators': [100, 200, 300]},\n",
       "             scoring='f1', verbose=10000)"
      ]
     },
     "execution_count": 39,
     "metadata": {},
     "output_type": "execute_result"
    }
   ],
   "source": [
    "print('\\n Start Grid Search')\n",
    "grid_search.fit(train_fp, y_train)"
   ]
  },
  {
   "cell_type": "code",
   "execution_count": 40,
   "metadata": {},
   "outputs": [
    {
     "name": "stdout",
     "output_type": "stream",
     "text": [
      "\n",
      " All results:\n",
      "{'mean_fit_time': array([ 3.10532745,  5.92373665,  8.73080897,  3.57716997,  7.13013983,\n",
      "       10.62403504,  6.33809082, 12.02213542, 18.61974327,  8.54680371,\n",
      "       16.7244695 , 17.77863256]), 'std_fit_time': array([0.04905916, 0.06995066, 0.02179592, 0.06518586, 0.02721413,\n",
      "       0.12084292, 0.01583397, 0.13404001, 0.35330494, 0.48730687,\n",
      "       0.01476687, 3.13355128]), 'mean_score_time': array([0.1452779 , 0.18963774, 0.28557022, 0.12141093, 0.20810906,\n",
      "       0.35172168, 0.1525929 , 0.30903514, 0.45279058, 0.21143492,\n",
      "       0.36070387, 0.35430415]), 'std_score_time': array([0.0097153 , 0.00851406, 0.01037563, 0.01222023, 0.02384183,\n",
      "       0.05554956, 0.00453159, 0.00471559, 0.04176992, 0.01494891,\n",
      "       0.01747227, 0.08501385]), 'param_max_depth': masked_array(data=[8, 8, 8, 10, 10, 10, 20, 20, 20, 30, 30, 30],\n",
      "             mask=[False, False, False, False, False, False, False, False,\n",
      "                   False, False, False, False],\n",
      "       fill_value='?',\n",
      "            dtype=object), 'param_n_estimators': masked_array(data=[100, 200, 300, 100, 200, 300, 100, 200, 300, 100, 200,\n",
      "                   300],\n",
      "             mask=[False, False, False, False, False, False, False, False,\n",
      "                   False, False, False, False],\n",
      "       fill_value='?',\n",
      "            dtype=object), 'params': [{'max_depth': 8, 'n_estimators': 100}, {'max_depth': 8, 'n_estimators': 200}, {'max_depth': 8, 'n_estimators': 300}, {'max_depth': 10, 'n_estimators': 100}, {'max_depth': 10, 'n_estimators': 200}, {'max_depth': 10, 'n_estimators': 300}, {'max_depth': 20, 'n_estimators': 100}, {'max_depth': 20, 'n_estimators': 200}, {'max_depth': 20, 'n_estimators': 300}, {'max_depth': 30, 'n_estimators': 100}, {'max_depth': 30, 'n_estimators': 200}, {'max_depth': 30, 'n_estimators': 300}], 'split0_test_score': array([0.        , 0.        , 0.        , 0.        , 0.        ,\n",
      "       0.        , 0.        , 0.        , 0.        , 0.02439024,\n",
      "       0.02439024, 0.02439024]), 'split1_test_score': array([0., 0., 0., 0., 0., 0., 0., 0., 0., 0., 0., 0.]), 'split2_test_score': array([0., 0., 0., 0., 0., 0., 0., 0., 0., 0., 0., 0.]), 'mean_test_score': array([0.        , 0.        , 0.        , 0.        , 0.        ,\n",
      "       0.        , 0.        , 0.        , 0.        , 0.00813008,\n",
      "       0.00813008, 0.00813008]), 'std_test_score': array([0.        , 0.        , 0.        , 0.        , 0.        ,\n",
      "       0.        , 0.        , 0.        , 0.        , 0.01149767,\n",
      "       0.01149767, 0.01149767]), 'rank_test_score': array([4, 4, 4, 4, 4, 4, 4, 4, 4, 1, 1, 1])}\n",
      "\n",
      " Best estimator:\n",
      "RandomForestClassifier(max_depth=30)\n",
      "\n",
      " Best normalized score\n",
      "0.008130081300813007\n",
      "\n",
      " Best hyperparameters:\n",
      "{'max_depth': 30, 'n_estimators': 100}\n"
     ]
    }
   ],
   "source": [
    "print('\\n All results:')\n",
    "print(grid_search.cv_results_)\n",
    "print('\\n Best estimator:')\n",
    "print(grid_search.best_estimator_)\n",
    "print('\\n Best normalized score')\n",
    "print(grid_search.best_score_)\n",
    "print('\\n Best hyperparameters:')\n",
    "print(grid_search.best_params_)"
   ]
  },
  {
   "cell_type": "code",
   "execution_count": 42,
   "metadata": {},
   "outputs": [],
   "source": [
    "from sklearn.svm import SVC"
   ]
  },
  {
   "cell_type": "code",
   "execution_count": 45,
   "metadata": {},
   "outputs": [],
   "source": [
    "svc = SVC(kernel = 'poly')"
   ]
  },
  {
   "cell_type": "code",
   "execution_count": 46,
   "metadata": {},
   "outputs": [],
   "source": [
    "params = {\n",
    "        'degree': [1, 2, 3, 5, 10],\n",
    "}\n",
    "\n",
    "grid_search = GridSearchCV(svc, params, scoring='f1', n_jobs=4,\n",
    "                               cv=cv, verbose=10000)"
   ]
  },
  {
   "cell_type": "code",
   "execution_count": 47,
   "metadata": {},
   "outputs": [
    {
     "name": "stdout",
     "output_type": "stream",
     "text": [
      "\n",
      " Start Grid Search\n",
      "Fitting 3 folds for each of 5 candidates, totalling 15 fits\n"
     ]
    },
    {
     "data": {
      "text/plain": [
       "GridSearchCV(cv=[([5, 6, 13, 81, 96, 126, 149, 160, 163, 175, 194, 196, 230,\n",
       "                   248, 260, 280, 283, 287, 301, 320, 329, 353, 392, 393, 394,\n",
       "                   409, 430, 443, 462, 490, ...],\n",
       "                  [22, 49, 52, 67, 103, 107, 154, 184, 188, 202, 214, 225, 226,\n",
       "                   229, 236, 254, 266, 292, 293, 302, 308, 313, 331, 382, 383,\n",
       "                   402, 454, 474, 477, 482, ...]),\n",
       "                 ([22, 49, 52, 67, 103, 107, 154, 184, 188, 202, 214, 225, 226,\n",
       "                   229, 236, 254, 266, 292, 293, 302, 308, 313, 331,...\n",
       "                 ([22, 49, 52, 67, 103, 107, 154, 184, 188, 202, 214, 225, 226,\n",
       "                   229, 236, 254, 266, 292, 293, 302, 308, 313, 331, 382, 383,\n",
       "                   402, 454, 474, 477, 482, ...],\n",
       "                  [170, 537, 714, 962, 1160, 1556, 1726, 1798, 1995, 2549, 2551,\n",
       "                   2639, 2704, 2819, 2933, 3128, 3141, 3156, 3242, 3364, 3397,\n",
       "                   3435, 3474, 3683, 3846, 4470, 4552, 4649, 4674, 4835, ...])],\n",
       "             estimator=SVC(kernel='poly'), n_jobs=4,\n",
       "             param_grid={'degree': [1, 2, 3, 5, 10]}, scoring='f1',\n",
       "             verbose=10000)"
      ]
     },
     "execution_count": 47,
     "metadata": {},
     "output_type": "execute_result"
    }
   ],
   "source": [
    "print('\\n Start Grid Search')\n",
    "grid_search.fit(train_fp2, y_train2)"
   ]
  },
  {
   "cell_type": "code",
   "execution_count": 48,
   "metadata": {},
   "outputs": [
    {
     "name": "stdout",
     "output_type": "stream",
     "text": [
      "\n",
      " All results:\n",
      "{'mean_fit_time': array([1.29399053, 1.24246407, 1.33994579, 1.53482143, 1.83267045]), 'std_fit_time': array([0.16361506, 0.13632964, 0.03736053, 0.04115447, 0.07265058]), 'mean_score_time': array([0.26728288, 0.26961287, 0.27459955, 0.32547053, 0.39954273]), 'std_score_time': array([0.04325099, 0.04432217, 0.01970252, 0.0078294 , 0.00855931]), 'param_degree': masked_array(data=[1, 2, 3, 5, 10],\n",
      "             mask=[False, False, False, False, False],\n",
      "       fill_value='?',\n",
      "            dtype=object), 'params': [{'degree': 1}, {'degree': 2}, {'degree': 3}, {'degree': 5}, {'degree': 10}], 'split0_test_score': array([0.        , 0.        , 0.04819277, 0.06896552, 0.04651163]), 'split1_test_score': array([0.        , 0.        , 0.02666667, 0.02298851, 0.02247191]), 'split2_test_score': array([0.        , 0.        , 0.03030303, 0.02777778, 0.08      ]), 'mean_test_score': array([0.        , 0.        , 0.03505416, 0.0399106 , 0.04966118]), 'std_test_score': array([0.        , 0.        , 0.00940827, 0.02063776, 0.0235911 ]), 'rank_test_score': array([4, 4, 3, 2, 1])}\n",
      "\n",
      " Best estimator:\n",
      "SVC(degree=10, kernel='poly')\n",
      "\n",
      " Best normalized score\n",
      "0.04966117933977876\n",
      "\n",
      " Best hyperparameters:\n",
      "{'degree': 10}\n"
     ]
    }
   ],
   "source": [
    "print('\\n All results:')\n",
    "print(grid_search.cv_results_)\n",
    "print('\\n Best estimator:')\n",
    "print(grid_search.best_estimator_)\n",
    "print('\\n Best normalized score')\n",
    "print(grid_search.best_score_)\n",
    "print('\\n Best hyperparameters:')\n",
    "print(grid_search.best_params_)"
   ]
  },
  {
   "cell_type": "code",
   "execution_count": 49,
   "metadata": {},
   "outputs": [
    {
     "name": "stdout",
     "output_type": "stream",
     "text": [
      "Best model test f1 score is 0.184\n"
     ]
    }
   ],
   "source": [
    "svc = SVC(kernel = 'poly', degree = 10)\n",
    "X_sresampled, y_sresampled = SMOTE().fit_resample(train_fp2, y_train2)\n",
    "svc.fit(X_sresampled, y_sresampled)\n",
    "test_predictions = rfc.predict(test_fp2)\n",
    "score = f1_score(y_test2, test_predictions)\n",
    "print(f\"Best model test f1 score is {round(score, 3)}\")"
   ]
  },
  {
   "cell_type": "markdown",
   "metadata": {},
   "source": [
    "### 4. (2 балла) Логирование"
   ]
  },
  {
   "attachments": {
    "image-2.png": {
     "image/png": "[encoded data removed]"
    }
   },
   "cell_type": "markdown",
   "metadata": {},
   "source": [
    "![image-2.png](attachment:image-2.png)"
   ]
  }
 ],
 "metadata": {
  "colab": {
   "collapsed_sections": [],
   "name": "IB_Practice_COVID.ipynb",
   "provenance": []
  },
  "kernelspec": {
   "display_name": "Python 3 (ipykernel)",
   "language": "python",
   "name": "python3"
  },
  "language_info": {
   "codemirror_mode": {
    "name": "ipython",
    "version": 3
   },
   "file_extension": ".py",
   "mimetype": "text/x-python",
   "name": "python",
   "nbconvert_exporter": "python",
   "pygments_lexer": "ipython3",
   "version": "3.9.7"
  },
  "nav_menu": {
   "height": "279px",
   "width": "309px"
  },
  "toc": {
   "nav_menu": {},
   "number_sections": true,
   "sideBar": true,
   "skip_h1_title": false,
   "toc_cell": false,
   "toc_position": {},
   "toc_section_display": "block",
   "toc_window_display": false
  }
 },
 "nbformat": 4,
 "nbformat_minor": 1
}
