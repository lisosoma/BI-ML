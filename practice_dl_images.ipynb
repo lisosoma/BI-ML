{
  "nbformat": 4,
  "nbformat_minor": 0,
  "metadata": {
    "colab": {
      "name": "practice_dl_images",
      "provenance": [],
      "collapsed_sections": [],
      "include_colab_link": true
    },
    "kernelspec": {
      "name": "python3",
      "display_name": "Python 3"
    },
    "language_info": {
      "name": "python"
    },
    "accelerator": "GPU",
    "widgets": {
      "application/vnd.jupyter.widget-state+json": {
        "ccf2ed75de96449e90582015bf5472cd": {
          "model_module": "@jupyter-widgets/controls",
          "model_name": "HBoxModel",
          "model_module_version": "1.5.0",
          "state": {
            "_dom_classes": [],
            "_model_module": "@jupyter-widgets/controls",
            "_model_module_version": "1.5.0",
            "_model_name": "HBoxModel",
            "_view_count": null,
            "_view_module": "@jupyter-widgets/controls",
            "_view_module_version": "1.5.0",
            "_view_name": "HBoxView",
            "box_style": "",
            "children": [
              "IPY_MODEL_8a56eeb58b0e40e382fafb0ea21ec905",
              "IPY_MODEL_e98ee61ec394463fa9d26e5fd7728a2a",
              "IPY_MODEL_81a2cac3cd5c42b99e85aafafb4f7a23"
            ],
            "layout": "IPY_MODEL_4fd47ce818e4444daf65927f3d225bfd"
          }
        },
        "8a56eeb58b0e40e382fafb0ea21ec905": {
          "model_module": "@jupyter-widgets/controls",
          "model_name": "HTMLModel",
          "model_module_version": "1.5.0",
          "state": {
            "_dom_classes": [],
            "_model_module": "@jupyter-widgets/controls",
            "_model_module_version": "1.5.0",
            "_model_name": "HTMLModel",
            "_view_count": null,
            "_view_module": "@jupyter-widgets/controls",
            "_view_module_version": "1.5.0",
            "_view_name": "HTMLView",
            "description": "",
            "description_tooltip": null,
            "layout": "IPY_MODEL_7de5336cabc14f4197ac3e6ff235eec1",
            "placeholder": "​",
            "style": "IPY_MODEL_721ec1f1b4e04c51817cefa88f391bb0",
            "value": "100%"
          }
        },
        "e98ee61ec394463fa9d26e5fd7728a2a": {
          "model_module": "@jupyter-widgets/controls",
          "model_name": "FloatProgressModel",
          "model_module_version": "1.5.0",
          "state": {
            "_dom_classes": [],
            "_model_module": "@jupyter-widgets/controls",
            "_model_module_version": "1.5.0",
            "_model_name": "FloatProgressModel",
            "_view_count": null,
            "_view_module": "@jupyter-widgets/controls",
            "_view_module_version": "1.5.0",
            "_view_name": "ProgressView",
            "bar_style": "success",
            "description": "",
            "description_tooltip": null,
            "layout": "IPY_MODEL_ea86a0c0b8b847f3826e9aad3081b3e3",
            "max": 531460341,
            "min": 0,
            "orientation": "horizontal",
            "style": "IPY_MODEL_2f81dcd00dcb48ebb71dd7ad51ed8e41",
            "value": 531460341
          }
        },
        "81a2cac3cd5c42b99e85aafafb4f7a23": {
          "model_module": "@jupyter-widgets/controls",
          "model_name": "HTMLModel",
          "model_module_version": "1.5.0",
          "state": {
            "_dom_classes": [],
            "_model_module": "@jupyter-widgets/controls",
            "_model_module_version": "1.5.0",
            "_model_name": "HTMLModel",
            "_view_count": null,
            "_view_module": "@jupyter-widgets/controls",
            "_view_module_version": "1.5.0",
            "_view_name": "HTMLView",
            "description": "",
            "description_tooltip": null,
            "layout": "IPY_MODEL_945c22fa78824674be79e5080186750c",
            "placeholder": "​",
            "style": "IPY_MODEL_3fa8e4cd5e304501bfb59710703c10bd",
            "value": " 507M/507M [00:03&lt;00:00, 150MB/s]"
          }
        },
        "4fd47ce818e4444daf65927f3d225bfd": {
          "model_module": "@jupyter-widgets/base",
          "model_name": "LayoutModel",
          "model_module_version": "1.2.0",
          "state": {
            "_model_module": "@jupyter-widgets/base",
            "_model_module_version": "1.2.0",
            "_model_name": "LayoutModel",
            "_view_count": null,
            "_view_module": "@jupyter-widgets/base",
            "_view_module_version": "1.2.0",
            "_view_name": "LayoutView",
            "align_content": null,
            "align_items": null,
            "align_self": null,
            "border": null,
            "bottom": null,
            "display": null,
            "flex": null,
            "flex_flow": null,
            "grid_area": null,
            "grid_auto_columns": null,
            "grid_auto_flow": null,
            "grid_auto_rows": null,
            "grid_column": null,
            "grid_gap": null,
            "grid_row": null,
            "grid_template_areas": null,
            "grid_template_columns": null,
            "grid_template_rows": null,
            "height": null,
            "justify_content": null,
            "justify_items": null,
            "left": null,
            "margin": null,
            "max_height": null,
            "max_width": null,
            "min_height": null,
            "min_width": null,
            "object_fit": null,
            "object_position": null,
            "order": null,
            "overflow": null,
            "overflow_x": null,
            "overflow_y": null,
            "padding": null,
            "right": null,
            "top": null,
            "visibility": null,
            "width": null
          }
        },
        "7de5336cabc14f4197ac3e6ff235eec1": {
          "model_module": "@jupyter-widgets/base",
          "model_name": "LayoutModel",
          "model_module_version": "1.2.0",
          "state": {
            "_model_module": "@jupyter-widgets/base",
            "_model_module_version": "1.2.0",
            "_model_name": "LayoutModel",
            "_view_count": null,
            "_view_module": "@jupyter-widgets/base",
            "_view_module_version": "1.2.0",
            "_view_name": "LayoutView",
            "align_content": null,
            "align_items": null,
            "align_self": null,
            "border": null,
            "bottom": null,
            "display": null,
            "flex": null,
            "flex_flow": null,
            "grid_area": null,
            "grid_auto_columns": null,
            "grid_auto_flow": null,
            "grid_auto_rows": null,
            "grid_column": null,
            "grid_gap": null,
            "grid_row": null,
            "grid_template_areas": null,
            "grid_template_columns": null,
            "grid_template_rows": null,
            "height": null,
            "justify_content": null,
            "justify_items": null,
            "left": null,
            "margin": null,
            "max_height": null,
            "max_width": null,
            "min_height": null,
            "min_width": null,
            "object_fit": null,
            "object_position": null,
            "order": null,
            "overflow": null,
            "overflow_x": null,
            "overflow_y": null,
            "padding": null,
            "right": null,
            "top": null,
            "visibility": null,
            "width": null
          }
        },
        "721ec1f1b4e04c51817cefa88f391bb0": {
          "model_module": "@jupyter-widgets/controls",
          "model_name": "DescriptionStyleModel",
          "model_module_version": "1.5.0",
          "state": {
            "_model_module": "@jupyter-widgets/controls",
            "_model_module_version": "1.5.0",
            "_model_name": "DescriptionStyleModel",
            "_view_count": null,
            "_view_module": "@jupyter-widgets/base",
            "_view_module_version": "1.2.0",
            "_view_name": "StyleView",
            "description_width": ""
          }
        },
        "ea86a0c0b8b847f3826e9aad3081b3e3": {
          "model_module": "@jupyter-widgets/base",
          "model_name": "LayoutModel",
          "model_module_version": "1.2.0",
          "state": {
            "_model_module": "@jupyter-widgets/base",
            "_model_module_version": "1.2.0",
            "_model_name": "LayoutModel",
            "_view_count": null,
            "_view_module": "@jupyter-widgets/base",
            "_view_module_version": "1.2.0",
            "_view_name": "LayoutView",
            "align_content": null,
            "align_items": null,
            "align_self": null,
            "border": null,
            "bottom": null,
            "display": null,
            "flex": null,
            "flex_flow": null,
            "grid_area": null,
            "grid_auto_columns": null,
            "grid_auto_flow": null,
            "grid_auto_rows": null,
            "grid_column": null,
            "grid_gap": null,
            "grid_row": null,
            "grid_template_areas": null,
            "grid_template_columns": null,
            "grid_template_rows": null,
            "height": null,
            "justify_content": null,
            "justify_items": null,
            "left": null,
            "margin": null,
            "max_height": null,
            "max_width": null,
            "min_height": null,
            "min_width": null,
            "object_fit": null,
            "object_position": null,
            "order": null,
            "overflow": null,
            "overflow_x": null,
            "overflow_y": null,
            "padding": null,
            "right": null,
            "top": null,
            "visibility": null,
            "width": null
          }
        },
        "2f81dcd00dcb48ebb71dd7ad51ed8e41": {
          "model_module": "@jupyter-widgets/controls",
          "model_name": "ProgressStyleModel",
          "model_module_version": "1.5.0",
          "state": {
            "_model_module": "@jupyter-widgets/controls",
            "_model_module_version": "1.5.0",
            "_model_name": "ProgressStyleModel",
            "_view_count": null,
            "_view_module": "@jupyter-widgets/base",
            "_view_module_version": "1.2.0",
            "_view_name": "StyleView",
            "bar_color": null,
            "description_width": ""
          }
        },
        "945c22fa78824674be79e5080186750c": {
          "model_module": "@jupyter-widgets/base",
          "model_name": "LayoutModel",
          "model_module_version": "1.2.0",
          "state": {
            "_model_module": "@jupyter-widgets/base",
            "_model_module_version": "1.2.0",
            "_model_name": "LayoutModel",
            "_view_count": null,
            "_view_module": "@jupyter-widgets/base",
            "_view_module_version": "1.2.0",
            "_view_name": "LayoutView",
            "align_content": null,
            "align_items": null,
            "align_self": null,
            "border": null,
            "bottom": null,
            "display": null,
            "flex": null,
            "flex_flow": null,
            "grid_area": null,
            "grid_auto_columns": null,
            "grid_auto_flow": null,
            "grid_auto_rows": null,
            "grid_column": null,
            "grid_gap": null,
            "grid_row": null,
            "grid_template_areas": null,
            "grid_template_columns": null,
            "grid_template_rows": null,
            "height": null,
            "justify_content": null,
            "justify_items": null,
            "left": null,
            "margin": null,
            "max_height": null,
            "max_width": null,
            "min_height": null,
            "min_width": null,
            "object_fit": null,
            "object_position": null,
            "order": null,
            "overflow": null,
            "overflow_x": null,
            "overflow_y": null,
            "padding": null,
            "right": null,
            "top": null,
            "visibility": null,
            "width": null
          }
        },
        "3fa8e4cd5e304501bfb59710703c10bd": {
          "model_module": "@jupyter-widgets/controls",
          "model_name": "DescriptionStyleModel",
          "model_module_version": "1.5.0",
          "state": {
            "_model_module": "@jupyter-widgets/controls",
            "_model_module_version": "1.5.0",
            "_model_name": "DescriptionStyleModel",
            "_view_count": null,
            "_view_module": "@jupyter-widgets/base",
            "_view_module_version": "1.2.0",
            "_view_name": "StyleView",
            "description_width": ""
          }
        },
        "282384bac31e444a9e6ba069108dd983": {
          "model_module": "@jupyter-widgets/controls",
          "model_name": "HBoxModel",
          "model_module_version": "1.5.0",
          "state": {
            "_dom_classes": [],
            "_model_module": "@jupyter-widgets/controls",
            "_model_module_version": "1.5.0",
            "_model_name": "HBoxModel",
            "_view_count": null,
            "_view_module": "@jupyter-widgets/controls",
            "_view_module_version": "1.5.0",
            "_view_name": "HBoxView",
            "box_style": "",
            "children": [
              "IPY_MODEL_75500b7f6cc6413c904b54bf7eadc1ee",
              "IPY_MODEL_a38c42a6f4864e17ad0cb115f8afe2db",
              "IPY_MODEL_34c5b8dd96ab4f38bcbfb098b383c437"
            ],
            "layout": "IPY_MODEL_ef4affa2cc95462496a0f14fab795859"
          }
        },
        "75500b7f6cc6413c904b54bf7eadc1ee": {
          "model_module": "@jupyter-widgets/controls",
          "model_name": "HTMLModel",
          "model_module_version": "1.5.0",
          "state": {
            "_dom_classes": [],
            "_model_module": "@jupyter-widgets/controls",
            "_model_module_version": "1.5.0",
            "_model_name": "HTMLModel",
            "_view_count": null,
            "_view_module": "@jupyter-widgets/controls",
            "_view_module_version": "1.5.0",
            "_view_name": "HTMLView",
            "description": "",
            "description_tooltip": null,
            "layout": "IPY_MODEL_9b2c77216fab4ed7a24b68eea98db817",
            "placeholder": "​",
            "style": "IPY_MODEL_547d74a4bb8e417cafc1a79795f77022",
            "value": ""
          }
        },
        "a38c42a6f4864e17ad0cb115f8afe2db": {
          "model_module": "@jupyter-widgets/controls",
          "model_name": "FloatProgressModel",
          "model_module_version": "1.5.0",
          "state": {
            "_dom_classes": [],
            "_model_module": "@jupyter-widgets/controls",
            "_model_module_version": "1.5.0",
            "_model_name": "FloatProgressModel",
            "_view_count": null,
            "_view_module": "@jupyter-widgets/controls",
            "_view_module_version": "1.5.0",
            "_view_name": "ProgressView",
            "bar_style": "success",
            "description": "",
            "description_tooltip": null,
            "layout": "IPY_MODEL_d779963a902e4e9da4eaaa2ae25238f5",
            "max": 170498071,
            "min": 0,
            "orientation": "horizontal",
            "style": "IPY_MODEL_1810bb61b7944a56a983e963bced077a",
            "value": 170498071
          }
        },
        "34c5b8dd96ab4f38bcbfb098b383c437": {
          "model_module": "@jupyter-widgets/controls",
          "model_name": "HTMLModel",
          "model_module_version": "1.5.0",
          "state": {
            "_dom_classes": [],
            "_model_module": "@jupyter-widgets/controls",
            "_model_module_version": "1.5.0",
            "_model_name": "HTMLModel",
            "_view_count": null,
            "_view_module": "@jupyter-widgets/controls",
            "_view_module_version": "1.5.0",
            "_view_name": "HTMLView",
            "description": "",
            "description_tooltip": null,
            "layout": "IPY_MODEL_b3b6b0c57764446db1a588bfceaac33c",
            "placeholder": "​",
            "style": "IPY_MODEL_4df37b4d5e8e4c349a57b763d982cbf2",
            "value": " 170499072/? [00:03&lt;00:00, 53174598.73it/s]"
          }
        },
        "ef4affa2cc95462496a0f14fab795859": {
          "model_module": "@jupyter-widgets/base",
          "model_name": "LayoutModel",
          "model_module_version": "1.2.0",
          "state": {
            "_model_module": "@jupyter-widgets/base",
            "_model_module_version": "1.2.0",
            "_model_name": "LayoutModel",
            "_view_count": null,
            "_view_module": "@jupyter-widgets/base",
            "_view_module_version": "1.2.0",
            "_view_name": "LayoutView",
            "align_content": null,
            "align_items": null,
            "align_self": null,
            "border": null,
            "bottom": null,
            "display": null,
            "flex": null,
            "flex_flow": null,
            "grid_area": null,
            "grid_auto_columns": null,
            "grid_auto_flow": null,
            "grid_auto_rows": null,
            "grid_column": null,
            "grid_gap": null,
            "grid_row": null,
            "grid_template_areas": null,
            "grid_template_columns": null,
            "grid_template_rows": null,
            "height": null,
            "justify_content": null,
            "justify_items": null,
            "left": null,
            "margin": null,
            "max_height": null,
            "max_width": null,
            "min_height": null,
            "min_width": null,
            "object_fit": null,
            "object_position": null,
            "order": null,
            "overflow": null,
            "overflow_x": null,
            "overflow_y": null,
            "padding": null,
            "right": null,
            "top": null,
            "visibility": null,
            "width": null
          }
        },
        "9b2c77216fab4ed7a24b68eea98db817": {
          "model_module": "@jupyter-widgets/base",
          "model_name": "LayoutModel",
          "model_module_version": "1.2.0",
          "state": {
            "_model_module": "@jupyter-widgets/base",
            "_model_module_version": "1.2.0",
            "_model_name": "LayoutModel",
            "_view_count": null,
            "_view_module": "@jupyter-widgets/base",
            "_view_module_version": "1.2.0",
            "_view_name": "LayoutView",
            "align_content": null,
            "align_items": null,
            "align_self": null,
            "border": null,
            "bottom": null,
            "display": null,
            "flex": null,
            "flex_flow": null,
            "grid_area": null,
            "grid_auto_columns": null,
            "grid_auto_flow": null,
            "grid_auto_rows": null,
            "grid_column": null,
            "grid_gap": null,
            "grid_row": null,
            "grid_template_areas": null,
            "grid_template_columns": null,
            "grid_template_rows": null,
            "height": null,
            "justify_content": null,
            "justify_items": null,
            "left": null,
            "margin": null,
            "max_height": null,
            "max_width": null,
            "min_height": null,
            "min_width": null,
            "object_fit": null,
            "object_position": null,
            "order": null,
            "overflow": null,
            "overflow_x": null,
            "overflow_y": null,
            "padding": null,
            "right": null,
            "top": null,
            "visibility": null,
            "width": null
          }
        },
        "547d74a4bb8e417cafc1a79795f77022": {
          "model_module": "@jupyter-widgets/controls",
          "model_name": "DescriptionStyleModel",
          "model_module_version": "1.5.0",
          "state": {
            "_model_module": "@jupyter-widgets/controls",
            "_model_module_version": "1.5.0",
            "_model_name": "DescriptionStyleModel",
            "_view_count": null,
            "_view_module": "@jupyter-widgets/base",
            "_view_module_version": "1.2.0",
            "_view_name": "StyleView",
            "description_width": ""
          }
        },
        "d779963a902e4e9da4eaaa2ae25238f5": {
          "model_module": "@jupyter-widgets/base",
          "model_name": "LayoutModel",
          "model_module_version": "1.2.0",
          "state": {
            "_model_module": "@jupyter-widgets/base",
            "_model_module_version": "1.2.0",
            "_model_name": "LayoutModel",
            "_view_count": null,
            "_view_module": "@jupyter-widgets/base",
            "_view_module_version": "1.2.0",
            "_view_name": "LayoutView",
            "align_content": null,
            "align_items": null,
            "align_self": null,
            "border": null,
            "bottom": null,
            "display": null,
            "flex": null,
            "flex_flow": null,
            "grid_area": null,
            "grid_auto_columns": null,
            "grid_auto_flow": null,
            "grid_auto_rows": null,
            "grid_column": null,
            "grid_gap": null,
            "grid_row": null,
            "grid_template_areas": null,
            "grid_template_columns": null,
            "grid_template_rows": null,
            "height": null,
            "justify_content": null,
            "justify_items": null,
            "left": null,
            "margin": null,
            "max_height": null,
            "max_width": null,
            "min_height": null,
            "min_width": null,
            "object_fit": null,
            "object_position": null,
            "order": null,
            "overflow": null,
            "overflow_x": null,
            "overflow_y": null,
            "padding": null,
            "right": null,
            "top": null,
            "visibility": null,
            "width": null
          }
        },
        "1810bb61b7944a56a983e963bced077a": {
          "model_module": "@jupyter-widgets/controls",
          "model_name": "ProgressStyleModel",
          "model_module_version": "1.5.0",
          "state": {
            "_model_module": "@jupyter-widgets/controls",
            "_model_module_version": "1.5.0",
            "_model_name": "ProgressStyleModel",
            "_view_count": null,
            "_view_module": "@jupyter-widgets/base",
            "_view_module_version": "1.2.0",
            "_view_name": "StyleView",
            "bar_color": null,
            "description_width": ""
          }
        },
        "b3b6b0c57764446db1a588bfceaac33c": {
          "model_module": "@jupyter-widgets/base",
          "model_name": "LayoutModel",
          "model_module_version": "1.2.0",
          "state": {
            "_model_module": "@jupyter-widgets/base",
            "_model_module_version": "1.2.0",
            "_model_name": "LayoutModel",
            "_view_count": null,
            "_view_module": "@jupyter-widgets/base",
            "_view_module_version": "1.2.0",
            "_view_name": "LayoutView",
            "align_content": null,
            "align_items": null,
            "align_self": null,
            "border": null,
            "bottom": null,
            "display": null,
            "flex": null,
            "flex_flow": null,
            "grid_area": null,
            "grid_auto_columns": null,
            "grid_auto_flow": null,
            "grid_auto_rows": null,
            "grid_column": null,
            "grid_gap": null,
            "grid_row": null,
            "grid_template_areas": null,
            "grid_template_columns": null,
            "grid_template_rows": null,
            "height": null,
            "justify_content": null,
            "justify_items": null,
            "left": null,
            "margin": null,
            "max_height": null,
            "max_width": null,
            "min_height": null,
            "min_width": null,
            "object_fit": null,
            "object_position": null,
            "order": null,
            "overflow": null,
            "overflow_x": null,
            "overflow_y": null,
            "padding": null,
            "right": null,
            "top": null,
            "visibility": null,
            "width": null
          }
        },
        "4df37b4d5e8e4c349a57b763d982cbf2": {
          "model_module": "@jupyter-widgets/controls",
          "model_name": "DescriptionStyleModel",
          "model_module_version": "1.5.0",
          "state": {
            "_model_module": "@jupyter-widgets/controls",
            "_model_module_version": "1.5.0",
            "_model_name": "DescriptionStyleModel",
            "_view_count": null,
            "_view_module": "@jupyter-widgets/base",
            "_view_module_version": "1.2.0",
            "_view_name": "StyleView",
            "description_width": ""
          }
        },
        "9498ce56c2394ff2a4344250012cd27e": {
          "model_module": "@jupyter-widgets/controls",
          "model_name": "HBoxModel",
          "model_module_version": "1.5.0",
          "state": {
            "_dom_classes": [],
            "_model_module": "@jupyter-widgets/controls",
            "_model_module_version": "1.5.0",
            "_model_name": "HBoxModel",
            "_view_count": null,
            "_view_module": "@jupyter-widgets/controls",
            "_view_module_version": "1.5.0",
            "_view_name": "HBoxView",
            "box_style": "",
            "children": [
              "IPY_MODEL_9840ae72f01147dca6a27d0f50cf153a",
              "IPY_MODEL_605964b9d03144ae99124242c9de95c4",
              "IPY_MODEL_653f2ac510dc4e399723458ea5336c44"
            ],
            "layout": "IPY_MODEL_a7477d1fa575457582a04b9a104ead40"
          }
        },
        "9840ae72f01147dca6a27d0f50cf153a": {
          "model_module": "@jupyter-widgets/controls",
          "model_name": "HTMLModel",
          "model_module_version": "1.5.0",
          "state": {
            "_dom_classes": [],
            "_model_module": "@jupyter-widgets/controls",
            "_model_module_version": "1.5.0",
            "_model_name": "HTMLModel",
            "_view_count": null,
            "_view_module": "@jupyter-widgets/controls",
            "_view_module_version": "1.5.0",
            "_view_name": "HTMLView",
            "description": "",
            "description_tooltip": null,
            "layout": "IPY_MODEL_d3fe61e7f4e14216b87b52572674cdfa",
            "placeholder": "​",
            "style": "IPY_MODEL_b431ce6c1cb9411189972eb8b1c96423",
            "value": "Epoch 19: 100%"
          }
        },
        "605964b9d03144ae99124242c9de95c4": {
          "model_module": "@jupyter-widgets/controls",
          "model_name": "FloatProgressModel",
          "model_module_version": "1.5.0",
          "state": {
            "_dom_classes": [],
            "_model_module": "@jupyter-widgets/controls",
            "_model_module_version": "1.5.0",
            "_model_name": "FloatProgressModel",
            "_view_count": null,
            "_view_module": "@jupyter-widgets/controls",
            "_view_module_version": "1.5.0",
            "_view_name": "ProgressView",
            "bar_style": "success",
            "description": "",
            "description_tooltip": null,
            "layout": "IPY_MODEL_617f3dc814b84bffbd89a1d19293cb5e",
            "max": 1,
            "min": 0,
            "orientation": "horizontal",
            "style": "IPY_MODEL_e4f4db71f81d4c70bf5e1aba2f34cb64",
            "value": 1
          }
        },
        "653f2ac510dc4e399723458ea5336c44": {
          "model_module": "@jupyter-widgets/controls",
          "model_name": "HTMLModel",
          "model_module_version": "1.5.0",
          "state": {
            "_dom_classes": [],
            "_model_module": "@jupyter-widgets/controls",
            "_model_module_version": "1.5.0",
            "_model_name": "HTMLModel",
            "_view_count": null,
            "_view_module": "@jupyter-widgets/controls",
            "_view_module_version": "1.5.0",
            "_view_name": "HTMLView",
            "description": "",
            "description_tooltip": null,
            "layout": "IPY_MODEL_9b6576c4c5f0445d8f971073ed6a217f",
            "placeholder": "​",
            "style": "IPY_MODEL_ef0d1938957f49069aed828ca8793a79",
            "value": " 391/391 [03:39&lt;00:00,  1.78it/s, loss=1.4, v_num=0]"
          }
        },
        "a7477d1fa575457582a04b9a104ead40": {
          "model_module": "@jupyter-widgets/base",
          "model_name": "LayoutModel",
          "model_module_version": "1.2.0",
          "state": {
            "_model_module": "@jupyter-widgets/base",
            "_model_module_version": "1.2.0",
            "_model_name": "LayoutModel",
            "_view_count": null,
            "_view_module": "@jupyter-widgets/base",
            "_view_module_version": "1.2.0",
            "_view_name": "LayoutView",
            "align_content": null,
            "align_items": null,
            "align_self": null,
            "border": null,
            "bottom": null,
            "display": "inline-flex",
            "flex": null,
            "flex_flow": "row wrap",
            "grid_area": null,
            "grid_auto_columns": null,
            "grid_auto_flow": null,
            "grid_auto_rows": null,
            "grid_column": null,
            "grid_gap": null,
            "grid_row": null,
            "grid_template_areas": null,
            "grid_template_columns": null,
            "grid_template_rows": null,
            "height": null,
            "justify_content": null,
            "justify_items": null,
            "left": null,
            "margin": null,
            "max_height": null,
            "max_width": null,
            "min_height": null,
            "min_width": null,
            "object_fit": null,
            "object_position": null,
            "order": null,
            "overflow": null,
            "overflow_x": null,
            "overflow_y": null,
            "padding": null,
            "right": null,
            "top": null,
            "visibility": null,
            "width": "100%"
          }
        },
        "d3fe61e7f4e14216b87b52572674cdfa": {
          "model_module": "@jupyter-widgets/base",
          "model_name": "LayoutModel",
          "model_module_version": "1.2.0",
          "state": {
            "_model_module": "@jupyter-widgets/base",
            "_model_module_version": "1.2.0",
            "_model_name": "LayoutModel",
            "_view_count": null,
            "_view_module": "@jupyter-widgets/base",
            "_view_module_version": "1.2.0",
            "_view_name": "LayoutView",
            "align_content": null,
            "align_items": null,
            "align_self": null,
            "border": null,
            "bottom": null,
            "display": null,
            "flex": null,
            "flex_flow": null,
            "grid_area": null,
            "grid_auto_columns": null,
            "grid_auto_flow": null,
            "grid_auto_rows": null,
            "grid_column": null,
            "grid_gap": null,
            "grid_row": null,
            "grid_template_areas": null,
            "grid_template_columns": null,
            "grid_template_rows": null,
            "height": null,
            "justify_content": null,
            "justify_items": null,
            "left": null,
            "margin": null,
            "max_height": null,
            "max_width": null,
            "min_height": null,
            "min_width": null,
            "object_fit": null,
            "object_position": null,
            "order": null,
            "overflow": null,
            "overflow_x": null,
            "overflow_y": null,
            "padding": null,
            "right": null,
            "top": null,
            "visibility": null,
            "width": null
          }
        },
        "b431ce6c1cb9411189972eb8b1c96423": {
          "model_module": "@jupyter-widgets/controls",
          "model_name": "DescriptionStyleModel",
          "model_module_version": "1.5.0",
          "state": {
            "_model_module": "@jupyter-widgets/controls",
            "_model_module_version": "1.5.0",
            "_model_name": "DescriptionStyleModel",
            "_view_count": null,
            "_view_module": "@jupyter-widgets/base",
            "_view_module_version": "1.2.0",
            "_view_name": "StyleView",
            "description_width": ""
          }
        },
        "617f3dc814b84bffbd89a1d19293cb5e": {
          "model_module": "@jupyter-widgets/base",
          "model_name": "LayoutModel",
          "model_module_version": "1.2.0",
          "state": {
            "_model_module": "@jupyter-widgets/base",
            "_model_module_version": "1.2.0",
            "_model_name": "LayoutModel",
            "_view_count": null,
            "_view_module": "@jupyter-widgets/base",
            "_view_module_version": "1.2.0",
            "_view_name": "LayoutView",
            "align_content": null,
            "align_items": null,
            "align_self": null,
            "border": null,
            "bottom": null,
            "display": null,
            "flex": "2",
            "flex_flow": null,
            "grid_area": null,
            "grid_auto_columns": null,
            "grid_auto_flow": null,
            "grid_auto_rows": null,
            "grid_column": null,
            "grid_gap": null,
            "grid_row": null,
            "grid_template_areas": null,
            "grid_template_columns": null,
            "grid_template_rows": null,
            "height": null,
            "justify_content": null,
            "justify_items": null,
            "left": null,
            "margin": null,
            "max_height": null,
            "max_width": null,
            "min_height": null,
            "min_width": null,
            "object_fit": null,
            "object_position": null,
            "order": null,
            "overflow": null,
            "overflow_x": null,
            "overflow_y": null,
            "padding": null,
            "right": null,
            "top": null,
            "visibility": null,
            "width": null
          }
        },
        "e4f4db71f81d4c70bf5e1aba2f34cb64": {
          "model_module": "@jupyter-widgets/controls",
          "model_name": "ProgressStyleModel",
          "model_module_version": "1.5.0",
          "state": {
            "_model_module": "@jupyter-widgets/controls",
            "_model_module_version": "1.5.0",
            "_model_name": "ProgressStyleModel",
            "_view_count": null,
            "_view_module": "@jupyter-widgets/base",
            "_view_module_version": "1.2.0",
            "_view_name": "StyleView",
            "bar_color": null,
            "description_width": ""
          }
        },
        "9b6576c4c5f0445d8f971073ed6a217f": {
          "model_module": "@jupyter-widgets/base",
          "model_name": "LayoutModel",
          "model_module_version": "1.2.0",
          "state": {
            "_model_module": "@jupyter-widgets/base",
            "_model_module_version": "1.2.0",
            "_model_name": "LayoutModel",
            "_view_count": null,
            "_view_module": "@jupyter-widgets/base",
            "_view_module_version": "1.2.0",
            "_view_name": "LayoutView",
            "align_content": null,
            "align_items": null,
            "align_self": null,
            "border": null,
            "bottom": null,
            "display": null,
            "flex": null,
            "flex_flow": null,
            "grid_area": null,
            "grid_auto_columns": null,
            "grid_auto_flow": null,
            "grid_auto_rows": null,
            "grid_column": null,
            "grid_gap": null,
            "grid_row": null,
            "grid_template_areas": null,
            "grid_template_columns": null,
            "grid_template_rows": null,
            "height": null,
            "justify_content": null,
            "justify_items": null,
            "left": null,
            "margin": null,
            "max_height": null,
            "max_width": null,
            "min_height": null,
            "min_width": null,
            "object_fit": null,
            "object_position": null,
            "order": null,
            "overflow": null,
            "overflow_x": null,
            "overflow_y": null,
            "padding": null,
            "right": null,
            "top": null,
            "visibility": null,
            "width": null
          }
        },
        "ef0d1938957f49069aed828ca8793a79": {
          "model_module": "@jupyter-widgets/controls",
          "model_name": "DescriptionStyleModel",
          "model_module_version": "1.5.0",
          "state": {
            "_model_module": "@jupyter-widgets/controls",
            "_model_module_version": "1.5.0",
            "_model_name": "DescriptionStyleModel",
            "_view_count": null,
            "_view_module": "@jupyter-widgets/base",
            "_view_module_version": "1.2.0",
            "_view_name": "StyleView",
            "description_width": ""
          }
        }
      }
    }
  },
  "cells": [
    {
      "cell_type": "markdown",
      "metadata": {
        "id": "view-in-github",
        "colab_type": "text"
      },
      "source": [
        "<a href=\"https://colab.research.google.com/github/lisosoma/BI_ML/blob/main/practice_dl_images.ipynb\" target=\"_parent\"><img src=\"https://colab.research.google.com/assets/colab-badge.svg\" alt=\"Open In Colab\"/></a>"
      ]
    },
    {
      "cell_type": "code",
      "metadata": {
        "id": "At-vE2wZwGq7"
      },
      "source": [
        "import torch\n",
        "import numpy as np\n",
        "from sklearn.metrics import roc_auc_score"
      ],
      "execution_count": null,
      "outputs": []
    },
    {
      "cell_type": "markdown",
      "metadata": {
        "id": "-0YzElsbwY-Z"
      },
      "source": [
        "# Практикум 3, DL for images\n",
        "\n"
      ]
    },
    {
      "cell_type": "markdown",
      "metadata": {
        "id": "-CkwvRXh2h-G"
      },
      "source": [
        "## 1. Пример работы со свертками \n"
      ]
    },
    {
      "cell_type": "code",
      "metadata": {
        "colab": {
          "base_uri": "https://localhost:8080/",
          "height": 101,
          "referenced_widgets": [
            "282384bac31e444a9e6ba069108dd983",
            "75500b7f6cc6413c904b54bf7eadc1ee",
            "a38c42a6f4864e17ad0cb115f8afe2db",
            "34c5b8dd96ab4f38bcbfb098b383c437",
            "ef4affa2cc95462496a0f14fab795859",
            "9b2c77216fab4ed7a24b68eea98db817",
            "547d74a4bb8e417cafc1a79795f77022",
            "d779963a902e4e9da4eaaa2ae25238f5",
            "1810bb61b7944a56a983e963bced077a",
            "b3b6b0c57764446db1a588bfceaac33c",
            "4df37b4d5e8e4c349a57b763d982cbf2"
          ]
        },
        "id": "6ylVOrzTEDGG",
        "outputId": "e5bc6909-e080-44b1-f43b-139f4e8bbdd1"
      },
      "source": [
        "import torch\n",
        "from torch.utils.data import Dataset\n",
        "from torchvision import datasets\n",
        "from torchvision import transforms\n",
        "\n",
        "transform = transforms.Compose([transforms.ToTensor(), transforms.Normalize(mean=(0.5, 0.5, 0.5), std=(0.5, 0.5, 0.5))])\n",
        "\n",
        "training_data = datasets.CIFAR10(\n",
        "    root='data',\n",
        "    train=True, \n",
        "    download=True,\n",
        "    transform=transform\n",
        ")\n",
        "\n",
        "test_data = datasets.CIFAR10(\n",
        "    root='data',\n",
        "    train=False, \n",
        "    download=True,\n",
        "    transform=transform\n",
        ")\n",
        "\n",
        "trainloader = torch.utils.data.DataLoader(training_data, batch_size=128, shuffle=True)\n",
        "testloader = torch.utils.data.DataLoader(test_data, batch_size=128, shuffle=False)\n"
      ],
      "execution_count": null,
      "outputs": [
        {
          "output_type": "stream",
          "name": "stdout",
          "text": [
            "Downloading https://www.cs.toronto.edu/~kriz/cifar-10-python.tar.gz to data/cifar-10-python.tar.gz\n"
          ]
        },
        {
          "output_type": "display_data",
          "data": {
            "text/plain": [
              "  0%|          | 0/170498071 [00:00<?, ?it/s]"
            ],
            "application/vnd.jupyter.widget-view+json": {
              "version_major": 2,
              "version_minor": 0,
              "model_id": "282384bac31e444a9e6ba069108dd983"
            }
          },
          "metadata": {}
        },
        {
          "output_type": "stream",
          "name": "stdout",
          "text": [
            "Extracting data/cifar-10-python.tar.gz to data\n",
            "Files already downloaded and verified\n"
          ]
        }
      ]
    },
    {
      "cell_type": "code",
      "metadata": {
        "id": "abwVD97jEGn-"
      },
      "source": [
        "from torch import nn\n",
        "import torch.nn.functional as F\n",
        "\n",
        "class CNN(nn.Module):\n",
        "  def __init__(self):\n",
        "    super().__init__()\n",
        "    self.conv1 = nn.Conv2d(3, 6, 5)\n",
        "    self.pool = nn.MaxPool2d(2, 2)\n",
        "    self.conv2 = nn.Conv2d(6, 16, 5)\n",
        "    self.fc1 = nn.Linear(16*5*5, 120)\n",
        "    self.fc2 = nn.Linear(120, 84)\n",
        "    self.fc3 = nn.Linear(84, 10)\n",
        "\n",
        "  def forward(self, x):\n",
        "    x = self.pool(F.relu(self.conv1(x)))\n",
        "    x = self.pool(F.relu(self.conv2(x)))\n",
        "    x = torch.flatten(x, 1)\n",
        "    x = F.relu(self.fc1(x))\n",
        "    x = F.relu(self.fc2(x))\n",
        "    x = self.fc3(x)\n",
        "    return x\n"
      ],
      "execution_count": null,
      "outputs": []
    },
    {
      "cell_type": "code",
      "metadata": {
        "id": "DxaOnGpvEGqW"
      },
      "source": [
        "import torch.optim as optim\n",
        "\n",
        "model = CNN()\n",
        "criterion = nn.CrossEntropyLoss()\n",
        "optimizer = optim.SGD(model.parameters(), lr = 0.001, momentum = 0.9)"
      ],
      "execution_count": null,
      "outputs": []
    },
    {
      "cell_type": "code",
      "metadata": {
        "id": "i-fKF4HP3x8c",
        "colab": {
          "base_uri": "https://localhost:8080/"
        },
        "outputId": "426093f5-9a05-4a2b-c245-1a1eafa78f25"
      },
      "source": [
        "for epoch in range(10):  # loop over the dataset multiple times\n",
        "\n",
        "    running_loss = 0.0\n",
        "    for i, data in enumerate(trainloader, 0):\n",
        "        # get the inputs; data is a list of [inputs, labels]\n",
        "        inputs, labels = data\n",
        "\n",
        "        # zero the parameter gradients\n",
        "        optimizer.zero_grad()\n",
        "\n",
        "        # forward + backward + optimize\n",
        "        outputs = model(inputs)\n",
        "        loss = criterion(outputs, labels)\n",
        "        loss.backward()\n",
        "        optimizer.step()\n",
        "\n",
        "        # print statistics\n",
        "        running_loss += loss.item()\n",
        "        if i % 100 == 0:    # print every 2000 mini-batches\n",
        "            print('[%d, %5d] loss: %.3f' %\n",
        "                  (epoch + 1, i + 1, running_loss / 2000))\n",
        "            running_loss = 0.0\n",
        "\n",
        "print('Finished Training')"
      ],
      "execution_count": null,
      "outputs": [
        {
          "output_type": "stream",
          "name": "stdout",
          "text": [
            "[1,     1] loss: 0.001\n",
            "[1,   101] loss: 0.115\n",
            "[1,   201] loss: 0.115\n",
            "[1,   301] loss: 0.115\n",
            "[2,     1] loss: 0.001\n",
            "[2,   101] loss: 0.115\n",
            "[2,   201] loss: 0.115\n",
            "[2,   301] loss: 0.115\n",
            "[3,     1] loss: 0.001\n",
            "[3,   101] loss: 0.114\n",
            "[3,   201] loss: 0.114\n",
            "[3,   301] loss: 0.112\n",
            "[4,     1] loss: 0.001\n",
            "[4,   101] loss: 0.107\n",
            "[4,   201] loss: 0.105\n",
            "[4,   301] loss: 0.103\n",
            "[5,     1] loss: 0.001\n",
            "[5,   101] loss: 0.099\n",
            "[5,   201] loss: 0.098\n",
            "[5,   301] loss: 0.097\n",
            "[6,     1] loss: 0.001\n",
            "[6,   101] loss: 0.094\n",
            "[6,   201] loss: 0.093\n",
            "[6,   301] loss: 0.091\n",
            "[7,     1] loss: 0.001\n",
            "[7,   101] loss: 0.089\n",
            "[7,   201] loss: 0.088\n",
            "[7,   301] loss: 0.086\n",
            "[8,     1] loss: 0.001\n",
            "[8,   101] loss: 0.084\n",
            "[8,   201] loss: 0.084\n",
            "[8,   301] loss: 0.082\n",
            "[9,     1] loss: 0.001\n",
            "[9,   101] loss: 0.082\n",
            "[9,   201] loss: 0.080\n",
            "[9,   301] loss: 0.079\n",
            "[10,     1] loss: 0.001\n",
            "[10,   101] loss: 0.078\n",
            "[10,   201] loss: 0.078\n",
            "[10,   301] loss: 0.077\n",
            "Finished Training\n"
          ]
        }
      ]
    },
    {
      "cell_type": "code",
      "metadata": {
        "id": "ar6MX5lM3Ppa",
        "colab": {
          "base_uri": "https://localhost:8080/"
        },
        "outputId": "c486ba8e-d8b9-4c2f-8ef1-8f43bb30fa89"
      },
      "source": [
        "correct = 0\n",
        "total = 0\n",
        "# since we're not training, we don't need to calculate the gradients for our outputs\n",
        "model.eval()\n",
        "with torch.no_grad():\n",
        "    for data in testloader:\n",
        "        images, labels = data\n",
        "        # calculate outputs by running images through the network\n",
        "        outputs = model(images)\n",
        "        # the class with the highest energy is what we choose as prediction\n",
        "        _, predicted = torch.max(outputs.data, 1)\n",
        "        total += labels.size(0)\n",
        "        correct += (predicted == labels).sum().item()\n",
        "\n",
        "print('Accuracy of the network on the 10000 test images: %d %%' % (\n",
        "    100 * correct / total))"
      ],
      "execution_count": null,
      "outputs": [
        {
          "output_type": "stream",
          "name": "stdout",
          "text": [
            "Accuracy of the network on the 10000 test images: 44 %\n"
          ]
        }
      ]
    },
    {
      "cell_type": "code",
      "metadata": {
        "id": "0prEH1Q1IAFn",
        "colab": {
          "base_uri": "https://localhost:8080/"
        },
        "outputId": "9b559c26-72f6-4003-c2d7-c69384f24b6d"
      },
      "source": [
        "# prepare to count predictions for each class\n",
        "classes = ('plane', 'car', 'bird', 'cat',\n",
        "           'deer', 'dog', 'frog', 'horse', 'ship', 'truck')\n",
        "\n",
        "correct_pred = {classname: 0 for classname in classes}\n",
        "total_pred = {classname: 0 for classname in classes}\n",
        "\n",
        "# again no gradients needed\n",
        "with torch.no_grad():\n",
        "    for data in testloader:\n",
        "        images, labels = data\n",
        "        outputs = model(images)\n",
        "        _, predictions = torch.max(outputs, 1)\n",
        "        # collect the correct predictions for each class\n",
        "        for label, prediction in zip(labels, predictions):\n",
        "            if label == prediction:\n",
        "                correct_pred[classes[label]] += 1\n",
        "            total_pred[classes[label]] += 1\n",
        "\n",
        "\n",
        "# print accuracy for each class\n",
        "for classname, correct_count in correct_pred.items():\n",
        "    accuracy = 100 * float(correct_count) / total_pred[classname]\n",
        "    print(\"Accuracy for class {:5s} is: {:.1f} %\".format(classname,\n",
        "                                                   accuracy))"
      ],
      "execution_count": null,
      "outputs": [
        {
          "output_type": "stream",
          "name": "stdout",
          "text": [
            "Accuracy for class plane is: 41.5 %\n",
            "Accuracy for class car   is: 61.9 %\n",
            "Accuracy for class bird  is: 22.0 %\n",
            "Accuracy for class cat   is: 23.6 %\n",
            "Accuracy for class deer  is: 31.5 %\n",
            "Accuracy for class dog   is: 43.3 %\n",
            "Accuracy for class frog  is: 60.6 %\n",
            "Accuracy for class horse is: 56.3 %\n",
            "Accuracy for class ship  is: 53.0 %\n",
            "Accuracy for class truck is: 50.7 %\n"
          ]
        }
      ]
    },
    {
      "cell_type": "markdown",
      "metadata": {
        "id": "LUk__4JR-7sE"
      },
      "source": [
        "# Задание 1\n",
        "\n",
        "Написать и обучить нейронную сеть на датасете CIFAR (5 баллов)\n",
        "1. Замените сверточные слои размера 5х5 на два идущих подряд слоя размером 3х3\n",
        "2. Обучите модель на GPU, 20 эпох\n",
        "\n",
        "\n",
        "Дополнительно:\n",
        "1. (5 баллов) Переписать код с использованием pytorch lightning (см. документацию фреймворка https://pytorch-lightning.readthedocs.io/en/latest/starter/introduction.html)"
      ]
    },
    {
      "cell_type": "markdown",
      "source": [
        "### Написать и обучить нейронную сеть на датасете CIFAR (5 баллов)"
      ],
      "metadata": {
        "id": "k_FzmY65rXzp"
      }
    },
    {
      "cell_type": "markdown",
      "source": [
        "1. Замените сверточные слои размера 5х5 на два идущих подряд слоя размером 3х3\n",
        "\n",
        "Заменим слои 5x5, используя то же самое количество фильтров. Pool будем применять после двух сверток 3х3."
      ],
      "metadata": {
        "id": "MnP63kBxoTCL"
      }
    },
    {
      "cell_type": "code",
      "source": [
        "from torch import nn\n",
        "import torch.nn.functional as F\n",
        "\n",
        "class CNN(nn.Module):\n",
        "  def __init__(self):\n",
        "    super().__init__()\n",
        "    self.conv1 = nn.Conv2d(3, 6, 3)\n",
        "    self.conv2 = nn.Conv2d(6, 6, 3)\n",
        "    self.pool = nn.MaxPool2d(2, 2)\n",
        "    self.conv3 = nn.Conv2d(6, 16, 3)\n",
        "    self.conv4 = nn.Conv2d(16, 16, 3)\n",
        "    self.fc1 = nn.Linear(16*5*5, 120)\n",
        "    self.fc2 = nn.Linear(120, 84)\n",
        "    self.fc3 = nn.Linear(84, 10)\n",
        "\n",
        "  def forward(self, x):\n",
        "    x = self.conv1(x)\n",
        "    x = self.pool(F.relu(self.conv2(x)))\n",
        "    x = self.conv3(x)\n",
        "    x = self.pool(F.relu(self.conv4(x)))\n",
        "    x = torch.flatten(x, 1)\n",
        "    x = F.relu(self.fc1(x))\n",
        "    x = F.relu(self.fc2(x))\n",
        "    x = self.fc3(x)\n",
        "    return x\n"
      ],
      "metadata": {
        "id": "d5ZXD4BxWJyZ"
      },
      "execution_count": null,
      "outputs": []
    },
    {
      "cell_type": "code",
      "source": [
        "model = CNN()\n",
        "criterion = nn.CrossEntropyLoss()\n",
        "optimizer = optim.SGD(model.parameters(), lr = 0.001, momentum = 0.9)"
      ],
      "metadata": {
        "id": "PDp2TbFlWpV4"
      },
      "execution_count": null,
      "outputs": []
    },
    {
      "cell_type": "markdown",
      "source": [
        "2. Обучите модель на GPU, 20 эпох"
      ],
      "metadata": {
        "id": "YBH_7xVGqisS"
      }
    },
    {
      "cell_type": "code",
      "source": [
        "for epoch in range(20):  # loop over the dataset multiple times\n",
        "\n",
        "    running_loss = 0.0\n",
        "    for i, data in enumerate(trainloader, 0):\n",
        "        # get the inputs; data is a list of [inputs, labels]\n",
        "        inputs, labels = data\n",
        "\n",
        "        # zero the parameter gradients\n",
        "        optimizer.zero_grad()\n",
        "\n",
        "        # forward + backward + optimize\n",
        "        outputs = model(inputs)\n",
        "        loss = criterion(outputs, labels)\n",
        "        loss.backward()\n",
        "        optimizer.step()\n",
        "\n",
        "        # print statistics\n",
        "        running_loss += loss.item()\n",
        "        if i % 100 == 0:    # print every 100 mini-batches\n",
        "            print('[%d, %5d] loss: %.3f' %\n",
        "                  (epoch + 1, i + 1, running_loss / 2000))\n",
        "            running_loss = 0.0\n",
        "\n",
        "print('Finished Training')"
      ],
      "metadata": {
        "colab": {
          "base_uri": "https://localhost:8080/"
        },
        "id": "Squ7V8ufWtJp",
        "outputId": "6a28b170-f36b-408b-961f-3193aadc9c03"
      },
      "execution_count": null,
      "outputs": [
        {
          "output_type": "stream",
          "name": "stdout",
          "text": [
            "[1,     1] loss: 0.001\n",
            "[1,   101] loss: 0.115\n",
            "[1,   201] loss: 0.115\n",
            "[1,   301] loss: 0.115\n",
            "[2,     1] loss: 0.001\n",
            "[2,   101] loss: 0.115\n",
            "[2,   201] loss: 0.115\n",
            "[2,   301] loss: 0.115\n",
            "[3,     1] loss: 0.001\n",
            "[3,   101] loss: 0.115\n",
            "[3,   201] loss: 0.115\n",
            "[3,   301] loss: 0.115\n",
            "[4,     1] loss: 0.001\n",
            "[4,   101] loss: 0.115\n",
            "[4,   201] loss: 0.115\n",
            "[4,   301] loss: 0.115\n",
            "[5,     1] loss: 0.001\n",
            "[5,   101] loss: 0.115\n",
            "[5,   201] loss: 0.115\n",
            "[5,   301] loss: 0.115\n",
            "[6,     1] loss: 0.001\n",
            "[6,   101] loss: 0.115\n",
            "[6,   201] loss: 0.115\n",
            "[6,   301] loss: 0.114\n",
            "[7,     1] loss: 0.001\n",
            "[7,   101] loss: 0.113\n",
            "[7,   201] loss: 0.111\n",
            "[7,   301] loss: 0.108\n",
            "[8,     1] loss: 0.001\n",
            "[8,   101] loss: 0.104\n",
            "[8,   201] loss: 0.103\n",
            "[8,   301] loss: 0.102\n",
            "[9,     1] loss: 0.001\n",
            "[9,   101] loss: 0.100\n",
            "[9,   201] loss: 0.098\n",
            "[9,   301] loss: 0.098\n",
            "[10,     1] loss: 0.001\n",
            "[10,   101] loss: 0.096\n",
            "[10,   201] loss: 0.094\n",
            "[10,   301] loss: 0.093\n",
            "[11,     1] loss: 0.001\n",
            "[11,   101] loss: 0.091\n",
            "[11,   201] loss: 0.090\n",
            "[11,   301] loss: 0.090\n",
            "[12,     1] loss: 0.001\n",
            "[12,   101] loss: 0.088\n",
            "[12,   201] loss: 0.087\n",
            "[12,   301] loss: 0.086\n",
            "[13,     1] loss: 0.001\n",
            "[13,   101] loss: 0.085\n",
            "[13,   201] loss: 0.083\n",
            "[13,   301] loss: 0.083\n",
            "[14,     1] loss: 0.001\n",
            "[14,   101] loss: 0.082\n",
            "[14,   201] loss: 0.082\n",
            "[14,   301] loss: 0.080\n",
            "[15,     1] loss: 0.001\n",
            "[15,   101] loss: 0.080\n",
            "[15,   201] loss: 0.080\n",
            "[15,   301] loss: 0.079\n",
            "[16,     1] loss: 0.001\n",
            "[16,   101] loss: 0.078\n",
            "[16,   201] loss: 0.077\n",
            "[16,   301] loss: 0.078\n",
            "[17,     1] loss: 0.001\n",
            "[17,   101] loss: 0.076\n",
            "[17,   201] loss: 0.075\n",
            "[17,   301] loss: 0.076\n",
            "[18,     1] loss: 0.001\n",
            "[18,   101] loss: 0.074\n",
            "[18,   201] loss: 0.074\n",
            "[18,   301] loss: 0.073\n",
            "[19,     1] loss: 0.001\n",
            "[19,   101] loss: 0.072\n",
            "[19,   201] loss: 0.072\n",
            "[19,   301] loss: 0.072\n",
            "[20,     1] loss: 0.001\n",
            "[20,   101] loss: 0.071\n",
            "[20,   201] loss: 0.070\n",
            "[20,   301] loss: 0.070\n",
            "Finished Training\n"
          ]
        }
      ]
    },
    {
      "cell_type": "code",
      "source": [
        "correct = 0\n",
        "total = 0\n",
        "# since we're not training, we don't need to calculate the gradients for our outputs\n",
        "model.eval()\n",
        "with torch.no_grad():\n",
        "    for data in testloader:\n",
        "        images, labels = data\n",
        "        # calculate outputs by running images through the network\n",
        "        outputs = model(images)\n",
        "        # the class with the highest energy is what we choose as prediction\n",
        "        _, predicted = torch.max(outputs.data, 1)\n",
        "        total += labels.size(0)\n",
        "        correct += (predicted == labels).sum().item()\n",
        "\n",
        "print('Accuracy of the network on the 10000 test images: %d %%' % (\n",
        "    100 * correct / total))"
      ],
      "metadata": {
        "colab": {
          "base_uri": "https://localhost:8080/"
        },
        "id": "15E3v5SqloaY",
        "outputId": "bafdec98-fba6-433a-aa36-bf9ed30a0972"
      },
      "execution_count": null,
      "outputs": [
        {
          "output_type": "stream",
          "name": "stdout",
          "text": [
            "Accuracy of the network on the 10000 test images: 48 %\n"
          ]
        }
      ]
    },
    {
      "cell_type": "markdown",
      "source": [
        "Как видно, точность увеличилась на 4%."
      ],
      "metadata": {
        "id": "q6sSRUuaqGIu"
      }
    },
    {
      "cell_type": "code",
      "source": [
        "# prepare to count predictions for each class\n",
        "classes = ('plane', 'car', 'bird', 'cat',\n",
        "           'deer', 'dog', 'frog', 'horse', 'ship', 'truck')\n",
        "\n",
        "correct_pred = {classname: 0 for classname in classes}\n",
        "total_pred = {classname: 0 for classname in classes}\n",
        "\n",
        "# again no gradients needed\n",
        "with torch.no_grad():\n",
        "    for data in testloader:\n",
        "        images, labels = data\n",
        "        outputs = model(images)\n",
        "        _, predictions = torch.max(outputs, 1)\n",
        "        # collect the correct predictions for each class\n",
        "        for label, prediction in zip(labels, predictions):\n",
        "            if label == prediction:\n",
        "                correct_pred[classes[label]] += 1\n",
        "            total_pred[classes[label]] += 1\n",
        "\n",
        "\n",
        "# print accuracy for each class\n",
        "for classname, correct_count in correct_pred.items():\n",
        "    accuracy = 100 * float(correct_count) / total_pred[classname]\n",
        "    print(\"Accuracy for class {:5s} is: {:.1f} %\".format(classname,\n",
        "                                                   accuracy))"
      ],
      "metadata": {
        "colab": {
          "base_uri": "https://localhost:8080/"
        },
        "id": "0PtXAxP6mG_X",
        "outputId": "2af5ece8-5460-4b8c-fbfd-84a74a2b7b10"
      },
      "execution_count": null,
      "outputs": [
        {
          "output_type": "stream",
          "name": "stdout",
          "text": [
            "Accuracy for class plane is: 45.4 %\n",
            "Accuracy for class car   is: 58.6 %\n",
            "Accuracy for class bird  is: 29.2 %\n",
            "Accuracy for class cat   is: 24.0 %\n",
            "Accuracy for class deer  is: 23.6 %\n",
            "Accuracy for class dog   is: 46.4 %\n",
            "Accuracy for class frog  is: 71.2 %\n",
            "Accuracy for class horse is: 62.4 %\n",
            "Accuracy for class ship  is: 66.8 %\n",
            "Accuracy for class truck is: 52.5 %\n"
          ]
        }
      ]
    },
    {
      "cell_type": "markdown",
      "source": [
        "### Дополнительно:\n",
        "1. (5 баллов) Переписать код с использованием pytorch lightning (см. документацию фреймворка https://pytorch-lightning.readthedocs.io/en/latest/starter/introduction.html)"
      ],
      "metadata": {
        "id": "jJD-gbTCVZcR"
      }
    },
    {
      "cell_type": "code",
      "source": [
        "!pip install pytorch-lightning"
      ],
      "metadata": {
        "id": "79o5ebg-VzjC"
      },
      "execution_count": null,
      "outputs": []
    },
    {
      "cell_type": "code",
      "source": [
        "import os\n",
        "import torch\n",
        "from torch import nn\n",
        "import torch.nn.functional as F\n",
        "from torchvision import transforms\n",
        "from torch.utils.data import DataLoader, random_split\n",
        "import pytorch_lightning as pl\n",
        "import torch.optim as optim"
      ],
      "metadata": {
        "id": "s2CKAJVtb1sI"
      },
      "execution_count": null,
      "outputs": []
    },
    {
      "cell_type": "markdown",
      "source": [
        "Создадим класс CNN, используя указанный фреймворк."
      ],
      "metadata": {
        "id": "0H8UR0Arl2jm"
      }
    },
    {
      "cell_type": "code",
      "source": [
        "CLASSES = 10\n",
        "IMG_SIZE = 32\n",
        "\n",
        "class CNN(pl.LightningModule):\n",
        "    def __init__(self):\n",
        "      super().__init__()\n",
        "      self.conv1 = nn.Conv2d(3, 6, 3)\n",
        "      self.conv2 = nn.Conv2d(6, 6, 3)\n",
        "      self.pool = nn.MaxPool2d(2, 2)\n",
        "      self.conv3 = nn.Conv2d(6, 16, 3)\n",
        "      self.conv4 = nn.Conv2d(16, 16, 3)\n",
        "      self.fc1 = nn.Linear(16*5*5, 120)\n",
        "      self.fc2 = nn.Linear(120, 84)\n",
        "      self.fc3 = nn.Linear(84, 10)\n",
        "\n",
        "    def forward(self,x):\n",
        "      x = self.conv1(x)\n",
        "      x = self.pool(F.relu(self.conv2(x)))\n",
        "      x = self.conv3(x)\n",
        "      x = self.pool(F.relu(self.conv4(x)))\n",
        "      x = torch.flatten(x, 1)\n",
        "      x = F.relu(self.fc1(x))\n",
        "      x = F.relu(self.fc2(x))\n",
        "      x = self.fc3(x)\n",
        "      return x\n",
        "\n",
        "    def loss_fn(self,out,target):\n",
        "      return nn.CrossEntropyLoss()(out.view(-1,CLASSES),target)\n",
        "    \n",
        "    def configure_optimizers(self):\n",
        "      optimizer = optim.SGD(model.parameters(), lr = 0.001, momentum = 0.9)\n",
        "      return optimizer\n",
        "\n",
        "    def training_step(self,batch,batch_idx):\n",
        "      x,y = batch\n",
        "      img = x.view(-1,3,IMG_SIZE,IMG_SIZE)\n",
        "      label = y.view(-1)\n",
        "      out = self(img)\n",
        "      loss = self.loss_fn(out,label)\n",
        "      self.log('train_loss', loss)\n",
        "      return loss       \n",
        "\n",
        "\n",
        "model = CNN()\n",
        "trainer = pl.Trainer(gpus=-1,max_epochs=20)\n",
        "trainer.fit(model, trainloader, testloader) "
      ],
      "metadata": {
        "colab": {
          "base_uri": "https://localhost:8080/",
          "height": 485,
          "referenced_widgets": [
            "9498ce56c2394ff2a4344250012cd27e",
            "9840ae72f01147dca6a27d0f50cf153a",
            "605964b9d03144ae99124242c9de95c4",
            "653f2ac510dc4e399723458ea5336c44",
            "a7477d1fa575457582a04b9a104ead40",
            "d3fe61e7f4e14216b87b52572674cdfa",
            "b431ce6c1cb9411189972eb8b1c96423",
            "617f3dc814b84bffbd89a1d19293cb5e",
            "e4f4db71f81d4c70bf5e1aba2f34cb64",
            "9b6576c4c5f0445d8f971073ed6a217f",
            "ef0d1938957f49069aed828ca8793a79"
          ]
        },
        "id": "reXacI2iixzP",
        "outputId": "0a4263a1-14cc-4ee6-f92e-a1fa17f80bfc"
      },
      "execution_count": null,
      "outputs": [
        {
          "output_type": "stream",
          "name": "stderr",
          "text": [
            "GPU available: True, used: True\n",
            "TPU available: False, using: 0 TPU cores\n",
            "IPU available: False, using: 0 IPUs\n",
            "HPU available: False, using: 0 HPUs\n",
            "/usr/local/lib/python3.7/dist-packages/pytorch_lightning/trainer/configuration_validator.py:131: UserWarning: You passed in a `val_dataloader` but have no `validation_step`. Skipping val loop.\n",
            "  rank_zero_warn(\"You passed in a `val_dataloader` but have no `validation_step`. Skipping val loop.\")\n",
            "Missing logger folder: /content/lightning_logs\n",
            "LOCAL_RANK: 0 - CUDA_VISIBLE_DEVICES: [0]\n",
            "\n",
            "  | Name  | Type      | Params\n",
            "------------------------------------\n",
            "0 | conv1 | Conv2d    | 168   \n",
            "1 | conv2 | Conv2d    | 330   \n",
            "2 | pool  | MaxPool2d | 0     \n",
            "3 | conv3 | Conv2d    | 880   \n",
            "4 | conv4 | Conv2d    | 2.3 K \n",
            "5 | fc1   | Linear    | 48.1 K\n",
            "6 | fc2   | Linear    | 10.2 K\n",
            "7 | fc3   | Linear    | 850   \n",
            "------------------------------------\n",
            "62.8 K    Trainable params\n",
            "0         Non-trainable params\n",
            "62.8 K    Total params\n",
            "0.251     Total estimated model params size (MB)\n"
          ]
        },
        {
          "output_type": "display_data",
          "data": {
            "text/plain": [
              "Training: 0it [00:00, ?it/s]"
            ],
            "application/vnd.jupyter.widget-view+json": {
              "version_major": 2,
              "version_minor": 0,
              "model_id": "9498ce56c2394ff2a4344250012cd27e"
            }
          },
          "metadata": {}
        }
      ]
    },
    {
      "cell_type": "code",
      "source": [
        "correct = 0\n",
        "total = 0\n",
        "# since we're not training, we don't need to calculate the gradients for our outputs\n",
        "model.eval()\n",
        "with torch.no_grad():\n",
        "    for data in testloader:\n",
        "        images, labels = data\n",
        "        # calculate outputs by running images through the network\n",
        "        outputs = model(images)\n",
        "        # the class with the highest energy is what we choose as prediction\n",
        "        _, predicted = torch.max(outputs.data, 1)\n",
        "        total += labels.size(0)\n",
        "        correct += (predicted == labels).sum().item()\n",
        "\n",
        "print('Accuracy of the network on the 10000 test images: %d %%' % (\n",
        "    100 * correct / total))"
      ],
      "metadata": {
        "colab": {
          "base_uri": "https://localhost:8080/"
        },
        "id": "1M5JqiDNlkzF",
        "outputId": "0ceafd3d-12d2-40c9-b2c1-e90183641642"
      },
      "execution_count": null,
      "outputs": [
        {
          "output_type": "stream",
          "name": "stdout",
          "text": [
            "Accuracy of the network on the 10000 test images: 49 %\n"
          ]
        }
      ]
    },
    {
      "cell_type": "code",
      "source": [
        "# prepare to count predictions for each class\n",
        "classes = ('plane', 'car', 'bird', 'cat',\n",
        "           'deer', 'dog', 'frog', 'horse', 'ship', 'truck')\n",
        "\n",
        "correct_pred = {classname: 0 for classname in classes}\n",
        "total_pred = {classname: 0 for classname in classes}\n",
        "\n",
        "# again no gradients needed\n",
        "with torch.no_grad():\n",
        "    for data in testloader:\n",
        "        images, labels = data\n",
        "        outputs = model(images)\n",
        "        _, predictions = torch.max(outputs, 1)\n",
        "        # collect the correct predictions for each class\n",
        "        for label, prediction in zip(labels, predictions):\n",
        "            if label == prediction:\n",
        "                correct_pred[classes[label]] += 1\n",
        "            total_pred[classes[label]] += 1\n",
        "\n",
        "\n",
        "# print accuracy for each class\n",
        "for classname, correct_count in correct_pred.items():\n",
        "    accuracy = 100 * float(correct_count) / total_pred[classname]\n",
        "    print(\"Accuracy for class {:5s} is: {:.1f} %\".format(classname,\n",
        "                                                   accuracy))"
      ],
      "metadata": {
        "colab": {
          "base_uri": "https://localhost:8080/"
        },
        "id": "6eDAKyWSlm9r",
        "outputId": "b15b40ff-d021-47c7-8fe9-1dc45502bb72"
      },
      "execution_count": null,
      "outputs": [
        {
          "output_type": "stream",
          "name": "stdout",
          "text": [
            "Accuracy for class plane is: 50.3 %\n",
            "Accuracy for class car   is: 73.4 %\n",
            "Accuracy for class bird  is: 25.7 %\n",
            "Accuracy for class cat   is: 23.6 %\n",
            "Accuracy for class deer  is: 44.0 %\n",
            "Accuracy for class dog   is: 46.4 %\n",
            "Accuracy for class frog  is: 65.1 %\n",
            "Accuracy for class horse is: 57.5 %\n",
            "Accuracy for class ship  is: 61.7 %\n",
            "Accuracy for class truck is: 50.3 %\n"
          ]
        }
      ]
    },
    {
      "cell_type": "markdown",
      "metadata": {
        "id": "ZbX6-eKiKSXF"
      },
      "source": [
        "## 2. Используем VGG"
      ]
    },
    {
      "cell_type": "code",
      "metadata": {
        "id": "gdcne3jmKIVn",
        "colab": {
          "base_uri": "https://localhost:8080/",
          "height": 87,
          "referenced_widgets": [
            "ccf2ed75de96449e90582015bf5472cd",
            "8a56eeb58b0e40e382fafb0ea21ec905",
            "e98ee61ec394463fa9d26e5fd7728a2a",
            "81a2cac3cd5c42b99e85aafafb4f7a23",
            "4fd47ce818e4444daf65927f3d225bfd",
            "7de5336cabc14f4197ac3e6ff235eec1",
            "721ec1f1b4e04c51817cefa88f391bb0",
            "ea86a0c0b8b847f3826e9aad3081b3e3",
            "2f81dcd00dcb48ebb71dd7ad51ed8e41",
            "945c22fa78824674be79e5080186750c",
            "3fa8e4cd5e304501bfb59710703c10bd"
          ]
        },
        "outputId": "45b3f8be-fdf8-4515-8b27-44c7dbedf93d"
      },
      "source": [
        "import torchvision.models as models\n",
        "\n",
        "vgg11 = models.vgg11(pretrained=True)"
      ],
      "execution_count": null,
      "outputs": [
        {
          "output_type": "stream",
          "name": "stderr",
          "text": [
            "Downloading: \"https://download.pytorch.org/models/vgg11-8a719046.pth\" to /root/.cache/torch/hub/checkpoints/vgg11-8a719046.pth\n"
          ]
        },
        {
          "output_type": "display_data",
          "data": {
            "text/plain": [
              "  0%|          | 0.00/507M [00:00<?, ?B/s]"
            ],
            "application/vnd.jupyter.widget-view+json": {
              "version_major": 2,
              "version_minor": 0,
              "model_id": "ccf2ed75de96449e90582015bf5472cd"
            }
          },
          "metadata": {}
        }
      ]
    },
    {
      "cell_type": "code",
      "metadata": {
        "id": "7TmemCeDLWMS",
        "colab": {
          "base_uri": "https://localhost:8080/"
        },
        "outputId": "6792f7d4-3600-4f78-e206-2b1ce62ad45a"
      },
      "source": [
        "from torchvision import transforms\n",
        "\n",
        "transform = transforms.Compose(\n",
        "    [transforms.ToTensor(),\n",
        "     transforms.Normalize((0.4914, 0.4822, 0.4465), (0.2023, 0.1994, 0.2010))])\n",
        "\n",
        "training_data = datasets.CIFAR10(\n",
        "    root=\"data\", # root is the path where the train/test data is stored\n",
        "    train=True, # train specifies training or test dataset\n",
        "    download=True, # download=True downloads the data from the internet if it’s not available at root\n",
        "    transform=transform # transform and target_transform specify the feature and label transformations\n",
        ")\n",
        "\n",
        "test_data = datasets.CIFAR10(\n",
        "    root=\"data\",\n",
        "    train=False,\n",
        "    download=True,\n",
        "    transform=transform\n",
        ")\n",
        "\n",
        "trainloader = torch.utils.data.DataLoader(training_data, batch_size=128,\n",
        "                                          shuffle=True, num_workers=2)\n",
        "\n",
        "testloader = torch.utils.data.DataLoader(test_data, batch_size=128,\n",
        "                                         shuffle=False, num_workers=2)\n",
        "\n",
        "classes = ('plane', 'car', 'bird', 'cat',\n",
        "           'deer', 'dog', 'frog', 'horse', 'ship', 'truck')"
      ],
      "execution_count": null,
      "outputs": [
        {
          "output_type": "stream",
          "name": "stdout",
          "text": [
            "Files already downloaded and verified\n",
            "Files already downloaded and verified\n"
          ]
        }
      ]
    },
    {
      "cell_type": "markdown",
      "metadata": {
        "id": "jUnx7Kq8L5ly"
      },
      "source": [
        "# Задание 2 (5 баллов)\n",
        "1. Обучитите на GPU претренированную модель VGG (минимум 5 эпох)\n",
        "2. Протестируйте ее на всех данных и на каждом классе отдельно\n",
        "\n",
        "Дополнительное задание (5 баллов):     \n",
        "\n",
        "* Взять какой-нибудь специфичный датасет с картинками\n",
        "* Взять претренированную VGG (или другу модель) и сделать transfer learning на выбранный датасет"
      ]
    },
    {
      "cell_type": "code",
      "source": [
        "model = vgg11\n",
        "criterion = nn.CrossEntropyLoss()\n",
        "optimizer = optim.SGD(model.parameters(), lr = 0.001, momentum = 0.9)"
      ],
      "metadata": {
        "id": "MRilgxRwrB5p"
      },
      "execution_count": null,
      "outputs": []
    },
    {
      "cell_type": "markdown",
      "source": [
        "1. Обучитите на GPU претренированную модель VGG (минимум 5 эпох)"
      ],
      "metadata": {
        "id": "d2idJnOyAWOK"
      }
    },
    {
      "cell_type": "code",
      "source": [
        "for epoch in range(5):  # loop over the dataset multiple times\n",
        "\n",
        "    running_loss = 0.0\n",
        "    for i, data in enumerate(trainloader, 0):\n",
        "        # get the inputs; data is a list of [inputs, labels]\n",
        "        inputs, labels = data\n",
        "\n",
        "        # zero the parameter gradients\n",
        "        optimizer.zero_grad()\n",
        "\n",
        "        # forward + backward + optimize\n",
        "        outputs = model(inputs)\n",
        "        loss = criterion(outputs, labels)\n",
        "        loss.backward()\n",
        "        optimizer.step()\n",
        "\n",
        "        # print statistics\n",
        "        running_loss += loss.item()\n",
        "        if i % 100 == 0:    # print every 100 mini-batches\n",
        "            print('[%d, %5d] loss: %.3f' %\n",
        "                  (epoch + 1, i + 1, running_loss / 2000))\n",
        "            running_loss = 0.0\n",
        "\n",
        "print('Finished Training')"
      ],
      "metadata": {
        "colab": {
          "base_uri": "https://localhost:8080/"
        },
        "id": "YOfyejKPrIo5",
        "outputId": "bb76d757-0426-4182-aae8-a1873da963d4"
      },
      "execution_count": null,
      "outputs": [
        {
          "output_type": "stream",
          "name": "stdout",
          "text": [
            "[1,     1] loss: 0.014\n",
            "[1,   101] loss: 0.138\n",
            "[1,   201] loss: 0.073\n",
            "[1,   301] loss: 0.058\n",
            "[2,     1] loss: 0.000\n",
            "[2,   101] loss: 0.045\n",
            "[2,   201] loss: 0.041\n",
            "[2,   301] loss: 0.038\n",
            "[3,     1] loss: 0.000\n",
            "[3,   101] loss: 0.034\n",
            "[3,   201] loss: 0.031\n",
            "[3,   301] loss: 0.031\n",
            "[4,     1] loss: 0.000\n",
            "[4,   101] loss: 0.027\n",
            "[4,   201] loss: 0.026\n",
            "[4,   301] loss: 0.027\n",
            "[5,     1] loss: 0.000\n",
            "[5,   101] loss: 0.023\n",
            "[5,   201] loss: 0.022\n",
            "[5,   301] loss: 0.022\n",
            "Finished Training\n"
          ]
        }
      ]
    },
    {
      "cell_type": "markdown",
      "source": [
        "2. Протестируйте ее на всех данных и на каждом классе отдельно"
      ],
      "metadata": {
        "id": "P9Dd4nowTCQM"
      }
    },
    {
      "cell_type": "code",
      "source": [
        "correct = 0\n",
        "total = 0\n",
        "# since we're not training, we don't need to calculate the gradients for our outputs\n",
        "model.eval()\n",
        "with torch.no_grad():\n",
        "    for data in testloader:\n",
        "        images, labels = data\n",
        "        # calculate outputs by running images through the network\n",
        "        outputs = model(images)\n",
        "        # the class with the highest energy is what we choose as prediction\n",
        "        _, predicted = torch.max(outputs.data, 1)\n",
        "        total += labels.size(0)\n",
        "        correct += (predicted == labels).sum().item()\n",
        "\n",
        "print('Accuracy of the network on the 10000 test images: %d %%' % (\n",
        "    100 * correct / total))"
      ],
      "metadata": {
        "colab": {
          "base_uri": "https://localhost:8080/"
        },
        "id": "UbnT6MuQSEqX",
        "outputId": "ee8a5768-0d70-4be3-a3aa-2e5d88b76128"
      },
      "execution_count": null,
      "outputs": [
        {
          "output_type": "stream",
          "name": "stdout",
          "text": [
            "Accuracy of the network on the 10000 test images: 80 %\n"
          ]
        }
      ]
    },
    {
      "cell_type": "code",
      "source": [
        "# prepare to count predictions for each class\n",
        "classes = ('plane', 'car', 'bird', 'cat',\n",
        "           'deer', 'dog', 'frog', 'horse', 'ship', 'truck')\n",
        "\n",
        "correct_pred = {classname: 0 for classname in classes}\n",
        "total_pred = {classname: 0 for classname in classes}\n",
        "\n",
        "# again no gradients needed\n",
        "with torch.no_grad():\n",
        "    for data in testloader:\n",
        "        images, labels = data\n",
        "        outputs = model(images)\n",
        "        _, predictions = torch.max(outputs, 1)\n",
        "        # collect the correct predictions for each class\n",
        "        for label, prediction in zip(labels, predictions):\n",
        "            if label == prediction:\n",
        "                correct_pred[classes[label]] += 1\n",
        "            total_pred[classes[label]] += 1\n",
        "\n",
        "\n",
        "# print accuracy for each class\n",
        "for classname, correct_count in correct_pred.items():\n",
        "    accuracy = 100 * float(correct_count) / total_pred[classname]\n",
        "    print(\"Accuracy for class {:5s} is: {:.1f} %\".format(classname,\n",
        "                                                   accuracy))"
      ],
      "metadata": {
        "colab": {
          "base_uri": "https://localhost:8080/"
        },
        "id": "zUULNdi-SJa_",
        "outputId": "ba552398-1c20-43d0-b4d7-346c5508c1f8"
      },
      "execution_count": null,
      "outputs": [
        {
          "output_type": "stream",
          "name": "stdout",
          "text": [
            "Accuracy for class plane is: 80.9 %\n",
            "Accuracy for class car   is: 93.2 %\n",
            "Accuracy for class bird  is: 60.8 %\n",
            "Accuracy for class cat   is: 67.4 %\n",
            "Accuracy for class deer  is: 81.2 %\n",
            "Accuracy for class dog   is: 76.4 %\n",
            "Accuracy for class frog  is: 85.6 %\n",
            "Accuracy for class horse is: 83.9 %\n",
            "Accuracy for class ship  is: 94.2 %\n",
            "Accuracy for class truck is: 83.4 %\n"
          ]
        }
      ]
    },
    {
      "cell_type": "markdown",
      "source": [
        "Как видно, точность увеличилась на 32%.\n"
      ],
      "metadata": {
        "id": "MmbtPpOLTEei"
      }
    }
  ]
}